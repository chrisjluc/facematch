{
 "cells": [
  {
   "cell_type": "code",
   "execution_count": 1,
   "metadata": {
    "collapsed": false
   },
   "outputs": [],
   "source": [
    "%load_ext autoreload"
   ]
  },
  {
   "cell_type": "code",
   "execution_count": 2,
   "metadata": {
    "collapsed": false
   },
   "outputs": [],
   "source": [
    "%matplotlib inline\n",
    "import sys\n",
    "sys.path.append('/home/ubuntu/FRS/facematch')\n",
    "\n",
    "import os\n",
    "\n",
    "from api import API\n",
    "from image import NoFaceDetectedException"
   ]
  },
  {
   "cell_type": "code",
   "execution_count": 3,
   "metadata": {
    "collapsed": true
   },
   "outputs": [],
   "source": [
    "data_path = '.data/lfw/'\n",
    "image = '.data/lfw/{0}/{0}_{1}.jpg'"
   ]
  },
  {
   "cell_type": "code",
   "execution_count": 4,
   "metadata": {
    "collapsed": true
   },
   "outputs": [],
   "source": [
    "def get_names_by_count(path):\n",
    "    count_by_names_dict = {}\n",
    "    for root, dirnames, filenames in os.walk(path):\n",
    "        for dirname in dirnames:\n",
    "            if dirname not in count_by_names_dict:\n",
    "                count_by_names_dict[dirname] = 0\n",
    "            directory_path = os.path.join(path, dirname)\n",
    "            for filename in os.listdir(directory_path):\n",
    "                if filename.endswith(\".jpg\"):\n",
    "                    count_by_names_dict[dirname] += 1\n",
    "    return [x for x in count_by_names_dict.iteritems()]"
   ]
  },
  {
   "cell_type": "code",
   "execution_count": 5,
   "metadata": {
    "collapsed": false
   },
   "outputs": [],
   "source": [
    "names_by_count = get_names_by_count(data_path)\n",
    "sorted_names_by_count = sorted(names_by_count, key=lambda x: x[1], reverse=True)"
   ]
  },
  {
   "cell_type": "code",
   "execution_count": 6,
   "metadata": {
    "collapsed": true
   },
   "outputs": [],
   "source": [
    "api = API()"
   ]
  },
  {
   "cell_type": "code",
   "execution_count": null,
   "metadata": {
    "collapsed": false
   },
   "outputs": [],
   "source": [
    "# api.remove_images()\n",
    "\n",
    "# for name, _ in sorted_names_by_count[:5]:\n",
    "#     for i in range(5):\n",
    "#         try:\n",
    "#             api.add_image(name, image.format(name, str(i + 1).zfill(4)))\n",
    "#         except NoFaceDetectedException:\n",
    "#             pass"
   ]
  },
  {
   "cell_type": "code",
   "execution_count": null,
   "metadata": {
    "collapsed": false,
    "scrolled": false
   },
   "outputs": [
    {
     "name": "stderr",
     "output_type": "stream",
     "text": [
      "Using gpu device 0: GRID K520 (CNMeM is enabled with initial size: 98.0% of memory, CuDNN 3007)\n",
      "Using Theano backend.\n"
     ]
    },
    {
     "name": "stdout",
     "output_type": "stream",
     "text": [
      "Train on 22739 samples, validate on 4013 samples\n",
      "Epoch 1/50\n",
      "22739/22739 [==============================] - 4s - loss: -39754.9537 - acc: 0.0459 - val_loss: -46371.7804 - val_acc: 0.0760\n",
      "Epoch 2/50\n",
      "22739/22739 [==============================] - 4s - loss: -48111.1019 - acc: 0.1117 - val_loss: -48894.4901 - val_acc: 0.1201\n",
      "Epoch 3/50\n",
      "22739/22739 [==============================] - 4s - loss: -50120.7654 - acc: 0.1519 - val_loss: -50389.8633 - val_acc: 0.1714\n",
      "Epoch 4/50\n",
      "22739/22739 [==============================] - 4s - loss: -51224.5781 - acc: 0.1852 - val_loss: -51147.6472 - val_acc: 0.1889\n",
      "Epoch 5/50\n",
      "22739/22739 [==============================] - 4s - loss: -51977.3573 - acc: 0.2081 - val_loss: -51823.5869 - val_acc: 0.2163\n",
      "Epoch 6/50\n",
      "22739/22739 [==============================] - 4s - loss: -52509.6124 - acc: 0.2279 - val_loss: -52103.8003 - val_acc: 0.2220\n",
      "Epoch 7/50\n",
      "22739/22739 [==============================] - 4s - loss: -52911.8958 - acc: 0.2429 - val_loss: -52546.0650 - val_acc: 0.2472\n",
      "Epoch 8/50\n",
      "22739/22739 [==============================] - 4s - loss: -53251.4372 - acc: 0.2622 - val_loss: -53011.4532 - val_acc: 0.2539\n",
      "Epoch 9/50\n",
      "22739/22739 [==============================] - 4s - loss: -53512.2948 - acc: 0.2687 - val_loss: -53077.2769 - val_acc: 0.2669\n",
      "Epoch 10/50\n",
      "22739/22739 [==============================] - 4s - loss: -53778.6265 - acc: 0.2785 - val_loss: -53289.5135 - val_acc: 0.2711\n",
      "Epoch 11/50\n",
      "22739/22739 [==============================] - 4s - loss: -53933.4412 - acc: 0.2884 - val_loss: -53442.6916 - val_acc: 0.2806\n",
      "Epoch 12/50\n",
      "22739/22739 [==============================] - 4s - loss: -54123.4319 - acc: 0.2922 - val_loss: -53554.6790 - val_acc: 0.2943\n",
      "Epoch 13/50\n",
      "22739/22739 [==============================] - 4s - loss: -54288.3252 - acc: 0.2999 - val_loss: -53605.4165 - val_acc: 0.2921\n",
      "Epoch 14/50\n",
      "22739/22739 [==============================] - 4s - loss: -54428.8359 - acc: 0.3074 - val_loss: -53790.6556 - val_acc: 0.3063\n",
      "Epoch 15/50\n",
      "22739/22739 [==============================] - 4s - loss: -54552.6828 - acc: 0.3140 - val_loss: -53905.8631 - val_acc: 0.3038\n",
      "Epoch 16/50\n",
      "22739/22739 [==============================] - 4s - loss: -54668.2389 - acc: 0.3191 - val_loss: -54051.2495 - val_acc: 0.3210\n",
      "Epoch 17/50\n",
      "22739/22739 [==============================] - 4s - loss: -54770.8019 - acc: 0.3251 - val_loss: -54089.4495 - val_acc: 0.3110\n",
      "Epoch 18/50\n",
      "22739/22739 [==============================] - 4s - loss: -54845.8628 - acc: 0.3281 - val_loss: -54150.4470 - val_acc: 0.3087\n",
      "Epoch 19/50\n",
      "22739/22739 [==============================] - 4s - loss: -54962.9120 - acc: 0.3280 - val_loss: -54229.2192 - val_acc: 0.3145\n",
      "Epoch 20/50\n",
      "22739/22739 [==============================] - 4s - loss: -55027.9755 - acc: 0.3316 - val_loss: -54202.8674 - val_acc: 0.3314\n",
      "Epoch 21/50\n",
      "22739/22739 [==============================] - 4s - loss: -55111.2951 - acc: 0.3386 - val_loss: -54331.1327 - val_acc: 0.3274\n",
      "Epoch 22/50\n",
      "22739/22739 [==============================] - 4s - loss: -55168.4862 - acc: 0.3406 - val_loss: -54313.7973 - val_acc: 0.3299\n",
      "Epoch 23/50\n",
      "22739/22739 [==============================] - 4s - loss: -55251.6451 - acc: 0.3438 - val_loss: -54442.7610 - val_acc: 0.3439\n",
      "Epoch 24/50\n",
      "22739/22739 [==============================] - 4s - loss: -55301.1948 - acc: 0.3451 - val_loss: -54505.6955 - val_acc: 0.3464\n",
      "Epoch 25/50\n",
      "22739/22739 [==============================] - 4s - loss: -55391.1328 - acc: 0.3495 - val_loss: -54678.0274 - val_acc: 0.3484\n",
      "Epoch 26/50\n",
      "18688/22739 [=======================>......] - ETA: 0s - loss: -55428.5596 - acc: 0.3512"
     ]
    }
   ],
   "source": [
    "api.train('test_model', train_cnns=False, extract_activations=False)"
   ]
  },
  {
   "cell_type": "code",
   "execution_count": null,
   "metadata": {
    "collapsed": false
   },
   "outputs": [],
   "source": [
    "api.load_model('test_model')"
   ]
  },
  {
   "cell_type": "code",
   "execution_count": null,
   "metadata": {
    "collapsed": false
   },
   "outputs": [],
   "source": [
    "image = '.data/lfw/George_W_Bush/George_W_Bush_0001.jpg'\n",
    "data = api.get_face_vector(image)"
   ]
  },
  {
   "cell_type": "code",
   "execution_count": null,
   "metadata": {
    "collapsed": false
   },
   "outputs": [],
   "source": [
    "data"
   ]
  },
  {
   "cell_type": "code",
   "execution_count": null,
   "metadata": {
    "collapsed": true
   },
   "outputs": [],
   "source": []
  }
 ],
 "metadata": {
  "kernelspec": {
   "display_name": "Python 2",
   "language": "python",
   "name": "python2"
  },
  "language_info": {
   "codemirror_mode": {
    "name": "ipython",
    "version": 2
   },
   "file_extension": ".py",
   "mimetype": "text/x-python",
   "name": "python",
   "nbconvert_exporter": "python",
   "pygments_lexer": "ipython2",
   "version": "2.7.6"
  }
 },
 "nbformat": 4,
 "nbformat_minor": 0
}
