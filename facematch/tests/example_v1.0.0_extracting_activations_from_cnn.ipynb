{
 "cells": [
  {
   "cell_type": "code",
   "execution_count": 1,
   "metadata": {
    "collapsed": false
   },
   "outputs": [],
   "source": [
    "%load_ext autoreload"
   ]
  },
  {
   "cell_type": "code",
   "execution_count": 2,
   "metadata": {
    "collapsed": false
   },
   "outputs": [
    {
     "name": "stderr",
     "output_type": "stream",
     "text": [
      "/usr/local/lib/python2.7/dist-packages/matplotlib/font_manager.py:273: UserWarning: Matplotlib is building the font cache using fc-list. This may take a moment.\n",
      "  warnings.warn('Matplotlib is building the font cache using fc-list. This may take a moment.')\n"
     ]
    }
   ],
   "source": [
    "%matplotlib inline\n",
    "import os\n",
    "\n",
    "from api import API\n",
    "from image import NoFaceDetectedException"
   ]
  },
  {
   "cell_type": "code",
   "execution_count": 3,
   "metadata": {
    "collapsed": true
   },
   "outputs": [],
   "source": [
    "data_path = 'tests/.data/lfw/'\n",
    "image = 'tests/.data/lfw/{0}/{0}_{1}.jpg'"
   ]
  },
  {
   "cell_type": "code",
   "execution_count": 4,
   "metadata": {
    "collapsed": true
   },
   "outputs": [],
   "source": [
    "def get_names_by_count(path):\n",
    "    count_by_names_dict = {}\n",
    "    for root, dirnames, filenames in os.walk(path):\n",
    "        for dirname in dirnames:\n",
    "            if dirname not in count_by_names_dict:\n",
    "                count_by_names_dict[dirname] = 0\n",
    "            directory_path = os.path.join(path, dirname)\n",
    "            for filename in os.listdir(directory_path):\n",
    "                if filename.endswith(\".jpg\"):\n",
    "                    count_by_names_dict[dirname] += 1\n",
    "    return [x for x in count_by_names_dict.iteritems()]"
   ]
  },
  {
   "cell_type": "code",
   "execution_count": 5,
   "metadata": {
    "collapsed": false
   },
   "outputs": [],
   "source": [
    "names_by_count = get_names_by_count(data_path)\n",
    "sorted_names_by_count = sorted(names_by_count, key=lambda x: x[1], reverse=True)"
   ]
  },
  {
   "cell_type": "code",
   "execution_count": 6,
   "metadata": {
    "collapsed": true
   },
   "outputs": [],
   "source": [
    "api = API()"
   ]
  },
  {
   "cell_type": "code",
   "execution_count": null,
   "metadata": {
    "collapsed": false
   },
   "outputs": [],
   "source": [
    "# api.remove_images()\n",
    "\n",
    "# for name, _ in sorted_names_by_count[:5]:\n",
    "#     for i in range(5):\n",
    "#         try:\n",
    "#             api.add_image(name, image.format(name, str(i + 1).zfill(4)))\n",
    "#         except NoFaceDetectedException:\n",
    "#             pass"
   ]
  },
  {
   "cell_type": "code",
   "execution_count": null,
   "metadata": {
    "collapsed": false,
    "scrolled": false
   },
   "outputs": [
    {
     "name": "stderr",
     "output_type": "stream",
     "text": [
      "Using gpu device 2: GRID K520 (CNMeM is enabled with initial size: 98.0% of memory, CuDNN 3007)\n",
      "Using Theano backend.\n",
      "INFO (theano.gof.compilelock): Waiting for existing lock by process '2241' (I am process '2243')\n",
      "INFO (theano.gof.compilelock): Waiting for existing lock by process '2241' (I am process '2247')\n",
      "INFO (theano.gof.compilelock): To manually release the lock, delete /home/ubuntu/.theano/compiledir_Linux-3.13--generic-x86_64-with-Ubuntu-14.04-trusty-x86_64-2.7.6-64/lock_dir\n",
      "INFO (theano.gof.compilelock): To manually release the lock, delete /home/ubuntu/.theano/compiledir_Linux-3.13--generic-x86_64-with-Ubuntu-14.04-trusty-x86_64-2.7.6-64/lock_dir\n",
      "Using gpu device 1: GRID K520 (CNMeM is enabled with initial size: 98.0% of memory, CuDNN 3007)\n",
      "Using Theano backend.\n",
      "INFO (theano.gof.compilelock): Waiting for existing lock by unknown process (I am process '2243')\n",
      "INFO (theano.gof.compilelock): To manually release the lock, delete /home/ubuntu/.theano/compiledir_Linux-3.13--generic-x86_64-with-Ubuntu-14.04-trusty-x86_64-2.7.6-64/lock_dir\n",
      "Using gpu device 3: GRID K520 (CNMeM is enabled with initial size: 98.0% of memory, CuDNN 3007)\n",
      "Using Theano backend.\n",
      "Using gpu device 0: GRID K520 (CNMeM is enabled with initial size: 98.0% of memory, CuDNN 3007)\n",
      "Using Theano backend.\n",
      "Using gpu device 3: GRID K520 (CNMeM is enabled with initial size: 98.0% of memory, CuDNN 3007)\n",
      "Using Theano backend.\n",
      "Using gpu device 3: GRID K520 (CNMeM is enabled with initial size: 98.0% of memory, CuDNN 3007)\n",
      "Using Theano backend.\n",
      "Using gpu device 3: GRID K520 (CNMeM is enabled with initial size: 98.0% of memory, CuDNN 3007)\n",
      "Using Theano backend.\n"
     ]
    }
   ],
   "source": [
    "api.train()"
   ]
  },
  {
   "cell_type": "code",
   "execution_count": null,
   "metadata": {
    "collapsed": true
   },
   "outputs": [],
   "source": []
  }
 ],
 "metadata": {
  "kernelspec": {
   "display_name": "Python 2",
   "language": "python",
   "name": "python2"
  },
  "language_info": {
   "codemirror_mode": {
    "name": "ipython",
    "version": 2
   },
   "file_extension": ".py",
   "mimetype": "text/x-python",
   "name": "python",
   "nbconvert_exporter": "python",
   "pygments_lexer": "ipython2",
   "version": "2.7.6"
  }
 },
 "nbformat": 4,
 "nbformat_minor": 0
}
