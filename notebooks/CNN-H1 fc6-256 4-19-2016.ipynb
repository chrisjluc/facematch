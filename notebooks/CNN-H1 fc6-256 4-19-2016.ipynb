{
 "cells": [
  {
   "cell_type": "markdown",
   "metadata": {},
   "source": [
    "<h1>CNN-H1 4-19-2016</h1>\n",
    "\n",
    "<strong>Abstract</strong>\n",
    "Implementing the CNN-H1 using NN2 described in the paper: http://arxiv.org/pdf/1509.00244v1.pdf. \n",
    "\n",
    "<strong>Improvements</strong>\n",
    "<ul>\n",
    "<li>Narrowed the width of faces to focus on the face, cut out background</li>\n",
    "<li>Validation split of 15%</li>\n",
    "<li>fc6 layer has a length of 256</li>\n",
    "</ul>"
   ]
  },
  {
   "cell_type": "code",
   "execution_count": 1,
   "metadata": {
    "collapsed": false
   },
   "outputs": [],
   "source": [
    "%load_ext autoreload"
   ]
  },
  {
   "cell_type": "code",
   "execution_count": 2,
   "metadata": {
    "collapsed": false
   },
   "outputs": [
    {
     "name": "stderr",
     "output_type": "stream",
     "text": [
      "Using Theano backend.\n",
      "Using gpu device 1: GRID K520 (CNMeM is enabled with initial size: 98.0% of memory, CuDNN 3007)\n"
     ]
    }
   ],
   "source": [
    "%autoreload 2\n",
    "%matplotlib inline\n",
    "\n",
    "import os\n",
    "import fnmatch\n",
    "import numpy as np\n",
    "\n",
    "from skimage import io\n",
    "from skimage.color import rgb2grey\n",
    "from skimage.transform import resize\n",
    "\n",
    "from keras.preprocessing.image import ImageDataGenerator\n",
    "from keras.models import Sequential\n",
    "from keras.layers.core import Dense, Dropout, Activation, Flatten\n",
    "from keras.layers.convolutional import Convolution2D, MaxPooling2D, ZeroPadding2D, AveragePooling2D\n",
    "from keras.optimizers import SGD\n",
    "from keras.utils import np_utils\n",
    "from keras.callbacks import EarlyStopping\n",
    "from keras.models import model_from_json\n",
    "\n",
    "np.random.seed(123456)"
   ]
  },
  {
   "cell_type": "code",
   "execution_count": 3,
   "metadata": {
    "collapsed": true
   },
   "outputs": [],
   "source": [
    "data_path = '../data/lfw_cropped'\n",
    "\n",
    "img_rows_load, img_cols_load = 160, 160\n",
    "img_rows, img_cols = 160, 120\n",
    "num_people = 600"
   ]
  },
  {
   "cell_type": "markdown",
   "metadata": {},
   "source": [
    "<h2>Loading Files</h2>"
   ]
  },
  {
   "cell_type": "code",
   "execution_count": 4,
   "metadata": {
    "collapsed": true
   },
   "outputs": [],
   "source": [
    "def get_face_to_file_path_dict():\n",
    "    face_to_file_paths_dict = {}\n",
    "    \n",
    "    for root, dirnames, filenames in os.walk(data_path):\n",
    "        for dirname in dirnames:\n",
    "            if dirname not in face_to_file_paths_dict:\n",
    "                face_to_file_paths_dict[dirname] = []\n",
    "            directory_path = os.path.join(data_path, dirname)\n",
    "            for filename in os.listdir(directory_path):\n",
    "                if filename.endswith(\".jpg\"):\n",
    "                    face_to_file_paths_dict[dirname].append(os.path.join(directory_path, filename))\n",
    "                            \n",
    "    return face_to_file_paths_dict"
   ]
  },
  {
   "cell_type": "code",
   "execution_count": 5,
   "metadata": {
    "collapsed": false
   },
   "outputs": [],
   "source": [
    "def get_face_to_file_paths_descending_list(face_to_file_paths_dict):\n",
    "    return sorted(face_to_file_paths_dict.items(), key=lambda x: len(x[1]), reverse=True)"
   ]
  },
  {
   "cell_type": "code",
   "execution_count": 6,
   "metadata": {
    "collapsed": true
   },
   "outputs": [],
   "source": [
    "face_to_file_paths_dict = get_face_to_file_path_dict()"
   ]
  },
  {
   "cell_type": "code",
   "execution_count": 7,
   "metadata": {
    "collapsed": false
   },
   "outputs": [],
   "source": [
    "face_to_file_paths_list = get_face_to_file_paths_descending_list(face_to_file_paths_dict)[:num_people]"
   ]
  },
  {
   "cell_type": "markdown",
   "metadata": {},
   "source": [
    "<h2>Data Pre-Processing</h2>"
   ]
  },
  {
   "cell_type": "code",
   "execution_count": 8,
   "metadata": {
    "collapsed": false
   },
   "outputs": [],
   "source": [
    "def image_read(f):\n",
    "    return resize(rgb2grey(io.imread(f)), (img_rows_load, img_cols_load))\n",
    "\n",
    "def reflection(image):\n",
    "    return np.array([list(reversed(row)) for row in image])\n",
    "\n",
    "def partition(image, top_left, rows, cols):\n",
    "    return np.array([row[top_left[1]:top_left[1] + cols] for row in image[top_left[0]:top_left[0] + rows]])"
   ]
  },
  {
   "cell_type": "code",
   "execution_count": 9,
   "metadata": {
    "collapsed": true
   },
   "outputs": [],
   "source": [
    "images_by_class = [[image_read(f) for f in x[1]] for x in face_to_file_paths_list]"
   ]
  },
  {
   "cell_type": "code",
   "execution_count": 10,
   "metadata": {
    "collapsed": false
   },
   "outputs": [],
   "source": [
    "for i in range(len(images_by_class)):\n",
    "    images_by_class[i] += [reflection(im) for im in images_by_class[i]]"
   ]
  },
  {
   "cell_type": "code",
   "execution_count": 11,
   "metadata": {
    "collapsed": false
   },
   "outputs": [],
   "source": [
    "for i in range(len(images_by_class)):\n",
    "    images_by_class[i] = [partition(im, (0, 20), img_rows, img_cols) for im in images_by_class[i]]"
   ]
  },
  {
   "cell_type": "code",
   "execution_count": 12,
   "metadata": {
    "collapsed": false
   },
   "outputs": [],
   "source": [
    "X_train = np.array([image for images in images_by_class for image in images])\n",
    "y_train = np.array([images[0] for images in enumerate(images_by_class) for image in images[1]])"
   ]
  },
  {
   "cell_type": "code",
   "execution_count": 13,
   "metadata": {
    "collapsed": true
   },
   "outputs": [],
   "source": [
    "zipped = np.array(zip(X_train, y_train))\n",
    "np.random.shuffle(zipped)"
   ]
  },
  {
   "cell_type": "code",
   "execution_count": 14,
   "metadata": {
    "collapsed": false
   },
   "outputs": [],
   "source": [
    "X_train = np.array([x[0] for x in zipped])\n",
    "y_train = np.array([x[1] for x in zipped])"
   ]
  },
  {
   "cell_type": "code",
   "execution_count": 15,
   "metadata": {
    "collapsed": false
   },
   "outputs": [],
   "source": [
    "X_train = X_train.reshape(X_train.shape[0], 1, img_rows, img_cols)\n",
    "Y_train = np_utils.to_categorical(y_train, len(images_by_class))"
   ]
  },
  {
   "cell_type": "markdown",
   "metadata": {},
   "source": [
    "<h2> Training and Validation</h2>"
   ]
  },
  {
   "cell_type": "code",
   "execution_count": 16,
   "metadata": {
    "collapsed": true
   },
   "outputs": [],
   "source": [
    "def NN2(input_shape, nb_classes, nb_fc6):\n",
    "    model = Sequential()\n",
    "    \n",
    "    # Layer 1\n",
    "    model.add(Convolution2D(64, 3, 3, activation='relu', input_shape=input_shape))\n",
    "    model.add(Convolution2D(128, 3, 3, activation='relu'))\n",
    "    model.add(MaxPooling2D((2,2), strides=(2,2)))\n",
    "\n",
    "    # Layer 2\n",
    "    model.add(Convolution2D(64, 3, 3, activation='relu'))\n",
    "    model.add(Convolution2D(128, 3, 3, activation='relu'))\n",
    "    model.add(MaxPooling2D((2,2), strides=(2,2)))\n",
    "\n",
    "    # Layer 3\n",
    "    model.add(ZeroPadding2D((1,1)))\n",
    "    model.add(Convolution2D(128, 3, 3, activation='relu'))\n",
    "    model.add(ZeroPadding2D((1,1)))\n",
    "    model.add(Convolution2D(128, 3, 3, activation='relu'))\n",
    "    model.add(ZeroPadding2D((1,1)))\n",
    "    model.add(MaxPooling2D((2,2), strides=(2,2)))\n",
    "\n",
    "    #Layer 4\n",
    "    model.add(ZeroPadding2D((1,1)))\n",
    "    model.add(Convolution2D(256, 3, 3, activation='relu'))\n",
    "    model.add(ZeroPadding2D((1,1)))\n",
    "    model.add(Convolution2D(256, 3, 3, activation='relu'))\n",
    "    model.add(ZeroPadding2D((1,1)))\n",
    "    model.add(Convolution2D(256, 3, 3, activation='relu'))\n",
    "    model.add(MaxPooling2D((2,2), strides=(2,2)))\n",
    "\n",
    "    #Layer 5\n",
    "    model.add(ZeroPadding2D((1,1)))\n",
    "    model.add(Convolution2D(256, 3, 3, activation='relu'))\n",
    "    model.add(ZeroPadding2D((1,1)))\n",
    "    model.add(Convolution2D(256, 3, 3, activation='relu'))\n",
    "    model.add(ZeroPadding2D((1,1)))\n",
    "    model.add(Convolution2D(256, 3, 3))\n",
    "    model.add(ZeroPadding2D((1,1)))\n",
    "    model.add(AveragePooling2D((2,2), strides=(2,2)))\n",
    "\n",
    "    model.add(Flatten())\n",
    "    model.add(Dropout(0.4))\n",
    "    model.add(Dense(nb_fc6))\n",
    "    model.add(Dense(nb_classes, activation='softmax'))\n",
    "   \n",
    "    return model"
   ]
  },
  {
   "cell_type": "code",
   "execution_count": 17,
   "metadata": {
    "collapsed": true
   },
   "outputs": [],
   "source": [
    "input_shape = (1, img_rows, img_cols)\n",
    "nb_fc6 = 256"
   ]
  },
  {
   "cell_type": "code",
   "execution_count": 18,
   "metadata": {
    "collapsed": false
   },
   "outputs": [
    {
     "name": "stdout",
     "output_type": "stream",
     "text": [
      "Train on 11352 samples, validate on 2004 samples\n",
      "Epoch 1/10\n",
      "11352/11352 [==============================] - 354s - loss: 5.9833 - acc: 0.0729 - val_loss: 5.8514 - val_acc: 0.0853\n",
      "Epoch 2/10\n",
      "11352/11352 [==============================] - 354s - loss: 5.7909 - acc: 0.0780 - val_loss: 5.8237 - val_acc: 0.0853\n",
      "Epoch 3/10\n",
      "11352/11352 [==============================] - 354s - loss: 5.7555 - acc: 0.0778 - val_loss: 5.8065 - val_acc: 0.0853\n",
      "Epoch 4/10\n",
      "11352/11352 [==============================] - 354s - loss: 5.7381 - acc: 0.0781 - val_loss: 5.8015 - val_acc: 0.0853\n",
      "Epoch 5/10\n",
      "11352/11352 [==============================] - 354s - loss: 5.7151 - acc: 0.0779 - val_loss: 5.7545 - val_acc: 0.0853\n",
      "Epoch 6/10\n",
      "11352/11352 [==============================] - 354s - loss: 5.6453 - acc: 0.0810 - val_loss: 5.7003 - val_acc: 0.0878\n",
      "Epoch 7/10\n",
      "11352/11352 [==============================] - 354s - loss: 5.5302 - acc: 0.0900 - val_loss: 5.5485 - val_acc: 0.0988\n",
      "Epoch 8/10\n",
      "11352/11352 [==============================] - 354s - loss: 5.3253 - acc: 0.1150 - val_loss: 5.2199 - val_acc: 0.1322\n",
      "Epoch 9/10\n",
      "11352/11352 [==============================] - 354s - loss: 4.9607 - acc: 0.1550 - val_loss: 4.7764 - val_acc: 0.1781\n",
      "Epoch 10/10\n",
      "11352/11352 [==============================] - 354s - loss: 4.4458 - acc: 0.2067 - val_loss: 4.3689 - val_acc: 0.2255\n"
     ]
    },
    {
     "data": {
      "text/plain": [
       "<keras.callbacks.History at 0x7f5b1aaaf410>"
      ]
     },
     "execution_count": 18,
     "metadata": {},
     "output_type": "execute_result"
    }
   ],
   "source": [
    "model = NN2(input_shape, num_people, nb_fc6)\n",
    "model.compile(loss='categorical_crossentropy', optimizer='sgd')\n",
    "model.fit(X_train, Y_train, batch_size=32, nb_epoch=10, \n",
    "        show_accuracy=True, verbose=1, shuffle=True, validation_split=.15)"
   ]
  },
  {
   "cell_type": "code",
   "execution_count": null,
   "metadata": {
    "collapsed": false
   },
   "outputs": [],
   "source": [
    "json_string = model.to_json()\n",
    "open('models/CNN-H1-fc6-256-10e.json', 'w').write(json_string)\n",
    "model.save_weights('models/CNN-H1-fc6-256-10e.h5', overwrite=True)"
   ]
  },
  {
   "cell_type": "code",
   "execution_count": null,
   "metadata": {
    "collapsed": false
   },
   "outputs": [
    {
     "name": "stdout",
     "output_type": "stream",
     "text": [
      "Train on 11352 samples, validate on 2004 samples\n",
      "Epoch 1/100\n",
      "11352/11352 [==============================] - 354s - loss: 3.6105 - acc: 0.3104 - val_loss: 3.9552 - val_acc: 0.2884\n",
      "Epoch 2/100\n",
      "11352/11352 [==============================] - 354s - loss: 3.4018 - acc: 0.3357 - val_loss: 3.8391 - val_acc: 0.3049\n",
      "Epoch 3/100\n",
      "11352/11352 [==============================] - 354s - loss: 3.2611 - acc: 0.3545 - val_loss: 3.7778 - val_acc: 0.3024\n",
      "Epoch 4/100\n",
      "11352/11352 [==============================] - 354s - loss: 3.1156 - acc: 0.3730 - val_loss: 3.6384 - val_acc: 0.3258\n",
      "Epoch 5/100\n",
      "11352/11352 [==============================] - 354s - loss: 2.9774 - acc: 0.3963 - val_loss: 3.5607 - val_acc: 0.3323\n",
      "Epoch 6/100\n",
      "11352/11352 [==============================] - 354s - loss: 2.8385 - acc: 0.4121 - val_loss: 3.4523 - val_acc: 0.3548\n",
      "Epoch 7/100\n",
      "11352/11352 [==============================] - 354s - loss: 2.7040 - acc: 0.4312 - val_loss: 3.3627 - val_acc: 0.3628\n",
      "Epoch 8/100\n",
      "11352/11352 [==============================] - 354s - loss: 2.5544 - acc: 0.4528 - val_loss: 3.3876 - val_acc: 0.3493\n",
      "Epoch 9/100\n",
      "11352/11352 [==============================] - 354s - loss: 1.5917 - acc: 0.6135 - val_loss: 2.9384 - val_acc: 0.4296\n",
      "Epoch 16/100\n",
      "11352/11352 [==============================] - 354s - loss: 1.4787 - acc: 0.6373 - val_loss: 2.8516 - val_acc: 0.4451\n",
      "Epoch 17/100\n",
      "11352/11352 [==============================] - 354s - loss: 1.3372 - acc: 0.6668 - val_loss: 2.7877 - val_acc: 0.4486\n",
      "Epoch 18/100\n",
      "11352/11352 [==============================] - 354s - loss: 1.2133 - acc: 0.6923 - val_loss: 3.0838 - val_acc: 0.4092\n",
      "Epoch 19/100\n",
      "11352/11352 [==============================] - 354s - loss: 1.1097 - acc: 0.7116 - val_loss: 2.8353 - val_acc: 0.4611\n",
      "Epoch 20/100\n",
      "11352/11352 [==============================] - 354s - loss: 1.0120 - acc: 0.7323 - val_loss: 2.7004 - val_acc: 0.4780\n",
      "Epoch 21/100\n",
      "11352/11352 [==============================] - 354s - loss: 0.8965 - acc: 0.7567 - val_loss: 2.7773 - val_acc: 0.4721\n",
      "Epoch 22/100\n",
      "11352/11352 [==============================] - 354s - loss: 0.7980 - acc: 0.7786 - val_loss: 2.7426 - val_acc: 0.4810\n",
      "Epoch 23/100\n",
      "11352/11352 [==============================] - 354s - loss: 0.7217 - acc: 0.7988 - val_loss: 2.7414 - val_acc: 0.4865\n",
      "Epoch 24/100\n",
      "11352/11352 [==============================] - 354s - loss: 0.6378 - acc: 0.8172 - val_loss: 2.8094 - val_acc: 0.4835\n",
      "Epoch 25/100\n",
      "11352/11352 [==============================] - 354s - loss: 0.5723 - acc: 0.8356 - val_loss: 2.8341 - val_acc: 0.4895\n",
      "Epoch 26/100\n",
      "11352/11352 [==============================] - 354s - loss: 0.4957 - acc: 0.8525 - val_loss: 2.6673 - val_acc: 0.5210\n",
      "Epoch 27/100\n",
      "11352/11352 [==============================] - 354s - loss: 0.4442 - acc: 0.8656 - val_loss: 2.7564 - val_acc: 0.5095\n",
      "Epoch 28/100\n",
      "11352/11352 [==============================] - 354s - loss: 0.3906 - acc: 0.8824 - val_loss: 2.6637 - val_acc: 0.5274\n",
      "Epoch 29/100\n",
      "11352/11352 [==============================] - 354s - loss: 0.3591 - acc: 0.8909 - val_loss: 2.7140 - val_acc: 0.5269\n",
      "Epoch 30/100\n",
      "11352/11352 [==============================] - 354s - loss: 0.3191 - acc: 0.9010 - val_loss: 2.7211 - val_acc: 0.5309\n",
      "Epoch 31/100\n",
      "11352/11352 [==============================] - 354s - loss: 0.3030 - acc: 0.9057 - val_loss: 2.6577 - val_acc: 0.5414\n",
      "Epoch 32/100\n",
      "11352/11352 [==============================] - 354s - loss: 0.2666 - acc: 0.9156 - val_loss: 2.7499 - val_acc: 0.5334\n",
      "Epoch 33/100\n",
      "11352/11352 [==============================] - 354s - loss: 0.2409 - acc: 0.9228 - val_loss: 2.7423 - val_acc: 0.5329\n",
      "Epoch 34/100\n",
      "11352/11352 [==============================] - 354s - loss: 0.2099 - acc: 0.9360 - val_loss: 2.7905 - val_acc: 0.5369\n",
      "Epoch 35/100\n",
      "11352/11352 [==============================] - 354s - loss: 0.1820 - acc: 0.9434 - val_loss: 2.8522 - val_acc: 0.5384\n",
      "Epoch 36/100\n",
      "11352/11352 [==============================] - 354s - loss: 0.1781 - acc: 0.9434 - val_loss: 2.8578 - val_acc: 0.5384\n",
      "Epoch 37/100\n",
      "11352/11352 [==============================] - 354s - loss: 0.1769 - acc: 0.9444 - val_loss: 3.3171 - val_acc: 0.5120\n",
      "Epoch 38/100\n",
      "11352/11352 [==============================] - 354s - loss: 0.1468 - acc: 0.9546 - val_loss: 2.7995 - val_acc: 0.5574\n",
      "Epoch 39/100\n",
      "11352/11352 [==============================] - 354s - loss: 0.1463 - acc: 0.9538 - val_loss: 2.9012 - val_acc: 0.5504\n",
      "Epoch 40/100\n",
      "11352/11352 [==============================] - 354s - loss: 0.1344 - acc: 0.9566 - val_loss: 2.7569 - val_acc: 0.5564\n",
      "Epoch 41/100\n",
      "11352/11352 [==============================] - 354s - loss: 0.1219 - acc: 0.9624 - val_loss: 2.8048 - val_acc: 0.5634\n",
      "Epoch 42/100\n",
      "11352/11352 [==============================] - 354s - loss: 0.1207 - acc: 0.9617 - val_loss: 2.7332 - val_acc: 0.5579\n",
      "Epoch 43/100\n",
      "11352/11352 [==============================] - 354s - loss: 0.1030 - acc: 0.9667 - val_loss: 2.9360 - val_acc: 0.5469\n",
      "Epoch 44/100\n",
      "11352/11352 [==============================] - 354s - loss: 0.1025 - acc: 0.9679 - val_loss: 2.8019 - val_acc: 0.5609\n",
      "Epoch 45/100\n",
      "11352/11352 [==============================] - 354s - loss: 0.0853 - acc: 0.9732 - val_loss: 2.8346 - val_acc: 0.5699\n",
      "Epoch 46/100\n",
      "11352/11352 [==============================] - 354s - loss: 0.0887 - acc: 0.9710 - val_loss: 2.9494 - val_acc: 0.5609\n",
      "Epoch 47/100\n",
      "11352/11352 [==============================] - 354s - loss: 0.0813 - acc: 0.9740 - val_loss: 3.0234 - val_acc: 0.5604\n",
      "Epoch 48/100\n",
      "11352/11352 [==============================] - 354s - loss: 0.0830 - acc: 0.9735 - val_loss: 2.8660 - val_acc: 0.5679\n",
      "Epoch 49/100\n",
      "11352/11352 [==============================] - 354s - loss: 0.0791 - acc: 0.9730 - val_loss: 2.9501 - val_acc: 0.5724\n",
      "Epoch 50/100\n",
      "11352/11352 [==============================] - 354s - loss: 0.0748 - acc: 0.9756 - val_loss: 3.0156 - val_acc: 0.5664\n",
      "Epoch 51/100\n",
      "11352/11352 [==============================] - 354s - loss: 0.0755 - acc: 0.9758 - val_loss: 2.9398 - val_acc: 0.5589\n",
      "Epoch 52/100\n",
      "11352/11352 [==============================] - 354s - loss: 0.0658 - acc: 0.9786 - val_loss: 2.8663 - val_acc: 0.5763\n",
      "Epoch 53/100\n",
      "11352/11352 [==============================] - 354s - loss: 0.0591 - acc: 0.9813 - val_loss: 2.8580 - val_acc: 0.5724\n",
      "Epoch 54/100\n",
      "11352/11352 [==============================] - 354s - loss: 0.0622 - acc: 0.9795 - val_loss: 2.8768 - val_acc: 0.5749\n",
      "Epoch 55/100\n",
      "11352/11352 [==============================] - 354s - loss: 0.0580 - acc: 0.9804 - val_loss: 2.8752 - val_acc: 0.5793\n",
      "Epoch 56/100\n",
      "11352/11352 [==============================] - 354s - loss: 0.0623 - acc: 0.9789 - val_loss: 2.9454 - val_acc: 0.5843\n",
      "Epoch 57/100\n",
      "11352/11352 [==============================] - 354s - loss: 0.0517 - acc: 0.9833 - val_loss: 2.8704 - val_acc: 0.5803\n",
      "Epoch 58/100\n",
      "11352/11352 [==============================] - 354s - loss: 0.0526 - acc: 0.9838 - val_loss: 2.9192 - val_acc: 0.5763\n",
      "Epoch 59/100\n",
      "11352/11352 [==============================] - 354s - loss: 0.0507 - acc: 0.9823 - val_loss: 2.8925 - val_acc: 0.5803\n",
      "Epoch 60/100\n",
      "11352/11352 [==============================] - 354s - loss: 0.0579 - acc: 0.9807 - val_loss: 2.8928 - val_acc: 0.5913\n",
      "Epoch 61/100\n",
      "11352/11352 [==============================] - 354s - loss: 0.0460 - acc: 0.9844 - val_loss: 2.8584 - val_acc: 0.5923\n",
      "Epoch 62/100\n",
      "11352/11352 [==============================] - 354s - loss: 0.0445 - acc: 0.9863 - val_loss: 2.9032 - val_acc: 0.5893\n",
      "Epoch 63/100\n",
      "11352/11352 [==============================] - 354s - loss: 0.0380 - acc: 0.9877 - val_loss: 2.9408 - val_acc: 0.5833\n",
      "Epoch 64/100\n",
      "11352/11352 [==============================] - 354s - loss: 0.0409 - acc: 0.9863 - val_loss: 2.9560 - val_acc: 0.5763\n",
      "Epoch 65/100\n",
      "11352/11352 [==============================] - 354s - loss: 0.0361 - acc: 0.9882 - val_loss: 2.9372 - val_acc: 0.5843\n",
      "Epoch 66/100\n",
      "11352/11352 [==============================] - 354s - loss: 0.0425 - acc: 0.9865 - val_loss: 2.9127 - val_acc: 0.5928\n",
      "Epoch 67/100\n",
      "11352/11352 [==============================] - 354s - loss: 0.0464 - acc: 0.9841 - val_loss: 2.9511 - val_acc: 0.5793\n",
      "Epoch 68/100\n",
      "11352/11352 [==============================] - 354s - loss: 0.0366 - acc: 0.9876 - val_loss: 2.9055 - val_acc: 0.5883\n",
      "Epoch 69/100\n",
      "11352/11352 [==============================] - 354s - loss: 0.0430 - acc: 0.9878 - val_loss: 2.8707 - val_acc: 0.5908\n",
      "Epoch 70/100\n",
      "11352/11352 [==============================] - 354s - loss: 0.0443 - acc: 0.9860 - val_loss: 2.8426 - val_acc: 0.5868\n",
      "Epoch 71/100\n",
      "11352/11352 [==============================] - 354s - loss: 0.0314 - acc: 0.9900 - val_loss: 2.9809 - val_acc: 0.5888\n",
      "Epoch 72/100\n",
      "11352/11352 [==============================] - 354s - loss: 0.0359 - acc: 0.9873 - val_loss: 2.9702 - val_acc: 0.5913\n",
      "Epoch 73/100\n",
      "11352/11352 [==============================] - 354s - loss: 0.0345 - acc: 0.9890 - val_loss: 2.9731 - val_acc: 0.5863\n",
      "Epoch 74/100\n",
      "11352/11352 [==============================] - 354s - loss: 0.0332 - acc: 0.9901 - val_loss: 2.8292 - val_acc: 0.5958\n",
      "Epoch 75/100\n",
      "11352/11352 [==============================] - 354s - loss: 0.0306 - acc: 0.9900 - val_loss: 2.9474 - val_acc: 0.5853\n",
      "Epoch 76/100\n",
      "11352/11352 [==============================] - 354s - loss: 0.0291 - acc: 0.9907 - val_loss: 2.9084 - val_acc: 0.5928\n",
      "Epoch 77/100\n",
      "11352/11352 [==============================] - 354s - loss: 0.0268 - acc: 0.9920 - val_loss: 2.8616 - val_acc: 0.6023\n",
      "Epoch 78/100\n",
      "11352/11352 [==============================] - 354s - loss: 0.0335 - acc: 0.9890 - val_loss: 2.9091 - val_acc: 0.5833\n",
      "Epoch 79/100\n",
      "11352/11352 [==============================] - 354s - loss: 0.0304 - acc: 0.9905 - val_loss: 3.0148 - val_acc: 0.5823\n",
      "Epoch 80/100\n",
      "11352/11352 [==============================] - 354s - loss: 0.0242 - acc: 0.9930 - val_loss: 2.8918 - val_acc: 0.6023\n",
      "Epoch 81/100\n",
      "11352/11352 [==============================] - 354s - loss: 0.0256 - acc: 0.9918 - val_loss: 2.9731 - val_acc: 0.5768\n",
      "Epoch 82/100\n",
      "11352/11352 [==============================] - 354s - loss: 0.0256 - acc: 0.9920 - val_loss: 2.9508 - val_acc: 0.5938\n",
      "Epoch 83/100\n",
      "11352/11352 [==============================] - 354s - loss: 0.0209 - acc: 0.9931 - val_loss: 2.9167 - val_acc: 0.6038\n",
      "Epoch 84/100\n",
      "11352/11352 [==============================] - 354s - loss: 0.0229 - acc: 0.9923 - val_loss: 2.9172 - val_acc: 0.6003\n",
      "Epoch 85/100\n",
      "11352/11352 [==============================] - 354s - loss: 0.0273 - acc: 0.9907 - val_loss: 3.0437 - val_acc: 0.5863\n",
      "Epoch 86/100\n",
      "11352/11352 [==============================] - 354s - loss: 0.0226 - acc: 0.9924 - val_loss: 3.0948 - val_acc: 0.5828\n",
      "Epoch 87/100\n",
      "11352/11352 [==============================] - 354s - loss: 0.0229 - acc: 0.9923 - val_loss: 3.0037 - val_acc: 0.5958\n",
      "Epoch 88/100\n",
      "11352/11352 [==============================] - 354s - loss: 0.0212 - acc: 0.9922 - val_loss: 2.8645 - val_acc: 0.6153\n",
      "Epoch 89/100\n",
      "11352/11352 [==============================] - 354s - loss: 0.0229 - acc: 0.9921 - val_loss: 2.9143 - val_acc: 0.6028\n",
      "Epoch 90/100\n",
      "11352/11352 [==============================] - 354s - loss: 0.0235 - acc: 0.9918 - val_loss: 3.1709 - val_acc: 0.5714\n",
      "Epoch 91/100\n",
      "11352/11352 [==============================] - 354s - loss: 0.0231 - acc: 0.9926 - val_loss: 2.9150 - val_acc: 0.5888\n",
      "Epoch 92/100\n",
      "11352/11352 [==============================] - 354s - loss: 0.0204 - acc: 0.9933 - val_loss: 3.0253 - val_acc: 0.6023\n",
      "Epoch 93/100\n",
      "11352/11352 [==============================] - 354s - loss: 0.0178 - acc: 0.9951 - val_loss: 2.9601 - val_acc: 0.6008\n",
      "Epoch 94/100\n",
      "11352/11352 [==============================] - 354s - loss: 0.0244 - acc: 0.9915 - val_loss: 2.9841 - val_acc: 0.5938\n",
      "Epoch 95/100\n",
      "11352/11352 [==============================] - 354s - loss: 0.0218 - acc: 0.9930 - val_loss: 2.9139 - val_acc: 0.5933\n",
      "Epoch 96/100\n",
      "11352/11352 [==============================] - 354s - loss: 0.0198 - acc: 0.9941 - val_loss: 2.9432 - val_acc: 0.5973\n",
      "Epoch 97/100\n",
      "11352/11352 [==============================] - 354s - loss: 0.0199 - acc: 0.9938 - val_loss: 2.9283 - val_acc: 0.6083\n",
      "Epoch 98/100\n",
      "11352/11352 [==============================] - 354s - loss: 0.0162 - acc: 0.9943 - val_loss: 2.9687 - val_acc: 0.6048\n",
      "Epoch 99/100\n",
      "11352/11352 [==============================] - 354s - loss: 0.0167 - acc: 0.9945 - val_loss: 2.9676 - val_acc: 0.5998\n",
      "Epoch 100/100\n",
      "11352/11352 [==============================] - 354s - loss: 0.0179 - acc: 0.9942 - val_loss: 2.9652 - val_acc: 0.5943\n"
     ]
    },
    {
     "data": {
      "text/plain": [
       "<keras.callbacks.History at 0x7f59c7f36f50>"
      ]
     },
     "execution_count": 20,
     "metadata": {},
     "output_type": "execute_result"
    }
   ],
   "source": [
    "model.compile(loss='categorical_crossentropy', optimizer=SGD(lr=0.001))\n",
    "model.fit(X_train, Y_train, batch_size=32, nb_epoch=100,\n",
    "        show_accuracy=True, verbose=1, shuffle=True, validation_split=.15)"
   ]
  },
  {
   "cell_type": "code",
   "execution_count": null,
   "metadata": {
    "collapsed": false
   },
   "outputs": [],
   "source": [
    "json_string = model.to_json()\n",
    "open('models/CNN-H1-fc6-256-110.json', 'w').write(json_string)\n",
    "model.save_weights('models/CNN-H1-fc6-256-110e.h5', overwrite=True)"
   ]
  },
  {
   "cell_type": "code",
   "execution_count": null,
   "metadata": {
    "collapsed": true
   },
   "outputs": [],
   "source": []
  }
 ],
 "metadata": {
  "kernelspec": {
   "display_name": "Python 2",
   "language": "python",
   "name": "python2"
  },
  "language_info": {
   "codemirror_mode": {
    "name": "ipython",
    "version": 2
   },
   "file_extension": ".py",
   "mimetype": "text/x-python",
   "name": "python",
   "nbconvert_exporter": "python",
   "pygments_lexer": "ipython2",
   "version": "2.7.6"
  }
 },
 "nbformat": 4,
 "nbformat_minor": 0
}
