{
 "cells": [
  {
   "cell_type": "markdown",
   "metadata": {},
   "source": [
    "<h1>CNN-H1 3-26-2016</h1>\n",
    "\n",
    "<strong>Abstract</strong>\n",
    "Implementing the CNN-H1 using NN2 described in the paper: http://arxiv.org/pdf/1509.00244v1.pdf. 58.5% validation accuracy after training on 160 epochs.\n",
    "\n",
    "<strong>Improvements</strong>\n",
    "<ul>\n",
    "<li>Take the people with the highest number of images for validation (top 1600)</li>\n",
    "<li>Greyscale images - focus on the edges, features rather than colour</li>\n",
    "<li>Prevent overfitting by horizontally flipping images</li>\n",
    "<li>Normalize images to 160x160</li>\n",
    "<li>Add Gausian noise using the following method http://stackoverflow.com/questions/33327711/how-to-add-gaussian-noise-to-an-image-using-python</li>\n",
    "</ul>\n",
    "\n",
    "\n",
    "<strong>Multiple GPUs experiment</strong>\n",
    "\n",
    "Recently, it's been getting attention, hopefully keras will have some functionality for easy initializing the GPU.\n",
    "<ul>\n",
    "<li>It's a difficult task to get a model multiple GPUs working since it's not built in to keras</li>\n",
    "<li>Both Theano and Tensorflow support multiple GPUs, but some infrastructure will have to ve created</li>\n",
    "<li>At the moment, it's not worth parallelizing</li>\n",
    "<li><a href=\"https://github.com/Theano/Theano/wiki/Using-Multiple-GPUs\">Theano</a></li>\n",
    "<li><a href=\"https://www.tensorflow.org/versions/r0.7/how_tos/using_gpu/index.html\">Tensorflow</a></li>\n",
    "<li><a href=\"http://zhqiang.org/?tag=multiple-gpu\">Keras blogpost</a></li>\n",
    "<li><a href=\"https://github.com/fchollet/keras/issues/1602\">Keras issue</a>https://github.com/fchollet/keras/issues/106</li>\n",
    "</ul>"
   ]
  },
  {
   "cell_type": "code",
   "execution_count": 1,
   "metadata": {
    "collapsed": false
   },
   "outputs": [],
   "source": [
    "%load_ext autoreload"
   ]
  },
  {
   "cell_type": "code",
   "execution_count": 2,
   "metadata": {
    "collapsed": false
   },
   "outputs": [
    {
     "name": "stderr",
     "output_type": "stream",
     "text": [
      "Using Theano backend.\n",
      "Using gpu device 0: GRID K520 (CNMeM is enabled with initial size: 98.0% of memory, CuDNN 3007)\n"
     ]
    }
   ],
   "source": [
    "%autoreload 2\n",
    "%matplotlib inline\n",
    "\n",
    "import os\n",
    "import fnmatch\n",
    "import numpy as np\n",
    "\n",
    "from skimage import io\n",
    "from skimage.color import rgb2grey\n",
    "from skimage.transform import resize\n",
    "\n",
    "from keras.preprocessing.image import ImageDataGenerator\n",
    "from keras.models import Sequential\n",
    "from keras.layers.core import Dense, Dropout, Activation, Flatten\n",
    "from keras.layers.convolutional import Convolution2D, MaxPooling2D, ZeroPadding2D, AveragePooling2D\n",
    "from keras.optimizers import SGD\n",
    "from keras.utils import np_utils\n",
    "from keras.callbacks import EarlyStopping\n",
    "from keras.models import model_from_json\n",
    "\n",
    "np.random.seed(123456)"
   ]
  },
  {
   "cell_type": "code",
   "execution_count": 3,
   "metadata": {
    "collapsed": true
   },
   "outputs": [],
   "source": [
    "data_path = '../data/lfw_cropped'\n",
    "\n",
    "img_rows, img_cols = 160, 160\n",
    "num_people = 600"
   ]
  },
  {
   "cell_type": "markdown",
   "metadata": {},
   "source": [
    "<h2>Loading Files</h2>"
   ]
  },
  {
   "cell_type": "code",
   "execution_count": 4,
   "metadata": {
    "collapsed": true
   },
   "outputs": [],
   "source": [
    "def get_face_to_file_path_dict():\n",
    "    face_to_file_paths_dict = {}\n",
    "    \n",
    "    for root, dirnames, filenames in os.walk(data_path):\n",
    "        for dirname in dirnames:\n",
    "            if dirname not in face_to_file_paths_dict:\n",
    "                face_to_file_paths_dict[dirname] = []\n",
    "            directory_path = os.path.join(data_path, dirname)\n",
    "            for filename in os.listdir(directory_path):\n",
    "                if filename.endswith(\".jpg\"):\n",
    "                    face_to_file_paths_dict[dirname].append(os.path.join(directory_path, filename))\n",
    "                            \n",
    "    return face_to_file_paths_dict"
   ]
  },
  {
   "cell_type": "code",
   "execution_count": 5,
   "metadata": {
    "collapsed": false
   },
   "outputs": [],
   "source": [
    "def get_face_to_file_paths_descending_list(face_to_file_paths_dict):\n",
    "    return sorted(face_to_file_paths_dict.items(), key=lambda x: len(x[1]), reverse=True)"
   ]
  },
  {
   "cell_type": "code",
   "execution_count": 6,
   "metadata": {
    "collapsed": true
   },
   "outputs": [],
   "source": [
    "face_to_file_paths_dict = get_face_to_file_path_dict()"
   ]
  },
  {
   "cell_type": "code",
   "execution_count": 7,
   "metadata": {
    "collapsed": false
   },
   "outputs": [],
   "source": [
    "face_to_file_paths_list = get_face_to_file_paths_descending_list(face_to_file_paths_dict)[:num_people]"
   ]
  },
  {
   "cell_type": "markdown",
   "metadata": {},
   "source": [
    "<h2>Data Pre-Processing</h2>"
   ]
  },
  {
   "cell_type": "code",
   "execution_count": 8,
   "metadata": {
    "collapsed": false
   },
   "outputs": [],
   "source": [
    "def image_read(f):\n",
    "    return resize(rgb2grey(io.imread(f)), (img_rows, img_cols))"
   ]
  },
  {
   "cell_type": "code",
   "execution_count": 9,
   "metadata": {
    "collapsed": true
   },
   "outputs": [],
   "source": [
    "def reflection(image):\n",
    "    return np.array([list(reversed(row)) for row in image])"
   ]
  },
  {
   "cell_type": "code",
   "execution_count": 10,
   "metadata": {
    "collapsed": true
   },
   "outputs": [],
   "source": [
    "images_by_class = [[image_read(f) for f in x[1]] for x in face_to_file_paths_list]"
   ]
  },
  {
   "cell_type": "code",
   "execution_count": 11,
   "metadata": {
    "collapsed": false
   },
   "outputs": [],
   "source": [
    "for i in range(len(images_by_class)):\n",
    "    images_by_class[i] += [reflection(image) for image in images_by_class[i]]"
   ]
  },
  {
   "cell_type": "code",
   "execution_count": 19,
   "metadata": {
    "collapsed": false
   },
   "outputs": [],
   "source": [
    "X_train = np.array([image for images in images_by_class for image in images])\n",
    "y_train = np.array([images[0] for images in enumerate(images_by_class) for image in images[1]])"
   ]
  },
  {
   "cell_type": "code",
   "execution_count": 24,
   "metadata": {
    "collapsed": true
   },
   "outputs": [],
   "source": [
    "zipped = np.array(zip(X_train, y_train))\n",
    "np.random.shuffle(zipped)"
   ]
  },
  {
   "cell_type": "code",
   "execution_count": 46,
   "metadata": {
    "collapsed": false
   },
   "outputs": [],
   "source": [
    "X_train = np.array([x[0] for x in zipped])\n",
    "y_train = np.array([x[1] for x in zipped])"
   ]
  },
  {
   "cell_type": "code",
   "execution_count": 49,
   "metadata": {
    "collapsed": false
   },
   "outputs": [],
   "source": [
    "X_train = X_train.reshape(X_train.shape[0], 1, img_rows, img_cols)\n",
    "Y_train = np_utils.to_categorical(y_train, len(images_by_class))"
   ]
  },
  {
   "cell_type": "markdown",
   "metadata": {},
   "source": [
    "<h2> Training and Validation</h2>"
   ]
  },
  {
   "cell_type": "code",
   "execution_count": 50,
   "metadata": {
    "collapsed": true
   },
   "outputs": [],
   "source": [
    "def NN2(input_shape, nb_classes, nb_fc6):\n",
    "    model = Sequential()\n",
    "    \n",
    "    # Layer 1\n",
    "    model.add(Convolution2D(64, 3, 3, activation='relu', input_shape=input_shape))\n",
    "    model.add(Convolution2D(128, 3, 3, activation='relu'))\n",
    "    model.add(MaxPooling2D((2,2), strides=(2,2)))\n",
    "\n",
    "    # Layer 2\n",
    "    model.add(Convolution2D(64, 3, 3, activation='relu'))\n",
    "    model.add(Convolution2D(128, 3, 3, activation='relu'))\n",
    "    model.add(MaxPooling2D((2,2), strides=(2,2)))\n",
    "\n",
    "    # Layer 3\n",
    "    model.add(ZeroPadding2D((1,1)))\n",
    "    model.add(Convolution2D(128, 3, 3, activation='relu'))\n",
    "    model.add(ZeroPadding2D((1,1)))\n",
    "    model.add(Convolution2D(128, 3, 3, activation='relu'))\n",
    "    model.add(ZeroPadding2D((1,1)))\n",
    "    model.add(MaxPooling2D((2,2), strides=(2,2)))\n",
    "\n",
    "    #Layer 4\n",
    "    model.add(ZeroPadding2D((1,1)))\n",
    "    model.add(Convolution2D(256, 3, 3, activation='relu'))\n",
    "    model.add(ZeroPadding2D((1,1)))\n",
    "    model.add(Convolution2D(256, 3, 3, activation='relu'))\n",
    "    model.add(ZeroPadding2D((1,1)))\n",
    "    model.add(Convolution2D(256, 3, 3, activation='relu'))\n",
    "    model.add(MaxPooling2D((2,2), strides=(2,2)))\n",
    "\n",
    "    #Layer 5\n",
    "    model.add(ZeroPadding2D((1,1)))\n",
    "    model.add(Convolution2D(256, 3, 3, activation='relu'))\n",
    "    model.add(ZeroPadding2D((1,1)))\n",
    "    model.add(Convolution2D(256, 3, 3, activation='relu'))\n",
    "    model.add(ZeroPadding2D((1,1)))\n",
    "    model.add(Convolution2D(256, 3, 3))\n",
    "    model.add(ZeroPadding2D((1,1)))\n",
    "    model.add(AveragePooling2D((2,2), strides=(2,2)))\n",
    "\n",
    "    model.add(Flatten())\n",
    "    model.add(Dropout(0.4))\n",
    "    model.add(Dense(nb_fc6))\n",
    "    model.add(Dense(nb_classes, activation='softmax'))\n",
    "   \n",
    "    return model"
   ]
  },
  {
   "cell_type": "code",
   "execution_count": 51,
   "metadata": {
    "collapsed": true
   },
   "outputs": [],
   "source": [
    "input_shape = (1, img_rows, img_cols)\n",
    "nb_fc6 = 512"
   ]
  },
  {
   "cell_type": "code",
   "execution_count": 52,
   "metadata": {
    "collapsed": false
   },
   "outputs": [
    {
     "name": "stdout",
     "output_type": "stream",
     "text": [
      "Train on 10684 samples, validate on 2672 samples\n",
      "Epoch 1/10\n",
      "10684/10684 [==============================] - 457s - loss: 5.9817 - acc: 0.0681 - val_loss: 5.8514 - val_acc: 0.0775\n",
      "Epoch 2/10\n",
      "10684/10684 [==============================] - 457s - loss: 5.7883 - acc: 0.0784 - val_loss: 5.8162 - val_acc: 0.0775\n",
      "Epoch 3/10\n",
      "10684/10684 [==============================] - 457s - loss: 5.7588 - acc: 0.0797 - val_loss: 5.8167 - val_acc: 0.0775\n",
      "Epoch 4/10\n",
      "10684/10684 [==============================] - 457s - loss: 5.7482 - acc: 0.0797 - val_loss: 5.8120 - val_acc: 0.0775\n",
      "Epoch 5/10\n",
      "10684/10684 [==============================] - 457s - loss: 5.7397 - acc: 0.0797 - val_loss: 5.7941 - val_acc: 0.0775\n",
      "Epoch 6/10\n",
      "10684/10684 [==============================] - 457s - loss: 5.7292 - acc: 0.0797 - val_loss: 5.7866 - val_acc: 0.0775\n",
      "Epoch 7/10\n",
      "10684/10684 [==============================] - 457s - loss: 5.6905 - acc: 0.0791 - val_loss: 5.7096 - val_acc: 0.0808\n",
      "Epoch 8/10\n",
      "10684/10684 [==============================] - 457s - loss: 5.5983 - acc: 0.0816 - val_loss: 5.5815 - val_acc: 0.0831\n",
      "Epoch 9/10\n",
      "10684/10684 [==============================] - 457s - loss: 5.4404 - acc: 0.0892 - val_loss: 5.4494 - val_acc: 0.0988\n",
      "Epoch 10/10\n",
      "10684/10684 [==============================] - 457s - loss: 5.2473 - acc: 0.1049 - val_loss: 5.2989 - val_acc: 0.1138\n"
     ]
    },
    {
     "data": {
      "text/plain": [
       "<keras.callbacks.History at 0x7f86b1105410>"
      ]
     },
     "execution_count": 52,
     "metadata": {},
     "output_type": "execute_result"
    }
   ],
   "source": [
    "model = NN2(input_shape, num_people, nb_fc6)\n",
    "model.compile(loss='categorical_crossentropy', optimizer='sgd')\n",
    "model.fit(X_train, Y_train, batch_size=32, nb_epoch=10, \n",
    "        show_accuracy=True, verbose=1, shuffle=True, validation_split=.2)"
   ]
  },
  {
   "cell_type": "code",
   "execution_count": 53,
   "metadata": {
    "collapsed": false
   },
   "outputs": [],
   "source": [
    "json_string = model.to_json()\n",
    "open('models/CNN-H1-10e.json', 'w').write(json_string)\n",
    "model.save_weights('models/CNN-H1-10e.h5', overwrite=True)"
   ]
  },
  {
   "cell_type": "code",
   "execution_count": 54,
   "metadata": {
    "collapsed": false
   },
   "outputs": [
    {
     "name": "stdout",
     "output_type": "stream",
     "text": [
      "Train on 10684 samples, validate on 2672 samples\n",
      "Epoch 1/50\n",
      "10684/10684 [==============================] - 457s - loss: 4.9132 - acc: 0.1330 - val_loss: 5.0781 - val_acc: 0.1317\n",
      "Epoch 2/50\n",
      "10684/10684 [==============================] - 457s - loss: 4.8095 - acc: 0.1462 - val_loss: 5.0272 - val_acc: 0.1407\n",
      "Epoch 3/50\n",
      "10684/10684 [==============================] - 457s - loss: 4.7273 - acc: 0.1547 - val_loss: 4.9269 - val_acc: 0.1632\n",
      "Epoch 4/50\n",
      "10684/10684 [==============================] - 457s - loss: 4.6425 - acc: 0.1694 - val_loss: 4.8435 - val_acc: 0.1725\n",
      "Epoch 5/50\n",
      "10684/10684 [==============================] - 457s - loss: 4.5576 - acc: 0.1823 - val_loss: 4.7709 - val_acc: 0.1778\n",
      "Epoch 6/50\n",
      "10684/10684 [==============================] - 457s - loss: 4.4459 - acc: 0.1971 - val_loss: 4.7010 - val_acc: 0.1815\n",
      "Epoch 7/50\n",
      "10684/10684 [==============================] - 457s - loss: 4.3520 - acc: 0.2105 - val_loss: 4.6055 - val_acc: 0.1984\n",
      "Epoch 8/50\n",
      "10684/10684 [==============================] - 457s - loss: 4.2313 - acc: 0.2259 - val_loss: 4.4908 - val_acc: 0.2152\n",
      "Epoch 9/50\n",
      "10684/10684 [==============================] - 457s - loss: 4.1054 - acc: 0.2420 - val_loss: 4.3911 - val_acc: 0.2335\n",
      "Epoch 10/50\n",
      "10684/10684 [==============================] - 457s - loss: 3.9889 - acc: 0.2522 - val_loss: 4.5019 - val_acc: 0.2246\n",
      "Epoch 11/50\n",
      "10684/10684 [==============================] - 457s - loss: 3.8462 - acc: 0.2743 - val_loss: 4.2218 - val_acc: 0.2552\n",
      "Epoch 12/50\n",
      "10684/10684 [==============================] - 457s - loss: 3.7137 - acc: 0.2892 - val_loss: 4.2157 - val_acc: 0.2552\n",
      "Epoch 13/50\n",
      "10684/10684 [==============================] - 457s - loss: 3.5644 - acc: 0.3077 - val_loss: 4.2469 - val_acc: 0.2586\n",
      "Epoch 14/50\n",
      "10684/10684 [==============================] - 457s - loss: 3.4253 - acc: 0.3282 - val_loss: 3.9587 - val_acc: 0.2930\n",
      "Epoch 15/50\n",
      "10684/10684 [==============================] - 457s - loss: 3.2691 - acc: 0.3421 - val_loss: 3.8846 - val_acc: 0.2889\n",
      "Epoch 16/50\n",
      "10684/10684 [==============================] - 457s - loss: 3.1213 - acc: 0.3633 - val_loss: 3.7451 - val_acc: 0.3054\n",
      "Epoch 17/50\n",
      "10684/10684 [==============================] - 457s - loss: 2.9557 - acc: 0.3866 - val_loss: 3.6077 - val_acc: 0.3353\n",
      "Epoch 18/50\n",
      "10684/10684 [==============================] - 457s - loss: 2.8097 - acc: 0.4089 - val_loss: 3.5673 - val_acc: 0.3391\n",
      "Epoch 19/50\n",
      "10684/10684 [==============================] - 457s - loss: 2.6409 - acc: 0.4320 - val_loss: 3.5066 - val_acc: 0.3436\n",
      "Epoch 20/50\n",
      "10684/10684 [==============================] - 457s - loss: 2.4914 - acc: 0.4565 - val_loss: 3.4203 - val_acc: 0.3630\n",
      "Epoch 21/50\n",
      "10684/10684 [==============================] - 457s - loss: 2.3280 - acc: 0.4786 - val_loss: 3.3614 - val_acc: 0.3593\n",
      "Epoch 22/50\n",
      "10684/10684 [==============================] - 457s - loss: 2.2040 - acc: 0.4927 - val_loss: 3.2814 - val_acc: 0.3743\n",
      "Epoch 23/50\n",
      "10684/10684 [==============================] - 457s - loss: 2.0298 - acc: 0.5341 - val_loss: 3.1441 - val_acc: 0.3986\n",
      "Epoch 24/50\n",
      "10684/10684 [==============================] - 457s - loss: 1.8811 - acc: 0.5530 - val_loss: 3.1242 - val_acc: 0.3952\n",
      "Epoch 25/50\n",
      "10684/10684 [==============================] - 457s - loss: 1.7058 - acc: 0.5870 - val_loss: 3.0443 - val_acc: 0.4079\n",
      "Epoch 26/50\n",
      "10684/10684 [==============================] - 457s - loss: 1.5881 - acc: 0.6111 - val_loss: 3.0931 - val_acc: 0.4165\n",
      "Epoch 27/50\n",
      "10684/10684 [==============================] - 457s - loss: 1.4364 - acc: 0.6366 - val_loss: 3.1686 - val_acc: 0.4046\n",
      "Epoch 28/50\n",
      "10684/10684 [==============================] - 457s - loss: 1.3077 - acc: 0.6702 - val_loss: 3.0955 - val_acc: 0.4237\n",
      "Epoch 29/50\n",
      "10684/10684 [==============================] - 457s - loss: 1.1796 - acc: 0.6909 - val_loss: 3.2143 - val_acc: 0.4068\n",
      "Epoch 30/50\n",
      "10684/10684 [==============================] - 457s - loss: 1.0738 - acc: 0.7112 - val_loss: 2.8733 - val_acc: 0.4517\n",
      "Epoch 31/50\n",
      "10684/10684 [==============================] - 457s - loss: 0.9396 - acc: 0.7462 - val_loss: 2.9703 - val_acc: 0.4502\n",
      "Epoch 32/50\n",
      "10684/10684 [==============================] - 457s - loss: 0.8286 - acc: 0.7741 - val_loss: 3.2231 - val_acc: 0.4427\n",
      "Epoch 33/50\n",
      "10684/10684 [==============================] - 457s - loss: 0.7339 - acc: 0.7930 - val_loss: 2.9941 - val_acc: 0.4704\n",
      "Epoch 34/50\n",
      "10684/10684 [==============================] - 457s - loss: 0.6483 - acc: 0.8125 - val_loss: 3.1533 - val_acc: 0.4356\n",
      "Epoch 35/50\n",
      "10684/10684 [==============================] - 457s - loss: 0.5926 - acc: 0.8279 - val_loss: 2.9276 - val_acc: 0.4719\n",
      "Epoch 36/50\n",
      "10684/10684 [==============================] - 457s - loss: 0.5170 - acc: 0.8476 - val_loss: 2.9120 - val_acc: 0.4749\n",
      "Epoch 37/50\n",
      "10684/10684 [==============================] - 457s - loss: 0.4516 - acc: 0.8648 - val_loss: 2.9715 - val_acc: 0.4794\n",
      "Epoch 38/50\n",
      "10684/10684 [==============================] - 457s - loss: 0.4060 - acc: 0.8750 - val_loss: 2.9772 - val_acc: 0.4944\n",
      "Epoch 39/50\n",
      "10684/10684 [==============================] - 457s - loss: 0.3485 - acc: 0.8968 - val_loss: 3.2189 - val_acc: 0.4858\n",
      "Epoch 40/50\n",
      "10684/10684 [==============================] - 457s - loss: 0.3280 - acc: 0.8979 - val_loss: 2.9858 - val_acc: 0.4944\n",
      "Epoch 41/50\n",
      "10684/10684 [==============================] - 457s - loss: 0.2887 - acc: 0.9123 - val_loss: 2.9998 - val_acc: 0.5071\n",
      "Epoch 42/50\n",
      "10684/10684 [==============================] - 457s - loss: 0.2543 - acc: 0.9196 - val_loss: 3.1038 - val_acc: 0.5075\n",
      "Epoch 43/50\n",
      "10684/10684 [==============================] - 457s - loss: 0.2402 - acc: 0.9223 - val_loss: 3.1209 - val_acc: 0.5127\n",
      "Epoch 44/50\n",
      "10684/10684 [==============================] - 457s - loss: 0.2153 - acc: 0.9324 - val_loss: 3.0485 - val_acc: 0.5146\n",
      "Epoch 45/50\n",
      "10684/10684 [==============================] - 457s - loss: 0.2003 - acc: 0.9378 - val_loss: 3.0232 - val_acc: 0.5124\n",
      "Epoch 46/50\n",
      "10684/10684 [==============================] - 457s - loss: 0.1857 - acc: 0.9419 - val_loss: 3.2105 - val_acc: 0.5064\n",
      "Epoch 47/50\n",
      "10684/10684 [==============================] - 457s - loss: 0.1562 - acc: 0.9506 - val_loss: 3.1959 - val_acc: 0.5127\n",
      "Epoch 48/50\n",
      "10684/10684 [==============================] - 457s - loss: 0.1579 - acc: 0.9478 - val_loss: 3.2449 - val_acc: 0.5116\n",
      "Epoch 49/50\n",
      "10684/10684 [==============================] - 457s - loss: 0.1509 - acc: 0.9501 - val_loss: 3.1035 - val_acc: 0.5217\n",
      "Epoch 50/50\n",
      "10684/10684 [==============================] - 457s - loss: 0.1209 - acc: 0.9618 - val_loss: 3.1930 - val_acc: 0.5153\n"
     ]
    },
    {
     "data": {
      "text/plain": [
       "<keras.callbacks.History at 0x7f8451832210>"
      ]
     },
     "execution_count": 54,
     "metadata": {},
     "output_type": "execute_result"
    }
   ],
   "source": [
    "model.compile(loss='categorical_crossentropy', optimizer=SGD(lr=0.001))\n",
    "model.fit(X_train, Y_train, batch_size=32, nb_epoch=50,\n",
    "        show_accuracy=True, verbose=1, shuffle=True, validation_split=.2)"
   ]
  },
  {
   "cell_type": "code",
   "execution_count": 56,
   "metadata": {
    "collapsed": false
   },
   "outputs": [],
   "source": [
    "json_string = model.to_json()\n",
    "open('models/CNN-H1-60e.json', 'w').write(json_string)\n",
    "model.save_weights('models/CNN-H1-60e.h5', overwrite=True)"
   ]
  },
  {
   "cell_type": "code",
   "execution_count": 57,
   "metadata": {
    "collapsed": false
   },
   "outputs": [
    {
     "name": "stdout",
     "output_type": "stream",
     "text": [
      "Train on 10684 samples, validate on 2672 samples\n",
      "Epoch 1/50\n",
      "10684/10684 [==============================] - 457s - loss: 0.1101 - acc: 0.9650 - val_loss: 3.2110 - val_acc: 0.5198\n",
      "Epoch 2/50\n",
      "10684/10684 [==============================] - 457s - loss: 0.1156 - acc: 0.9639 - val_loss: 3.2450 - val_acc: 0.5273\n",
      "Epoch 3/50\n",
      "10684/10684 [==============================] - 457s - loss: 0.1168 - acc: 0.9633 - val_loss: 3.1944 - val_acc: 0.5131\n",
      "Epoch 4/50\n",
      "10684/10684 [==============================] - 457s - loss: 0.1122 - acc: 0.9646 - val_loss: 3.2096 - val_acc: 0.5165\n",
      "Epoch 5/50\n",
      "10684/10684 [==============================] - 457s - loss: 0.0989 - acc: 0.9699 - val_loss: 3.1775 - val_acc: 0.5247\n",
      "Epoch 6/50\n",
      "10684/10684 [==============================] - 457s - loss: 0.0903 - acc: 0.9704 - val_loss: 3.2980 - val_acc: 0.5299\n",
      "Epoch 7/50\n",
      "10684/10684 [==============================] - 457s - loss: 0.0878 - acc: 0.9727 - val_loss: 3.1494 - val_acc: 0.5367\n",
      "Epoch 8/50\n",
      "10684/10684 [==============================] - 457s - loss: 0.0848 - acc: 0.9728 - val_loss: 3.2774 - val_acc: 0.5217\n",
      "Epoch 9/50\n",
      "10684/10684 [==============================] - 457s - loss: 0.0708 - acc: 0.9776 - val_loss: 3.1931 - val_acc: 0.5341\n",
      "Epoch 10/50\n",
      "10684/10684 [==============================] - 457s - loss: 0.0718 - acc: 0.9772 - val_loss: 3.1727 - val_acc: 0.5397\n",
      "Epoch 11/50\n",
      "10684/10684 [==============================] - 457s - loss: 0.0727 - acc: 0.9770 - val_loss: 3.2062 - val_acc: 0.5341\n",
      "Epoch 12/50\n",
      "10684/10684 [==============================] - 457s - loss: 0.0672 - acc: 0.9784 - val_loss: 3.3202 - val_acc: 0.5344\n",
      "Epoch 13/50\n",
      "10684/10684 [==============================] - 457s - loss: 0.0661 - acc: 0.9780 - val_loss: 3.2709 - val_acc: 0.5326\n",
      "Epoch 14/50\n",
      "10684/10684 [==============================] - 457s - loss: 0.0632 - acc: 0.9798 - val_loss: 3.2515 - val_acc: 0.5464\n",
      "Epoch 15/50\n",
      "10684/10684 [==============================] - 457s - loss: 0.0644 - acc: 0.9807 - val_loss: 3.3803 - val_acc: 0.5359\n",
      "Epoch 16/50\n",
      "10684/10684 [==============================] - 457s - loss: 0.0555 - acc: 0.9829 - val_loss: 3.2849 - val_acc: 0.5412\n",
      "Epoch 17/50\n",
      "10684/10684 [==============================] - 457s - loss: 0.0590 - acc: 0.9801 - val_loss: 3.3029 - val_acc: 0.5378\n",
      "Epoch 18/50\n",
      "10684/10684 [==============================] - 457s - loss: 0.0509 - acc: 0.9844 - val_loss: 3.2165 - val_acc: 0.5498\n",
      "Epoch 19/50\n",
      "10684/10684 [==============================] - 457s - loss: 0.0551 - acc: 0.9822 - val_loss: 3.2598 - val_acc: 0.5464\n",
      "Epoch 20/50\n",
      "10684/10684 [==============================] - 457s - loss: 0.0427 - acc: 0.9869 - val_loss: 3.2669 - val_acc: 0.5438\n",
      "Epoch 21/50\n",
      "10684/10684 [==============================] - 457s - loss: 0.0540 - acc: 0.9827 - val_loss: 3.3981 - val_acc: 0.5382\n",
      "Epoch 22/50\n",
      "10684/10684 [==============================] - 457s - loss: 0.0494 - acc: 0.9855 - val_loss: 3.2698 - val_acc: 0.5498\n",
      "Epoch 23/50\n",
      "10684/10684 [==============================] - 457s - loss: 0.0489 - acc: 0.9851 - val_loss: 3.3098 - val_acc: 0.5513\n",
      "Epoch 24/50\n",
      "10684/10684 [==============================] - 457s - loss: 0.0434 - acc: 0.9866 - val_loss: 3.2958 - val_acc: 0.5490\n",
      "Epoch 25/50\n",
      "10684/10684 [==============================] - 457s - loss: 0.0502 - acc: 0.9845 - val_loss: 3.4168 - val_acc: 0.5468\n",
      "Epoch 26/50\n",
      "10684/10684 [==============================] - 457s - loss: 0.0473 - acc: 0.9849 - val_loss: 3.2945 - val_acc: 0.5550\n",
      "Epoch 27/50\n",
      "10684/10684 [==============================] - 457s - loss: 0.0425 - acc: 0.9867 - val_loss: 3.1962 - val_acc: 0.5565\n",
      "Epoch 28/50\n",
      "10684/10684 [==============================] - 457s - loss: 0.0429 - acc: 0.9856 - val_loss: 3.2478 - val_acc: 0.5516\n",
      "Epoch 29/50\n",
      "10684/10684 [==============================] - 457s - loss: 0.0408 - acc: 0.9869 - val_loss: 3.3014 - val_acc: 0.5460\n",
      "Epoch 30/50\n",
      "10684/10684 [==============================] - 457s - loss: 0.0374 - acc: 0.9885 - val_loss: 3.2232 - val_acc: 0.5528\n",
      "Epoch 31/50\n",
      "10684/10684 [==============================] - 457s - loss: 0.0364 - acc: 0.9889 - val_loss: 3.3163 - val_acc: 0.5573\n",
      "Epoch 32/50\n",
      "10684/10684 [==============================] - 457s - loss: 0.0338 - acc: 0.9890 - val_loss: 3.3059 - val_acc: 0.5640\n",
      "Epoch 33/50\n",
      "10684/10684 [==============================] - 457s - loss: 0.0354 - acc: 0.9897 - val_loss: 3.3098 - val_acc: 0.5599\n",
      "Epoch 34/50\n",
      "10684/10684 [==============================] - 457s - loss: 0.0330 - acc: 0.9889 - val_loss: 3.3407 - val_acc: 0.5535\n",
      "Epoch 35/50\n",
      "10684/10684 [==============================] - 457s - loss: 0.0426 - acc: 0.9870 - val_loss: 3.1508 - val_acc: 0.5561\n",
      "Epoch 36/50\n",
      "10684/10684 [==============================] - 457s - loss: 0.0378 - acc: 0.9884 - val_loss: 3.4798 - val_acc: 0.5468\n",
      "Epoch 37/50\n",
      "10684/10684 [==============================] - 457s - loss: 0.0369 - acc: 0.9887 - val_loss: 3.3456 - val_acc: 0.5531\n",
      "Epoch 38/50\n",
      "10684/10684 [==============================] - 457s - loss: 0.0358 - acc: 0.9880 - val_loss: 3.1497 - val_acc: 0.5595\n",
      "Epoch 39/50\n",
      "10684/10684 [==============================] - 457s - loss: 0.0312 - acc: 0.9907 - val_loss: 3.3421 - val_acc: 0.5599\n",
      "Epoch 40/50\n",
      "10684/10684 [==============================] - 457s - loss: 0.0273 - acc: 0.9920 - val_loss: 3.2732 - val_acc: 0.5546\n",
      "Epoch 41/50\n",
      "10684/10684 [==============================] - 457s - loss: 0.0298 - acc: 0.9905 - val_loss: 3.2477 - val_acc: 0.5677\n",
      "Epoch 42/50\n",
      "10684/10684 [==============================] - 457s - loss: 0.0268 - acc: 0.9910 - val_loss: 3.3057 - val_acc: 0.5599\n",
      "Epoch 43/50\n",
      "10684/10684 [==============================] - 457s - loss: 0.0314 - acc: 0.9903 - val_loss: 3.2034 - val_acc: 0.5621\n",
      "Epoch 44/50\n",
      "10684/10684 [==============================] - 457s - loss: 0.0299 - acc: 0.9917 - val_loss: 3.1667 - val_acc: 0.5662\n",
      "Epoch 45/50\n",
      "10684/10684 [==============================] - 457s - loss: 0.0272 - acc: 0.9905 - val_loss: 3.2395 - val_acc: 0.5621\n",
      "Epoch 46/50\n",
      "10684/10684 [==============================] - 457s - loss: 0.0269 - acc: 0.9925 - val_loss: 3.3102 - val_acc: 0.5554\n",
      "Epoch 47/50\n",
      "10684/10684 [==============================] - 457s - loss: 0.0276 - acc: 0.9906 - val_loss: 3.3193 - val_acc: 0.5614\n",
      "Epoch 48/50\n",
      "10684/10684 [==============================] - 457s - loss: 0.0253 - acc: 0.9927 - val_loss: 3.3319 - val_acc: 0.5640\n",
      "Epoch 49/50\n",
      "10684/10684 [==============================] - 457s - loss: 0.0285 - acc: 0.9916 - val_loss: 3.3100 - val_acc: 0.5584\n",
      "Epoch 50/50\n",
      "10684/10684 [==============================] - 457s - loss: 0.0245 - acc: 0.9923 - val_loss: 3.2228 - val_acc: 0.5625\n"
     ]
    },
    {
     "data": {
      "text/plain": [
       "<keras.callbacks.History at 0x7f845182edd0>"
      ]
     },
     "execution_count": 57,
     "metadata": {},
     "output_type": "execute_result"
    }
   ],
   "source": [
    "model.fit(X_train, Y_train, batch_size=32, nb_epoch=50,\n",
    "        show_accuracy=True, verbose=1, shuffle=True, validation_split=.2)"
   ]
  },
  {
   "cell_type": "code",
   "execution_count": 58,
   "metadata": {
    "collapsed": true
   },
   "outputs": [],
   "source": [
    "json_string = model.to_json()\n",
    "open('models/CNN-H1-110e.json', 'w').write(json_string)\n",
    "model.save_weights('models/CNN-H1-110e.h5', overwrite=True)"
   ]
  },
  {
   "cell_type": "code",
   "execution_count": 59,
   "metadata": {
    "collapsed": false
   },
   "outputs": [
    {
     "name": "stdout",
     "output_type": "stream",
     "text": [
      "Train on 10684 samples, validate on 2672 samples\n",
      "Epoch 1/50\n",
      "10684/10684 [==============================] - 457s - loss: 0.0160 - acc: 0.9946 - val_loss: 3.4093 - val_acc: 0.5565\n",
      "Epoch 2/50\n",
      "10684/10684 [==============================] - 457s - loss: 0.0211 - acc: 0.9934 - val_loss: 3.3031 - val_acc: 0.5689\n",
      "Epoch 3/50\n",
      "10684/10684 [==============================] - 457s - loss: 0.0187 - acc: 0.9942 - val_loss: 3.2700 - val_acc: 0.5662\n",
      "Epoch 4/50\n",
      "10684/10684 [==============================] - 457s - loss: 0.0213 - acc: 0.9934 - val_loss: 3.2296 - val_acc: 0.5677\n",
      "Epoch 5/50\n",
      "10684/10684 [==============================] - 457s - loss: 0.0211 - acc: 0.9942 - val_loss: 3.1410 - val_acc: 0.5786\n",
      "Epoch 6/50\n",
      "10684/10684 [==============================] - 457s - loss: 0.0197 - acc: 0.9943 - val_loss: 3.2682 - val_acc: 0.5737\n",
      "Epoch 7/50\n",
      "10684/10684 [==============================] - 457s - loss: 0.0217 - acc: 0.9935 - val_loss: 3.4874 - val_acc: 0.5606\n",
      "Epoch 8/50\n",
      "10684/10684 [==============================] - 457s - loss: 0.0227 - acc: 0.9933 - val_loss: 3.2514 - val_acc: 0.5674\n",
      "Epoch 9/50\n",
      "10684/10684 [==============================] - 457s - loss: 0.0218 - acc: 0.9935 - val_loss: 3.3764 - val_acc: 0.5580\n",
      "Epoch 10/50\n",
      "10684/10684 [==============================] - 457s - loss: 0.0178 - acc: 0.9951 - val_loss: 3.3792 - val_acc: 0.5591\n",
      "Epoch 11/50\n",
      "10684/10684 [==============================] - 457s - loss: 0.0177 - acc: 0.9949 - val_loss: 3.3105 - val_acc: 0.5719\n",
      "Epoch 12/50\n",
      "10684/10684 [==============================] - 457s - loss: 0.0181 - acc: 0.9944 - val_loss: 3.2982 - val_acc: 0.5704\n",
      "Epoch 13/50\n",
      "10684/10684 [==============================] - 457s - loss: 0.0181 - acc: 0.9949 - val_loss: 3.4357 - val_acc: 0.5651\n",
      "Epoch 14/50\n",
      "10684/10684 [==============================] - 457s - loss: 0.0166 - acc: 0.9953 - val_loss: 3.3791 - val_acc: 0.5707\n",
      "Epoch 15/50\n",
      "10684/10684 [==============================] - 457s - loss: 0.0164 - acc: 0.9955 - val_loss: 3.3750 - val_acc: 0.5618\n",
      "Epoch 16/50\n",
      "10684/10684 [==============================] - 457s - loss: 0.0139 - acc: 0.9960 - val_loss: 3.3378 - val_acc: 0.5666\n",
      "Epoch 17/50\n",
      "10684/10684 [==============================] - 457s - loss: 0.0167 - acc: 0.9951 - val_loss: 3.4155 - val_acc: 0.5569\n",
      "Epoch 18/50\n",
      "10684/10684 [==============================] - 457s - loss: 0.0215 - acc: 0.9925 - val_loss: 3.4192 - val_acc: 0.5632\n",
      "Epoch 19/50\n",
      "10684/10684 [==============================] - 457s - loss: 0.0178 - acc: 0.9946 - val_loss: 3.4118 - val_acc: 0.5734\n",
      "Epoch 20/50\n",
      "10684/10684 [==============================] - 457s - loss: 0.0190 - acc: 0.9950 - val_loss: 3.3451 - val_acc: 0.5655\n",
      "Epoch 21/50\n",
      "10684/10684 [==============================] - 457s - loss: 0.0193 - acc: 0.9947 - val_loss: 3.4072 - val_acc: 0.5771\n",
      "Epoch 22/50\n",
      "10684/10684 [==============================] - 457s - loss: 0.0184 - acc: 0.9939 - val_loss: 3.4712 - val_acc: 0.5666\n",
      "Epoch 23/50\n",
      "10684/10684 [==============================] - 457s - loss: 0.0158 - acc: 0.9945 - val_loss: 3.4686 - val_acc: 0.5662\n",
      "Epoch 24/50\n",
      "10684/10684 [==============================] - 457s - loss: 0.0261 - acc: 0.9920 - val_loss: 3.3603 - val_acc: 0.5677\n",
      "Epoch 25/50\n",
      "10684/10684 [==============================] - 457s - loss: 0.0200 - acc: 0.9945 - val_loss: 3.4176 - val_acc: 0.5659\n",
      "Epoch 26/50\n",
      "10684/10684 [==============================] - 457s - loss: 0.0180 - acc: 0.9946 - val_loss: 3.3685 - val_acc: 0.5647\n",
      "Epoch 27/50\n",
      "10684/10684 [==============================] - 457s - loss: 0.0181 - acc: 0.9949 - val_loss: 3.2072 - val_acc: 0.5782\n",
      "Epoch 28/50\n",
      "10684/10684 [==============================] - 457s - loss: 0.0140 - acc: 0.9953 - val_loss: 3.2746 - val_acc: 0.5677\n",
      "Epoch 29/50\n",
      "10684/10684 [==============================] - 457s - loss: 0.0205 - acc: 0.9934 - val_loss: 3.1848 - val_acc: 0.5786\n",
      "Epoch 30/50\n",
      "10684/10684 [==============================] - 457s - loss: 0.0107 - acc: 0.9973 - val_loss: 3.2119 - val_acc: 0.5820\n",
      "Epoch 31/50\n",
      "10684/10684 [==============================] - 457s - loss: 0.0148 - acc: 0.9954 - val_loss: 3.3173 - val_acc: 0.5745\n",
      "Epoch 32/50\n",
      "10684/10684 [==============================] - 457s - loss: 0.0136 - acc: 0.9965 - val_loss: 3.4397 - val_acc: 0.5767\n",
      "Epoch 33/50\n",
      "10684/10684 [==============================] - 457s - loss: 0.0113 - acc: 0.9960 - val_loss: 3.2987 - val_acc: 0.5763\n",
      "Epoch 34/50\n",
      "10684/10684 [==============================] - 457s - loss: 0.0146 - acc: 0.9955 - val_loss: 3.3931 - val_acc: 0.5606\n",
      "Epoch 35/50\n",
      "10684/10684 [==============================] - 457s - loss: 0.0150 - acc: 0.9948 - val_loss: 3.3975 - val_acc: 0.5726\n",
      "Epoch 36/50\n",
      "10684/10684 [==============================] - 457s - loss: 0.0153 - acc: 0.9950 - val_loss: 3.4885 - val_acc: 0.5692\n",
      "Epoch 37/50\n",
      "10684/10684 [==============================] - 457s - loss: 0.0127 - acc: 0.9962 - val_loss: 3.5262 - val_acc: 0.5632\n",
      "Epoch 38/50\n",
      "10684/10684 [==============================] - 457s - loss: 0.0114 - acc: 0.9972 - val_loss: 3.3026 - val_acc: 0.5827\n",
      "Epoch 39/50\n",
      "10684/10684 [==============================] - 457s - loss: 0.0145 - acc: 0.9959 - val_loss: 3.4103 - val_acc: 0.5745\n",
      "Epoch 40/50\n",
      "10684/10684 [==============================] - 457s - loss: 0.0136 - acc: 0.9957 - val_loss: 3.3693 - val_acc: 0.5812\n",
      "Epoch 41/50\n",
      "10684/10684 [==============================] - 457s - loss: 0.0095 - acc: 0.9973 - val_loss: 3.3704 - val_acc: 0.5793\n",
      "Epoch 42/50\n",
      "10684/10684 [==============================] - 457s - loss: 0.0152 - acc: 0.9949 - val_loss: 3.3744 - val_acc: 0.5719\n",
      "Epoch 43/50\n",
      "10684/10684 [==============================] - 457s - loss: 0.0100 - acc: 0.9972 - val_loss: 3.3598 - val_acc: 0.5805\n",
      "Epoch 44/50\n",
      "10684/10684 [==============================] - 457s - loss: 0.0112 - acc: 0.9967 - val_loss: 3.3938 - val_acc: 0.5865\n",
      "Epoch 45/50\n",
      "10684/10684 [==============================] - 457s - loss: 0.0120 - acc: 0.9969 - val_loss: 3.3007 - val_acc: 0.5767\n",
      "Epoch 46/50\n",
      "10684/10684 [==============================] - 457s - loss: 0.0128 - acc: 0.9963 - val_loss: 3.5525 - val_acc: 0.5662\n",
      "Epoch 47/50\n",
      "10684/10684 [==============================] - 457s - loss: 0.0115 - acc: 0.9971 - val_loss: 3.4072 - val_acc: 0.5797\n",
      "Epoch 48/50\n",
      "10684/10684 [==============================] - 457s - loss: 0.0093 - acc: 0.9975 - val_loss: 3.4351 - val_acc: 0.5793\n",
      "Epoch 49/50\n",
      "10684/10684 [==============================] - 457s - loss: 0.0129 - acc: 0.9953 - val_loss: 3.3577 - val_acc: 0.5842\n",
      "Epoch 50/50\n",
      "10684/10684 [==============================] - 457s - loss: 0.0149 - acc: 0.9958 - val_loss: 3.4258 - val_acc: 0.5808\n"
     ]
    },
    {
     "data": {
      "text/plain": [
       "<keras.callbacks.History at 0x7f86640f1f50>"
      ]
     },
     "execution_count": 59,
     "metadata": {},
     "output_type": "execute_result"
    }
   ],
   "source": [
    "model.fit(X_train, Y_train, batch_size=32, nb_epoch=50,\n",
    "        show_accuracy=True, verbose=1, shuffle=True, validation_split=.2)"
   ]
  },
  {
   "cell_type": "code",
   "execution_count": 60,
   "metadata": {
    "collapsed": true
   },
   "outputs": [],
   "source": [
    "json_string = model.to_json()\n",
    "open('models/CNN-H1-160e.json', 'w').write(json_string)\n",
    "model.save_weights('models/CNN-H1-160e.h5', overwrite=True)"
   ]
  },
  {
   "cell_type": "code",
   "execution_count": null,
   "metadata": {
    "collapsed": true
   },
   "outputs": [],
   "source": []
  }
 ],
 "metadata": {
  "kernelspec": {
   "display_name": "Python 2",
   "language": "python",
   "name": "python2"
  },
  "language_info": {
   "codemirror_mode": {
    "name": "ipython",
    "version": 2
   },
   "file_extension": ".py",
   "mimetype": "text/x-python",
   "name": "python",
   "nbconvert_exporter": "python",
   "pygments_lexer": "ipython2",
   "version": "2.7.6"
  }
 },
 "nbformat": 4,
 "nbformat_minor": 0
}
