{
 "cells": [
  {
   "cell_type": "markdown",
   "metadata": {},
   "source": [
    "<h1> Stacked Auto Encoders 5-14-2016</h1>\n",
    "\n",
    "Assuming CNN-H1, and the 6 CNNs for the patches have been trained, we can use the weights to get activations for their fc6 layer and train 3 layers of our SAE individually."
   ]
  },
  {
   "cell_type": "code",
   "execution_count": 1,
   "metadata": {
    "collapsed": false
   },
   "outputs": [],
   "source": [
    "%load_ext autoreload"
   ]
  },
  {
   "cell_type": "code",
   "execution_count": 2,
   "metadata": {
    "collapsed": false
   },
   "outputs": [
    {
     "name": "stderr",
     "output_type": "stream",
     "text": [
      "Using Theano backend.\n"
     ]
    }
   ],
   "source": [
    "%autoreload 2\n",
    "%matplotlib inline\n",
    "\n",
    "import os\n",
    "import numpy as np\n",
    "import matplotlib.pyplot as plt\n",
    "from scipy.ndimage.filters import gaussian_filter\n",
    "\n",
    "from skimage import io\n",
    "from skimage.color import rgb2grey\n",
    "from skimage.transform import resize\n",
    "\n",
    "from keras import backend as K\n",
    "from keras.utils import np_utils\n",
    "from keras.models import model_from_json\n",
    "\n",
    "np.random.seed(123456)"
   ]
  },
  {
   "cell_type": "code",
   "execution_count": 3,
   "metadata": {
    "collapsed": false
   },
   "outputs": [],
   "source": [
    "data_path = '../data/lfw_cropped'\n",
    "noise_width = 15\n",
    "num_people = 600\n",
    "cnn_h1_rows, cnn_h1_cols = 165, 120\n",
    "cnn_p1_rows, cnn_p1_cols = 100, 100\n",
    "\n",
    "nn1_model_file = 'NN1_1x100x100_600'\n",
    "nn2_model_file = 'NN2_1x165x120_600'\n",
    "\n",
    "cnn_h1_weight_file = 'CNN-H1_epoch-20'\n",
    "cnn_p1_weight_file = 'CNN-P1_epoch-20'\n",
    "cnn_p2_weight_file = 'CNN-P2_epoch-20'\n",
    "cnn_p3_weight_file = 'CNN-P3_epoch-20'\n",
    "cnn_p4_weight_file = 'CNN-P4_epoch-20'\n",
    "cnn_p5_weight_file = 'CNN-P5_epoch-20'\n",
    "cnn_p6_weight_file = 'CNN-P6_epoch-20'"
   ]
  },
  {
   "cell_type": "markdown",
   "metadata": {},
   "source": [
    "<h2>Loading Files</h2>"
   ]
  },
  {
   "cell_type": "code",
   "execution_count": 4,
   "metadata": {
    "collapsed": true
   },
   "outputs": [],
   "source": [
    "def get_face_to_file_path_dict():\n",
    "    face_to_file_paths_dict = {}\n",
    "    \n",
    "    for root, dirnames, filenames in os.walk(data_path):\n",
    "        for dirname in dirnames:\n",
    "            if dirname not in face_to_file_paths_dict:\n",
    "                face_to_file_paths_dict[dirname] = []\n",
    "            directory_path = os.path.join(data_path, dirname)\n",
    "            for filename in os.listdir(directory_path):\n",
    "                if filename.endswith('_image.npy'):\n",
    "                    face_to_file_paths_dict[dirname].append(os.path.join(directory_path, filename))\n",
    "                            \n",
    "    return face_to_file_paths_dict\n",
    "\n",
    "def get_face_to_file_paths_descending_list(face_to_file_paths_dict):\n",
    "    return sorted(face_to_file_paths_dict.items(), key=lambda x: len(x[1]), reverse=True)"
   ]
  },
  {
   "cell_type": "code",
   "execution_count": 5,
   "metadata": {
    "collapsed": false
   },
   "outputs": [],
   "source": [
    "face_to_file_paths_dict = get_face_to_file_path_dict()\n",
    "face_to_file_paths_list = get_face_to_file_paths_descending_list(face_to_file_paths_dict)[:num_people]"
   ]
  },
  {
   "cell_type": "markdown",
   "metadata": {},
   "source": [
    "<h2>Image Pre-Processing</h2>"
   ]
  },
  {
   "cell_type": "code",
   "execution_count": 6,
   "metadata": {
    "collapsed": true
   },
   "outputs": [],
   "source": [
    "def reflection(image):\n",
    "    return np.array([list(reversed(row)) for row in image])\n",
    "\n",
    "def partition(image, top_left, rows, cols):\n",
    "    return np.array([row[top_left[1]:top_left[1] + cols] for row in image[top_left[0]:top_left[0] + rows]])\n",
    "\n",
    "def get_random_noise_image(image, coords, width):\n",
    "    \"\"\"\n",
    "    Apply random gaussian generated values\n",
    "    and distribute them on gaussian distributed square\n",
    "    centered on the coordinates passed in for the image\n",
    "    \"\"\"\n",
    "    \n",
    "    noise = np.zeros((image.shape[0], image.shape[1]))\n",
    "    for coord in coords:\n",
    "        # Convert coordinates to rows / columns\n",
    "        apply_noise_at_point(coord[1], coord[0], noise, width)\n",
    "    return np.clip(image + noise, 0, 1)\n",
    "\n",
    "def apply_noise_at_point(x, y, noise, width):\n",
    "    \"\"\"\n",
    "    Generate a block with a single random value placed at the center\n",
    "    Apply the Gaussian filter with std of 4\n",
    "    Place it on the noise array at the appropriate coordinates\n",
    "    \n",
    "    x represents the rows\n",
    "    y represents the cols\n",
    "    \"\"\"\n",
    "    \n",
    "    block = np.zeros((width, width))\n",
    "    block[width / 2, width / 2] = np.random.normal()\n",
    "    block = gaussian_filter(block, sigma=4)\n",
    "    \n",
    "    x -= width / 2\n",
    "    y -= width / 2\n",
    "    \n",
    "    x_end = min(noise.shape[0] - x, block.shape[0])\n",
    "    x_start =  max(0, -x)\n",
    "\n",
    "    y_end = min(noise.shape[1] - y, block.shape[1])\n",
    "    y_start = max(0, -y)\n",
    "\n",
    "    noise[max(0, x):x+block.shape[0], max(0, y):y+block.shape[1]] = block[x_start:x_end,y_start:y_end]\n",
    "    \n",
    "def apply_noise(image, coords):\n",
    "    return get_random_noise_image(image, coords, noise_width)\n",
    "\n",
    "def get_feature_points(f):\n",
    "    f = f.replace('image', 'features')\n",
    "    return np.load(f)\n",
    "\n",
    "def get_landmark_points(f):   \n",
    "    f = f.replace('image', 'landmarks')\n",
    "    return np.load(f)\n",
    "\n",
    "def get_image_window(image, size, point):\n",
    "    \"\"\"\n",
    "    Assume image is grey image\n",
    "    \"\"\"\n",
    "    top = int(point[1] - size[0] / 2)\n",
    "    left = int(point[0] - size[1] / 2)\n",
    "    return image[top:top + size[0], left:left + size[1]]"
   ]
  },
  {
   "cell_type": "code",
   "execution_count": 7,
   "metadata": {
    "collapsed": false
   },
   "outputs": [],
   "source": [
    "images_by_class = [[(np.load(f), get_landmark_points(f), get_feature_points(f)) \n",
    "                    for f in x[1]] for x in face_to_file_paths_list]"
   ]
  },
  {
   "cell_type": "code",
   "execution_count": 8,
   "metadata": {
    "collapsed": true
   },
   "outputs": [],
   "source": [
    "# Create reflection with reflected coordinates\n",
    "for i in range(len(images_by_class)):\n",
    "    for j in range(len(images_by_class[i])):\n",
    "        im, landmarks, features = images_by_class[i][j]\n",
    "        new_features = [(im.shape[1] - p[0], p[1]) for p in features]\n",
    "        new_landmarks = [(im.shape[1] - p[0], p[1]) for p in landmarks]\n",
    "        new_landmarks[:3], new_landmarks[6:] = new_landmarks[6:], new_landmarks[:3]\n",
    "        images_by_class[i].append((reflection(im), new_landmarks, new_features))"
   ]
  },
  {
   "cell_type": "code",
   "execution_count": 9,
   "metadata": {
    "collapsed": false
   },
   "outputs": [],
   "source": [
    "# Doubling the images and applying random gaussian noise\n",
    "for i in range(len(images_by_class)):\n",
    "    images_by_class[i] += images_by_class[i][:]\n",
    "    images_by_class[i] = [(apply_noise(im, features), landmarks) \n",
    "                          for im, landmarks, features in images_by_class[i]]"
   ]
  },
  {
   "cell_type": "markdown",
   "metadata": {},
   "source": [
    "<h2>Image Partitioning</h2>\n",
    "\n",
    "Images are cropped for each CNN, verification of size and shuffling"
   ]
  },
  {
   "cell_type": "code",
   "execution_count": 10,
   "metadata": {
    "collapsed": false
   },
   "outputs": [],
   "source": [
    "def get_images(rows, cols, landmark_index):\n",
    "    temp_images_by_class = [None for _ in range(len(images_by_class))]\n",
    "    for i in range(len(images_by_class)):\n",
    "        temp_images_by_class[i] = [get_image_window(im, (rows, cols), landmarks[landmark_index])\n",
    "                              for im, landmarks in images_by_class[i]]\n",
    "    images = [image \n",
    "            for images in temp_images_by_class \n",
    "            for image in images \n",
    "            ]\n",
    "    return images"
   ]
  },
  {
   "cell_type": "code",
   "execution_count": 11,
   "metadata": {
    "collapsed": true
   },
   "outputs": [],
   "source": [
    "y_train = [images[0] \n",
    "    for images in enumerate(images_by_class) \n",
    "    for image in images[1] \n",
    "]"
   ]
  },
  {
   "cell_type": "code",
   "execution_count": 12,
   "metadata": {
    "collapsed": false
   },
   "outputs": [],
   "source": [
    "images_h1 = get_images(cnn_h1_rows, cnn_h1_cols, 4)\n",
    "images_p1 = get_images(cnn_p1_rows, cnn_p1_cols, 0)\n",
    "images_p2 = get_images(cnn_p1_rows, cnn_p1_cols, 1)\n",
    "images_p3 = get_images(cnn_p1_rows, cnn_p1_cols, 2)\n",
    "images_p4 = get_images(cnn_p1_rows, cnn_p1_cols, 3)\n",
    "images_p5 = get_images(cnn_p1_rows, cnn_p1_cols, 4)\n",
    "images_p6 = get_images(cnn_p1_rows, cnn_p1_cols, 5)"
   ]
  },
  {
   "cell_type": "code",
   "execution_count": 13,
   "metadata": {
    "collapsed": true
   },
   "outputs": [],
   "source": [
    "zipped = np.array(zip(images_h1, \n",
    "                      images_p1,\n",
    "                      images_p2,\n",
    "                      images_p3,\n",
    "                      images_p4,\n",
    "                      images_p5,\n",
    "                      images_p6,\n",
    "                      y_train))"
   ]
  },
  {
   "cell_type": "code",
   "execution_count": 14,
   "metadata": {
    "collapsed": false
   },
   "outputs": [
    {
     "data": {
      "text/plain": [
       "26688"
      ]
     },
     "execution_count": 14,
     "metadata": {},
     "output_type": "execute_result"
    }
   ],
   "source": [
    "len(zipped)"
   ]
  },
  {
   "cell_type": "code",
   "execution_count": 15,
   "metadata": {
    "collapsed": false
   },
   "outputs": [],
   "source": [
    "zipped = [images \n",
    "    for images in zipped  \n",
    "    if images[0].shape == (cnn_h1_rows, cnn_h1_cols)\n",
    "          and images[1].shape == (cnn_p1_rows, cnn_p1_cols)\n",
    "          and images[2].shape == (cnn_p1_rows, cnn_p1_cols)\n",
    "          and images[3].shape == (cnn_p1_rows, cnn_p1_cols)\n",
    "          and images[4].shape == (cnn_p1_rows, cnn_p1_cols)\n",
    "          and images[5].shape == (cnn_p1_rows, cnn_p1_cols)\n",
    "          and images[6].shape == (cnn_p1_rows, cnn_p1_cols)\n",
    "    ]"
   ]
  },
  {
   "cell_type": "code",
   "execution_count": 16,
   "metadata": {
    "collapsed": false
   },
   "outputs": [
    {
     "data": {
      "text/plain": [
       "26668"
      ]
     },
     "execution_count": 16,
     "metadata": {},
     "output_type": "execute_result"
    }
   ],
   "source": [
    "len(zipped)"
   ]
  },
  {
   "cell_type": "code",
   "execution_count": 17,
   "metadata": {
    "collapsed": true
   },
   "outputs": [],
   "source": [
    "np.random.shuffle(zipped)"
   ]
  },
  {
   "cell_type": "code",
   "execution_count": 18,
   "metadata": {
    "collapsed": true
   },
   "outputs": [],
   "source": [
    "X_train_h1 = np.array([x[0] for x in zipped])\n",
    "X_train_p1 = np.array([x[1] for x in zipped])\n",
    "X_train_p2 = np.array([x[2] for x in zipped])\n",
    "X_train_p3 = np.array([x[3] for x in zipped])\n",
    "X_train_p4 = np.array([x[4] for x in zipped])\n",
    "X_train_p5 = np.array([x[5] for x in zipped])\n",
    "X_train_p6 = np.array([x[6] for x in zipped])\n",
    "y_train = np.array([x[7] for x in zipped])"
   ]
  },
  {
   "cell_type": "code",
   "execution_count": 19,
   "metadata": {
    "collapsed": false
   },
   "outputs": [
    {
     "data": {
      "image/png": "[encoded data removed]",
      "text/plain": [
       "<matplotlib.figure.Figure at 0x7f3db5f30810>"
      ]
     },
     "metadata": {},
     "output_type": "display_data"
    },
    {
     "data": {
      "image/png": "[encoded data removed]",
      "text/plain": [
       "<matplotlib.figure.Figure at 0x7f3899590e90>"
      ]
     },
     "metadata": {},
     "output_type": "display_data"
    }
   ],
   "source": [
    "# Validating faces are correct\n",
    "i = 9000\n",
    "fig, ax = plt.subplots(nrows=3, ncols=2)\n",
    "\n",
    "ax[0][0].imshow(X_train_p1[i], cmap='Greys_r')\n",
    "ax[1][0].imshow(X_train_p2[i], cmap='Greys_r')\n",
    "ax[2][0].imshow(X_train_p3[i], cmap='Greys_r')\n",
    "ax[0][1].imshow(X_train_p4[i], cmap='Greys_r')\n",
    "ax[1][1].imshow(X_train_p5[i], cmap='Greys_r')\n",
    "ax[2][1].imshow(X_train_p6[i], cmap='Greys_r')\n",
    "plt.show()\n",
    "plt.imshow(X_train_h1[i], cmap='Greys_r')\n",
    "plt.show()"
   ]
  },
  {
   "cell_type": "code",
   "execution_count": 20,
   "metadata": {
    "collapsed": true
   },
   "outputs": [],
   "source": [
    "def get_reshaped_training_set(X_train):\n",
    "    return X_train.reshape(X_train.shape[0], 1, X_train.shape[1], X_train.shape[2])"
   ]
  },
  {
   "cell_type": "code",
   "execution_count": 21,
   "metadata": {
    "collapsed": false
   },
   "outputs": [],
   "source": [
    "X_train_h1 = get_reshaped_training_set(X_train_h1)\n",
    "X_train_p1 = get_reshaped_training_set(X_train_p1)\n",
    "X_train_p2 = get_reshaped_training_set(X_train_p2)\n",
    "X_train_p3 = get_reshaped_training_set(X_train_p3)\n",
    "X_train_p4 = get_reshaped_training_set(X_train_p4)\n",
    "X_train_p5 = get_reshaped_training_set(X_train_p5)\n",
    "X_train_p6 = get_reshaped_training_set(X_train_p6)\n",
    "\n",
    "Y_train = np_utils.to_categorical(y_train, len(images_by_class))"
   ]
  },
  {
   "cell_type": "code",
   "execution_count": 22,
   "metadata": {
    "collapsed": false
   },
   "outputs": [
    {
     "name": "stdout",
     "output_type": "stream",
     "text": [
      "(26668, 1, 165, 120)\n",
      "(26668, 1, 100, 100)\n",
      "(26668, 1, 100, 100)\n",
      "(26668, 1, 100, 100)\n",
      "(26668, 1, 100, 100)\n",
      "(26668, 1, 100, 100)\n",
      "(26668, 1, 100, 100)\n"
     ]
    }
   ],
   "source": [
    "print X_train_h1.shape\n",
    "print X_train_p1.shape\n",
    "print X_train_p2.shape\n",
    "print X_train_p3.shape\n",
    "print X_train_p4.shape\n",
    "print X_train_p5.shape\n",
    "print X_train_p6.shape"
   ]
  },
  {
   "cell_type": "markdown",
   "metadata": {},
   "source": [
    "<h2>Loading Models</h2>"
   ]
  },
  {
   "cell_type": "code",
   "execution_count": 23,
   "metadata": {
    "collapsed": true
   },
   "outputs": [],
   "source": [
    "def load_model(model_file, weight_file):\n",
    "    model = None\n",
    "    with open('models/' + model_file + '.json','r') as f:\n",
    "        model = model_from_json(f.read())\n",
    "    model.load_weights('models/' + weight_file + '.h5')\n",
    "    return model"
   ]
  },
  {
   "cell_type": "code",
   "execution_count": 24,
   "metadata": {
    "collapsed": false
   },
   "outputs": [],
   "source": [
    "cnn_h1 = load_model(nn2_model_file, cnn_h1_weight_file)\n",
    "cnn_p1 = load_model(nn1_model_file, cnn_p1_weight_file)\n",
    "cnn_p2 = load_model(nn1_model_file, cnn_p2_weight_file)\n",
    "cnn_p3 = load_model(nn1_model_file, cnn_p3_weight_file)\n",
    "cnn_p4 = load_model(nn1_model_file, cnn_p4_weight_file)\n",
    "cnn_p5 = load_model(nn1_model_file, cnn_p5_weight_file)\n",
    "cnn_p6 = load_model(nn1_model_file, cnn_p6_weight_file)"
   ]
  },
  {
   "cell_type": "code",
   "execution_count": 25,
   "metadata": {
    "collapsed": false
   },
   "outputs": [
    {
     "name": "stdout",
     "output_type": "stream",
     "text": [
      "31\n",
      "27\n",
      "27\n",
      "27\n",
      "27\n",
      "27\n",
      "27\n"
     ]
    }
   ],
   "source": [
    "print len(cnn_h1.layers)\n",
    "print len(cnn_p1.layers)\n",
    "print len(cnn_p2.layers)\n",
    "print len(cnn_p3.layers)\n",
    "print len(cnn_p4.layers)\n",
    "print len(cnn_p5.layers)\n",
    "print len(cnn_p6.layers)"
   ]
  },
  {
   "cell_type": "markdown",
   "metadata": {},
   "source": [
    "<h2>Creating Activations for each layer</h2>"
   ]
  },
  {
   "cell_type": "code",
   "execution_count": 26,
   "metadata": {
    "collapsed": true
   },
   "outputs": [],
   "source": [
    "def get_activations(model, X_batch):\n",
    "    get_activations = K.function([model.layers[0].input, K.learning_phase()], model.layers[-2].output)\n",
    "    activations = get_activations([X_batch,0])\n",
    "    return activations"
   ]
  },
  {
   "cell_type": "code",
   "execution_count": 27,
   "metadata": {
    "collapsed": false
   },
   "outputs": [
    {
     "ename": "MemoryError",
     "evalue": "alloc failed\nApply node that caused the error: Alloc(TensorConstant{0.0}, Shape_i{0}.0, TensorConstant{128}, Elemwise{add,no_inplace}.0, Elemwise{add,no_inplace}.0)\nToposort index: 54\nInputs types: [TensorType(float32, scalar), TensorType(int64, scalar), TensorType(int64, scalar), TensorType(int64, scalar), TensorType(int64, scalar)]\nInputs shapes: [(), (), (), (), ()]\nInputs strides: [(), (), (), (), ()]\nInputs values: [array(0.0, dtype=float32), array(26668), array(128), array(22), array(16)]\nOutputs clients: [[IncSubtensor{InplaceSet;::, ::, int64:int64:, int64:int64:}(Alloc.0, Pool{ds=(2, 2), ignore_border=True, st=(2, 2), padding=(0, 0), mode='max'}.0, Constant{1}, ScalarFromTensor.0, Constant{1}, ScalarFromTensor.0)]]\n\nBacktrace when the node is created(use Theano flag traceback.limit=N to make it longer):\n  File \"/usr/local/lib/python2.7/dist-packages/keras/utils/layer_utils.py\", line 35, in layer_from_config\n    return layer_class.from_config(config['config'])\n  File \"/usr/local/lib/python2.7/dist-packages/keras/models.py\", line 767, in from_config\n    model.add(layer)\n  File \"/usr/local/lib/python2.7/dist-packages/keras/models.py\", line 146, in add\n    output_tensor = layer(self.outputs[0])\n  File \"/usr/local/lib/python2.7/dist-packages/keras/engine/topology.py\", line 485, in __call__\n    self.add_inbound_node(inbound_layers, node_indices, tensor_indices)\n  File \"/usr/local/lib/python2.7/dist-packages/keras/engine/topology.py\", line 543, in add_inbound_node\n    Node.create_node(self, inbound_layers, node_indices, tensor_indices)\n  File \"/usr/local/lib/python2.7/dist-packages/keras/engine/topology.py\", line 148, in create_node\n    output_tensors = to_list(outbound_layer.call(input_tensors[0], mask=input_masks[0]))\n  File \"/usr/local/lib/python2.7/dist-packages/keras/layers/convolutional.py\", line 1191, in call\n    dim_ordering=self.dim_ordering)\n  File \"/usr/local/lib/python2.7/dist-packages/keras/backend/theano_backend.py\", line 421, in spatial_2d_padding\n    output = T.zeros(output_shape)\n\nHINT: Use the Theano flag 'exception_verbosity=high' for a debugprint and storage map footprint of this apply node.",
     "output_type": "error",
     "traceback": [
      "\u001b[1;31m---------------------------------------------------------------------------\u001b[0m",
      "\u001b[1;31mMemoryError\u001b[0m                               Traceback (most recent call last)",
      "\u001b[1;32m<ipython-input-27-97023eb09161>\u001b[0m in \u001b[0;36m<module>\u001b[1;34m()\u001b[0m\n\u001b[1;32m----> 1\u001b[1;33m \u001b[0mactivations_h1\u001b[0m \u001b[1;33m=\u001b[0m \u001b[0mget_activations\u001b[0m\u001b[1;33m(\u001b[0m\u001b[0mcnn_h1\u001b[0m\u001b[1;33m,\u001b[0m \u001b[0mX_train_h1\u001b[0m\u001b[1;33m)\u001b[0m\u001b[1;33m\u001b[0m\u001b[0m\n\u001b[0m",
      "\u001b[1;32m<ipython-input-26-13eed717acc2>\u001b[0m in \u001b[0;36mget_activations\u001b[1;34m(model, X_batch)\u001b[0m\n\u001b[0;32m      1\u001b[0m \u001b[1;32mdef\u001b[0m \u001b[0mget_activations\u001b[0m\u001b[1;33m(\u001b[0m\u001b[0mmodel\u001b[0m\u001b[1;33m,\u001b[0m \u001b[0mX_batch\u001b[0m\u001b[1;33m)\u001b[0m\u001b[1;33m:\u001b[0m\u001b[1;33m\u001b[0m\u001b[0m\n\u001b[0;32m      2\u001b[0m     \u001b[0mget_activations\u001b[0m \u001b[1;33m=\u001b[0m \u001b[0mK\u001b[0m\u001b[1;33m.\u001b[0m\u001b[0mfunction\u001b[0m\u001b[1;33m(\u001b[0m\u001b[1;33m[\u001b[0m\u001b[0mmodel\u001b[0m\u001b[1;33m.\u001b[0m\u001b[0mlayers\u001b[0m\u001b[1;33m[\u001b[0m\u001b[1;36m0\u001b[0m\u001b[1;33m]\u001b[0m\u001b[1;33m.\u001b[0m\u001b[0minput\u001b[0m\u001b[1;33m,\u001b[0m \u001b[0mK\u001b[0m\u001b[1;33m.\u001b[0m\u001b[0mlearning_phase\u001b[0m\u001b[1;33m(\u001b[0m\u001b[1;33m)\u001b[0m\u001b[1;33m]\u001b[0m\u001b[1;33m,\u001b[0m \u001b[0mmodel\u001b[0m\u001b[1;33m.\u001b[0m\u001b[0mlayers\u001b[0m\u001b[1;33m[\u001b[0m\u001b[1;33m-\u001b[0m\u001b[1;36m1\u001b[0m\u001b[1;33m]\u001b[0m\u001b[1;33m.\u001b[0m\u001b[0moutput\u001b[0m\u001b[1;33m)\u001b[0m\u001b[1;33m\u001b[0m\u001b[0m\n\u001b[1;32m----> 3\u001b[1;33m     \u001b[0mactivations\u001b[0m \u001b[1;33m=\u001b[0m \u001b[0mget_activations\u001b[0m\u001b[1;33m(\u001b[0m\u001b[1;33m[\u001b[0m\u001b[0mX_batch\u001b[0m\u001b[1;33m,\u001b[0m\u001b[1;36m0\u001b[0m\u001b[1;33m]\u001b[0m\u001b[1;33m)\u001b[0m\u001b[1;33m\u001b[0m\u001b[0m\n\u001b[0m\u001b[0;32m      4\u001b[0m     \u001b[1;32mreturn\u001b[0m \u001b[0mactivations\u001b[0m\u001b[1;33m\u001b[0m\u001b[0m\n",
      "\u001b[1;32m/usr/local/lib/python2.7/dist-packages/keras/backend/theano_backend.pyc\u001b[0m in \u001b[0;36m__call__\u001b[1;34m(self, inputs)\u001b[0m\n\u001b[0;32m    516\u001b[0m     \u001b[1;32mdef\u001b[0m \u001b[0m__call__\u001b[0m\u001b[1;33m(\u001b[0m\u001b[0mself\u001b[0m\u001b[1;33m,\u001b[0m \u001b[0minputs\u001b[0m\u001b[1;33m)\u001b[0m\u001b[1;33m:\u001b[0m\u001b[1;33m\u001b[0m\u001b[0m\n\u001b[0;32m    517\u001b[0m         \u001b[1;32massert\u001b[0m \u001b[0mtype\u001b[0m\u001b[1;33m(\u001b[0m\u001b[0minputs\u001b[0m\u001b[1;33m)\u001b[0m \u001b[1;32min\u001b[0m \u001b[1;33m{\u001b[0m\u001b[0mlist\u001b[0m\u001b[1;33m,\u001b[0m \u001b[0mtuple\u001b[0m\u001b[1;33m}\u001b[0m\u001b[1;33m\u001b[0m\u001b[0m\n\u001b[1;32m--> 518\u001b[1;33m         \u001b[1;32mreturn\u001b[0m \u001b[0mself\u001b[0m\u001b[1;33m.\u001b[0m\u001b[0mfunction\u001b[0m\u001b[1;33m(\u001b[0m\u001b[1;33m*\u001b[0m\u001b[0minputs\u001b[0m\u001b[1;33m)\u001b[0m\u001b[1;33m\u001b[0m\u001b[0m\n\u001b[0m\u001b[0;32m    519\u001b[0m \u001b[1;33m\u001b[0m\u001b[0m\n\u001b[0;32m    520\u001b[0m \u001b[1;33m\u001b[0m\u001b[0m\n",
      "\u001b[1;32m/usr/local/lib/python2.7/dist-packages/theano/compile/function_module.pyc\u001b[0m in \u001b[0;36m__call__\u001b[1;34m(self, *args, **kwargs)\u001b[0m\n\u001b[0;32m    869\u001b[0m                     \u001b[0mnode\u001b[0m\u001b[1;33m=\u001b[0m\u001b[0mself\u001b[0m\u001b[1;33m.\u001b[0m\u001b[0mfn\u001b[0m\u001b[1;33m.\u001b[0m\u001b[0mnodes\u001b[0m\u001b[1;33m[\u001b[0m\u001b[0mself\u001b[0m\u001b[1;33m.\u001b[0m\u001b[0mfn\u001b[0m\u001b[1;33m.\u001b[0m\u001b[0mposition_of_error\u001b[0m\u001b[1;33m]\u001b[0m\u001b[1;33m,\u001b[0m\u001b[1;33m\u001b[0m\u001b[0m\n\u001b[0;32m    870\u001b[0m                     \u001b[0mthunk\u001b[0m\u001b[1;33m=\u001b[0m\u001b[0mthunk\u001b[0m\u001b[1;33m,\u001b[0m\u001b[1;33m\u001b[0m\u001b[0m\n\u001b[1;32m--> 871\u001b[1;33m                     storage_map=getattr(self.fn, 'storage_map', None))\n\u001b[0m\u001b[0;32m    872\u001b[0m             \u001b[1;32melse\u001b[0m\u001b[1;33m:\u001b[0m\u001b[1;33m\u001b[0m\u001b[0m\n\u001b[0;32m    873\u001b[0m                 \u001b[1;31m# old-style linkers raise their own exceptions\u001b[0m\u001b[1;33m\u001b[0m\u001b[1;33m\u001b[0m\u001b[0m\n",
      "\u001b[1;32m/usr/local/lib/python2.7/dist-packages/theano/gof/link.pyc\u001b[0m in \u001b[0;36mraise_with_op\u001b[1;34m(node, thunk, exc_info, storage_map)\u001b[0m\n\u001b[0;32m    312\u001b[0m         \u001b[1;31m# extra long error message in that case.\u001b[0m\u001b[1;33m\u001b[0m\u001b[1;33m\u001b[0m\u001b[0m\n\u001b[0;32m    313\u001b[0m         \u001b[1;32mpass\u001b[0m\u001b[1;33m\u001b[0m\u001b[0m\n\u001b[1;32m--> 314\u001b[1;33m     \u001b[0mreraise\u001b[0m\u001b[1;33m(\u001b[0m\u001b[0mexc_type\u001b[0m\u001b[1;33m,\u001b[0m \u001b[0mexc_value\u001b[0m\u001b[1;33m,\u001b[0m \u001b[0mexc_trace\u001b[0m\u001b[1;33m)\u001b[0m\u001b[1;33m\u001b[0m\u001b[0m\n\u001b[0m\u001b[0;32m    315\u001b[0m \u001b[1;33m\u001b[0m\u001b[0m\n\u001b[0;32m    316\u001b[0m \u001b[1;33m\u001b[0m\u001b[0m\n",
      "\u001b[1;32m/usr/local/lib/python2.7/dist-packages/theano/compile/function_module.pyc\u001b[0m in \u001b[0;36m__call__\u001b[1;34m(self, *args, **kwargs)\u001b[0m\n\u001b[0;32m    857\u001b[0m         \u001b[0mt0_fn\u001b[0m \u001b[1;33m=\u001b[0m \u001b[0mtime\u001b[0m\u001b[1;33m.\u001b[0m\u001b[0mtime\u001b[0m\u001b[1;33m(\u001b[0m\u001b[1;33m)\u001b[0m\u001b[1;33m\u001b[0m\u001b[0m\n\u001b[0;32m    858\u001b[0m         \u001b[1;32mtry\u001b[0m\u001b[1;33m:\u001b[0m\u001b[1;33m\u001b[0m\u001b[0m\n\u001b[1;32m--> 859\u001b[1;33m             \u001b[0moutputs\u001b[0m \u001b[1;33m=\u001b[0m \u001b[0mself\u001b[0m\u001b[1;33m.\u001b[0m\u001b[0mfn\u001b[0m\u001b[1;33m(\u001b[0m\u001b[1;33m)\u001b[0m\u001b[1;33m\u001b[0m\u001b[0m\n\u001b[0m\u001b[0;32m    860\u001b[0m         \u001b[1;32mexcept\u001b[0m \u001b[0mException\u001b[0m\u001b[1;33m:\u001b[0m\u001b[1;33m\u001b[0m\u001b[0m\n\u001b[0;32m    861\u001b[0m             \u001b[1;32mif\u001b[0m \u001b[0mhasattr\u001b[0m\u001b[1;33m(\u001b[0m\u001b[0mself\u001b[0m\u001b[1;33m.\u001b[0m\u001b[0mfn\u001b[0m\u001b[1;33m,\u001b[0m \u001b[1;34m'position_of_error'\u001b[0m\u001b[1;33m)\u001b[0m\u001b[1;33m:\u001b[0m\u001b[1;33m\u001b[0m\u001b[0m\n",
      "\u001b[1;31mMemoryError\u001b[0m: alloc failed\nApply node that caused the error: Alloc(TensorConstant{0.0}, Shape_i{0}.0, TensorConstant{128}, Elemwise{add,no_inplace}.0, Elemwise{add,no_inplace}.0)\nToposort index: 54\nInputs types: [TensorType(float32, scalar), TensorType(int64, scalar), TensorType(int64, scalar), TensorType(int64, scalar), TensorType(int64, scalar)]\nInputs shapes: [(), (), (), (), ()]\nInputs strides: [(), (), (), (), ()]\nInputs values: [array(0.0, dtype=float32), array(26668), array(128), array(22), array(16)]\nOutputs clients: [[IncSubtensor{InplaceSet;::, ::, int64:int64:, int64:int64:}(Alloc.0, Pool{ds=(2, 2), ignore_border=True, st=(2, 2), padding=(0, 0), mode='max'}.0, Constant{1}, ScalarFromTensor.0, Constant{1}, ScalarFromTensor.0)]]\n\nBacktrace when the node is created(use Theano flag traceback.limit=N to make it longer):\n  File \"/usr/local/lib/python2.7/dist-packages/keras/utils/layer_utils.py\", line 35, in layer_from_config\n    return layer_class.from_config(config['config'])\n  File \"/usr/local/lib/python2.7/dist-packages/keras/models.py\", line 767, in from_config\n    model.add(layer)\n  File \"/usr/local/lib/python2.7/dist-packages/keras/models.py\", line 146, in add\n    output_tensor = layer(self.outputs[0])\n  File \"/usr/local/lib/python2.7/dist-packages/keras/engine/topology.py\", line 485, in __call__\n    self.add_inbound_node(inbound_layers, node_indices, tensor_indices)\n  File \"/usr/local/lib/python2.7/dist-packages/keras/engine/topology.py\", line 543, in add_inbound_node\n    Node.create_node(self, inbound_layers, node_indices, tensor_indices)\n  File \"/usr/local/lib/python2.7/dist-packages/keras/engine/topology.py\", line 148, in create_node\n    output_tensors = to_list(outbound_layer.call(input_tensors[0], mask=input_masks[0]))\n  File \"/usr/local/lib/python2.7/dist-packages/keras/layers/convolutional.py\", line 1191, in call\n    dim_ordering=self.dim_ordering)\n  File \"/usr/local/lib/python2.7/dist-packages/keras/backend/theano_backend.py\", line 421, in spatial_2d_padding\n    output = T.zeros(output_shape)\n\nHINT: Use the Theano flag 'exception_verbosity=high' for a debugprint and storage map footprint of this apply node."
     ]
    }
   ],
   "source": [
    "activations_h1 = get_activations(cnn_h1, X_train_h1)"
   ]
  },
  {
   "cell_type": "code",
   "execution_count": null,
   "metadata": {
    "collapsed": false
   },
   "outputs": [],
   "source": [
    "cnn_h1.predict(X_train_h1)"
   ]
  },
  {
   "cell_type": "code",
   "execution_count": null,
   "metadata": {
    "collapsed": true
   },
   "outputs": [],
   "source": [
    "activations_p1 = get_activations(cnn_p1, X_train_p1)\n",
    "activations_p2 = get_activations(cnn_p2, X_train_p2)\n",
    "activations_p3 = get_activations(cnn_p3, X_train_p3)\n",
    "activations_p4 = get_activations(cnn_p4, X_train_p4)\n",
    "activations_p5 = get_activations(cnn_p5, X_train_p5)\n",
    "activations_p6 = get_activations(cnn_p6, X_train_p6)"
   ]
  }
 ],
 "metadata": {
  "kernelspec": {
   "display_name": "Python 2",
   "language": "python",
   "name": "python2"
  },
  "language_info": {
   "codemirror_mode": {
    "name": "ipython",
    "version": 2
   },
   "file_extension": ".py",
   "mimetype": "text/x-python",
   "name": "python",
   "nbconvert_exporter": "python",
   "pygments_lexer": "ipython2",
   "version": "2.7.6"
  }
 },
 "nbformat": 4,
 "nbformat_minor": 0
}
