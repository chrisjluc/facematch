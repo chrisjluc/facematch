{
 "cells": [
  {
   "cell_type": "markdown",
   "metadata": {},
   "source": [
    "<h1>CNN-H1 4-21-2016</h1>\n",
    "\n",
    "<strong>Abstract</strong>\n",
    "Implementing the CNN-H1 using NN2 described in the paper: http://arxiv.org/pdf/1509.00244v1.pdf. \n",
    "\n",
    "<strong>Implementation</strong>\n",
    "<ul>\n",
    "<li>Narrowed the width of faces to focus on the face, cut out background</li>\n",
    "<li>Validation split of 15%</li>\n",
    "<li>fc6 layer has a length of 512</li>\n",
    "<li>Noise with width 15</li>\n",
    "<li>Number of people is 900</li>\n",
    "</ul>"
   ]
  },
  {
   "cell_type": "code",
   "execution_count": 1,
   "metadata": {
    "collapsed": false
   },
   "outputs": [],
   "source": [
    "%load_ext autoreload"
   ]
  },
  {
   "cell_type": "code",
   "execution_count": 2,
   "metadata": {
    "collapsed": false
   },
   "outputs": [
    {
     "name": "stderr",
     "output_type": "stream",
     "text": [
      "Using Theano backend.\n",
      "Using gpu device 1: GRID K520 (CNMeM is enabled with initial size: 98.0% of memory, CuDNN 3007)\n"
     ]
    }
   ],
   "source": [
    "%autoreload 2\n",
    "%matplotlib inline\n",
    "\n",
    "import os\n",
    "import fnmatch\n",
    "import numpy as np\n",
    "import matplotlib.pyplot as plt\n",
    "from matplotlib.pyplot import imshow\n",
    "from scipy.ndimage.filters import gaussian_filter\n",
    "\n",
    "from skimage import io\n",
    "from skimage.color import rgb2grey\n",
    "from skimage.transform import resize\n",
    "\n",
    "from keras.preprocessing.image import ImageDataGenerator\n",
    "from keras.models import Sequential\n",
    "from keras.layers.core import Dense, Dropout, Activation, Flatten\n",
    "from keras.layers.convolutional import Convolution2D, MaxPooling2D, ZeroPadding2D, AveragePooling2D\n",
    "from keras.optimizers import SGD\n",
    "from keras.utils import np_utils\n",
    "from keras.callbacks import EarlyStopping\n",
    "from keras.models import model_from_json\n",
    "\n",
    "np.random.seed(123456)"
   ]
  },
  {
   "cell_type": "code",
   "execution_count": 3,
   "metadata": {
    "collapsed": true
   },
   "outputs": [],
   "source": [
    "data_path = '../data/lfw_cropped'\n",
    "\n",
    "img_rows_load, img_cols_load = 160, 160\n",
    "img_rows, img_cols = 160, 120\n",
    "noise_width = 15\n",
    "num_people = 900"
   ]
  },
  {
   "cell_type": "markdown",
   "metadata": {},
   "source": [
    "<h2>Loading Files</h2>"
   ]
  },
  {
   "cell_type": "code",
   "execution_count": 4,
   "metadata": {
    "collapsed": true
   },
   "outputs": [],
   "source": [
    "def get_face_to_file_path_dict():\n",
    "    face_to_file_paths_dict = {}\n",
    "    \n",
    "    for root, dirnames, filenames in os.walk(data_path):\n",
    "        for dirname in dirnames:\n",
    "            if dirname not in face_to_file_paths_dict:\n",
    "                face_to_file_paths_dict[dirname] = []\n",
    "            directory_path = os.path.join(data_path, dirname)\n",
    "            for filename in os.listdir(directory_path):\n",
    "                if filename.endswith(\".jpg\"):\n",
    "                    face_to_file_paths_dict[dirname].append(os.path.join(directory_path, filename))\n",
    "                            \n",
    "    return face_to_file_paths_dict"
   ]
  },
  {
   "cell_type": "code",
   "execution_count": 5,
   "metadata": {
    "collapsed": false
   },
   "outputs": [],
   "source": [
    "def get_face_to_file_paths_descending_list(face_to_file_paths_dict):\n",
    "    return sorted(face_to_file_paths_dict.items(), key=lambda x: len(x[1]), reverse=True)"
   ]
  },
  {
   "cell_type": "code",
   "execution_count": 6,
   "metadata": {
    "collapsed": true
   },
   "outputs": [],
   "source": [
    "face_to_file_paths_dict = get_face_to_file_path_dict()"
   ]
  },
  {
   "cell_type": "code",
   "execution_count": 7,
   "metadata": {
    "collapsed": false
   },
   "outputs": [],
   "source": [
    "face_to_file_paths_list = get_face_to_file_paths_descending_list(face_to_file_paths_dict)[:num_people]"
   ]
  },
  {
   "cell_type": "markdown",
   "metadata": {},
   "source": [
    "<h2>Data Pre-Processing</h2>"
   ]
  },
  {
   "cell_type": "code",
   "execution_count": 8,
   "metadata": {
    "collapsed": true
   },
   "outputs": [],
   "source": [
    "file_to_facial_feature_points = {}\n",
    "def get_facial_feature_points(f):\n",
    "    if f not in file_to_facial_feature_points:\n",
    "        file_to_facial_feature_points[f] = np.load(f)\n",
    "    return file_to_facial_feature_points[f]"
   ]
  },
  {
   "cell_type": "code",
   "execution_count": 9,
   "metadata": {
    "collapsed": false
   },
   "outputs": [],
   "source": [
    "def image_read(f):\n",
    "    return rgb2grey(io.imread(f))\n",
    "    # return resize(rgb2grey(io.imread(f)), (img_rows_load, img_cols_load))\n",
    "\n",
    "def reflection(image):\n",
    "    return np.array([list(reversed(row)) for row in image])\n",
    "\n",
    "def partition(image, top_left, rows, cols):\n",
    "    return np.array([row[top_left[1]:top_left[1] + cols] for row in image[top_left[0]:top_left[0] + rows]])"
   ]
  },
  {
   "cell_type": "code",
   "execution_count": 10,
   "metadata": {
    "collapsed": true
   },
   "outputs": [],
   "source": [
    "def scale_coords(coords, resize_shape, original_shape):\n",
    "    scale = np.array(resize_shape).astype(float) / np.array(original_shape)\n",
    "    coords[:,0] = coords[:,0] * scale[1]\n",
    "    coords[:,1] = coords[:,1] * scale[0]\n",
    "    return coords"
   ]
  },
  {
   "cell_type": "code",
   "execution_count": 11,
   "metadata": {
    "collapsed": true
   },
   "outputs": [],
   "source": [
    "def get_random_noise_image(image, coords, width):\n",
    "    \"\"\"\n",
    "    Apply random gaussian generated values\n",
    "    and distribute them on gaussian distributed square\n",
    "    centered on the coordinates passed in for the image\n",
    "    \"\"\"\n",
    "    \n",
    "    noise = np.zeros((image.shape[0], image.shape[1]))\n",
    "    for coord in coords:\n",
    "        # Convert coordinates to rows / columns\n",
    "        apply_noise_at_point(coord[1], coord[0], noise, width)\n",
    "    return np.clip(image + noise, 0, 1)\n",
    "\n",
    "def apply_noise_at_point(x, y, noise, width):\n",
    "    \"\"\"\n",
    "    Generate a block with a single random value placed at the center\n",
    "    Apply the Gaussian filter with std of 4\n",
    "    Place it on the noise array at the appropriate coordinates\n",
    "    \n",
    "    x represents the rows\n",
    "    y represents the cols\n",
    "    \"\"\"\n",
    "    \n",
    "    block = np.zeros((width, width))\n",
    "    block[width / 2, width / 2] = np.random.normal()\n",
    "    block = gaussian_filter(block, sigma=4)\n",
    "\n",
    "    x -= width / 2\n",
    "    y -= width / 2\n",
    "    \n",
    "    x_end = min(noise.shape[0] - x, block.shape[0])\n",
    "    x_start =  max(0, -x)\n",
    "\n",
    "    y_end = min(noise.shape[1] - y, block.shape[1])\n",
    "    y_start = max(0, -y)\n",
    "\n",
    "    noise[max(0, x):x+block.shape[0], max(0, y):y+block.shape[1]] = block[x_start:x_end,y_start:y_end]"
   ]
  },
  {
   "cell_type": "code",
   "execution_count": 12,
   "metadata": {
    "collapsed": true
   },
   "outputs": [],
   "source": [
    "def apply_noise(image, coords):\n",
    "    return get_random_noise_image(image, coords, noise_width)"
   ]
  },
  {
   "cell_type": "code",
   "execution_count": 13,
   "metadata": {
    "collapsed": false
   },
   "outputs": [],
   "source": [
    "images_by_class = [[(image_read(f), get_facial_feature_points(os.path.splitext(f)[0] + '.npy')) \n",
    "                    for f in x[1]] for x in face_to_file_paths_list]"
   ]
  },
  {
   "cell_type": "code",
   "execution_count": 14,
   "metadata": {
    "collapsed": false
   },
   "outputs": [],
   "source": [
    "# Resize images and scale coordinates\n",
    "for i in range(len(images_by_class)):\n",
    "    images_by_class[i] = [(\n",
    "                  resize(im, (img_rows_load, img_cols_load)),\n",
    "                  scale_coords(coords, (img_rows_load, img_cols_load), im.shape)\n",
    "              ) \n",
    "              for im, coords in images_by_class[i]]"
   ]
  },
  {
   "cell_type": "code",
   "execution_count": 15,
   "metadata": {
    "collapsed": false
   },
   "outputs": [],
   "source": [
    "# Create reflection with reflected coordinates\n",
    "for i in range(len(images_by_class)):\n",
    "    for j in range(len(images_by_class[i])):\n",
    "        im, coords = images_by_class[i][j]\n",
    "        new_coords = [(im.shape[1] - coord[0], coord[1]) for coord in coords]\n",
    "        images_by_class[i].append((reflection(im), new_coords))"
   ]
  },
  {
   "cell_type": "code",
   "execution_count": 16,
   "metadata": {
    "collapsed": false
   },
   "outputs": [],
   "source": [
    "# Doubling the images and applying random gaussian noise\n",
    "for i in range(len(images_by_class)):\n",
    "    images_by_class[i] += images_by_class[i][:]\n",
    "    images_by_class[i] = [apply_noise(im, coords) for im, coords in images_by_class[i]]"
   ]
  },
  {
   "cell_type": "code",
   "execution_count": 17,
   "metadata": {
    "collapsed": false
   },
   "outputs": [],
   "source": [
    "# Partion images to 160x120, similar to the paper\n",
    "for i in range(len(images_by_class)):\n",
    "    images_by_class[i] = [partition(im, (0, 20), img_rows, img_cols) for im in images_by_class[i]]"
   ]
  },
  {
   "cell_type": "code",
   "execution_count": 18,
   "metadata": {
    "collapsed": false
   },
   "outputs": [
    {
     "name": "stdout",
     "output_type": "stream",
     "text": [
      "The history saving thread hit an unexpected error (OperationalError('database is locked',)).History will not be written to the database.\n"
     ]
    }
   ],
   "source": [
    "X_train = np.array([image for images in images_by_class for image in images])\n",
    "y_train = np.array([images[0] for images in enumerate(images_by_class) for image in images[1]])"
   ]
  },
  {
   "cell_type": "code",
   "execution_count": 19,
   "metadata": {
    "collapsed": true
   },
   "outputs": [],
   "source": [
    "zipped = np.array(zip(X_train, y_train))\n",
    "np.random.shuffle(zipped)"
   ]
  },
  {
   "cell_type": "code",
   "execution_count": 20,
   "metadata": {
    "collapsed": false
   },
   "outputs": [],
   "source": [
    "X_train = np.array([x[0] for x in zipped])\n",
    "y_train = np.array([x[1] for x in zipped])"
   ]
  },
  {
   "cell_type": "code",
   "execution_count": 21,
   "metadata": {
    "collapsed": false
   },
   "outputs": [],
   "source": [
    "X_train = X_train.reshape(X_train.shape[0], 1, img_rows, img_cols)\n",
    "Y_train = np_utils.to_categorical(y_train, len(images_by_class))"
   ]
  },
  {
   "cell_type": "markdown",
   "metadata": {},
   "source": [
    "<h2> Training and Validation</h2>"
   ]
  },
  {
   "cell_type": "code",
   "execution_count": 22,
   "metadata": {
    "collapsed": true
   },
   "outputs": [],
   "source": [
    "def NN2(input_shape, nb_classes, nb_fc6):\n",
    "    model = Sequential()\n",
    "    \n",
    "    # Layer 1\n",
    "    model.add(Convolution2D(64, 3, 3, activation='relu', input_shape=input_shape))\n",
    "    model.add(Convolution2D(128, 3, 3, activation='relu'))\n",
    "    model.add(MaxPooling2D((2,2), strides=(2,2)))\n",
    "\n",
    "    # Layer 2\n",
    "    model.add(Convolution2D(64, 3, 3, activation='relu'))\n",
    "    model.add(Convolution2D(128, 3, 3, activation='relu'))\n",
    "    model.add(MaxPooling2D((2,2), strides=(2,2)))\n",
    "\n",
    "    # Layer 3\n",
    "    model.add(ZeroPadding2D((1,1)))\n",
    "    model.add(Convolution2D(128, 3, 3, activation='relu'))\n",
    "    model.add(ZeroPadding2D((1,1)))\n",
    "    model.add(Convolution2D(128, 3, 3, activation='relu'))\n",
    "    model.add(ZeroPadding2D((1,1)))\n",
    "    model.add(MaxPooling2D((2,2), strides=(2,2)))\n",
    "\n",
    "    #Layer 4\n",
    "    model.add(ZeroPadding2D((1,1)))\n",
    "    model.add(Convolution2D(256, 3, 3, activation='relu'))\n",
    "    model.add(ZeroPadding2D((1,1)))\n",
    "    model.add(Convolution2D(256, 3, 3, activation='relu'))\n",
    "    model.add(ZeroPadding2D((1,1)))\n",
    "    model.add(Convolution2D(256, 3, 3, activation='relu'))\n",
    "    model.add(MaxPooling2D((2,2), strides=(2,2)))\n",
    "\n",
    "    #Layer 5\n",
    "    model.add(ZeroPadding2D((1,1)))\n",
    "    model.add(Convolution2D(256, 3, 3, activation='relu'))\n",
    "    model.add(ZeroPadding2D((1,1)))\n",
    "    model.add(Convolution2D(256, 3, 3, activation='relu'))\n",
    "    model.add(ZeroPadding2D((1,1)))\n",
    "    model.add(Convolution2D(256, 3, 3))\n",
    "    model.add(ZeroPadding2D((1,1)))\n",
    "    model.add(AveragePooling2D((2,2), strides=(2,2)))\n",
    "\n",
    "    model.add(Flatten())\n",
    "    model.add(Dropout(0.4))\n",
    "    model.add(Dense(nb_fc6))\n",
    "    model.add(Dense(nb_classes, activation='softmax'))\n",
    "   \n",
    "    return model"
   ]
  },
  {
   "cell_type": "code",
   "execution_count": 23,
   "metadata": {
    "collapsed": true
   },
   "outputs": [],
   "source": [
    "input_shape = (1, img_rows, img_cols)\n",
    "nb_fc6 = 512"
   ]
  },
  {
   "cell_type": "code",
   "execution_count": 24,
   "metadata": {
    "collapsed": false
   },
   "outputs": [
    {
     "name": "stdout",
     "output_type": "stream",
     "text": [
      "Train on 25778 samples, validate on 4550 samples\n",
      "Epoch 1/10\n",
      "25778/25778 [==============================] - 804s - loss: 6.3340 - acc: 0.0603 - val_loss: 6.1200 - val_acc: 0.0695\n",
      "Epoch 2/10\n",
      "25778/25778 [==============================] - 804s - loss: 6.1337 - acc: 0.0697 - val_loss: 6.1011 - val_acc: 0.0695\n",
      "Epoch 3/10\n",
      "25778/25778 [==============================] - 804s - loss: 6.1169 - acc: 0.0698 - val_loss: 6.0888 - val_acc: 0.0695\n",
      "Epoch 4/10\n",
      "25778/25778 [==============================] - 804s - loss: 6.0712 - acc: 0.0699 - val_loss: 6.0048 - val_acc: 0.0708\n",
      "Epoch 5/10\n",
      "25778/25778 [==============================] - 804s - loss: 5.8931 - acc: 0.0759 - val_loss: 5.8044 - val_acc: 0.0877\n",
      "Epoch 6/10\n",
      "25778/25778 [==============================] - 804s - loss: 5.4386 - acc: 0.1194 - val_loss: 4.9803 - val_acc: 0.1802\n",
      "Epoch 7/10\n",
      "25778/25778 [==============================] - 805s - loss: 4.4381 - acc: 0.2162 - val_loss: 4.6533 - val_acc: 0.2020\n",
      "Epoch 8/10\n",
      "25778/25778 [==============================] - 805s - loss: 3.2625 - acc: 0.3435 - val_loss: 2.7772 - val_acc: 0.4134\n",
      "Epoch 9/10\n",
      "25778/25778 [==============================] - 805s - loss: 2.1105 - acc: 0.5233 - val_loss: 1.8079 - val_acc: 0.5851\n",
      "Epoch 10/10\n",
      "25778/25778 [==============================] - 805s - loss: 1.1557 - acc: 0.7088 - val_loss: 1.5238 - val_acc: 0.6655\n"
     ]
    },
    {
     "data": {
      "text/plain": [
       "<keras.callbacks.History at 0x7fa42bab4210>"
      ]
     },
     "execution_count": 24,
     "metadata": {},
     "output_type": "execute_result"
    }
   ],
   "source": [
    "model = NN2(input_shape, num_people, nb_fc6)\n",
    "model.compile(loss='categorical_crossentropy', optimizer='sgd')\n",
    "model.fit(X_train, Y_train, batch_size=32, nb_epoch=10, \n",
    "        show_accuracy=True, verbose=1, shuffle=True, validation_split=.15)"
   ]
  },
  {
   "cell_type": "code",
   "execution_count": 25,
   "metadata": {
    "collapsed": false
   },
   "outputs": [],
   "source": [
    "json_string = model.to_json()\n",
    "open('models/CNN-H1_fc6-512_people-900_epoch-10.json', 'w').write(json_string)\n",
    "model.save_weights('models/CNN-H1_fc6-512_people-900_epoch-10.h5', overwrite=True)"
   ]
  },
  {
   "cell_type": "code",
   "execution_count": 26,
   "metadata": {
    "collapsed": true
   },
   "outputs": [],
   "source": [
    "model.load_weights('models/CNN-H1_fc6-512_people-900_epoch-10.h5')"
   ]
  },
  {
   "cell_type": "code",
   "execution_count": 27,
   "metadata": {
    "collapsed": false
   },
   "outputs": [
    {
     "name": "stdout",
     "output_type": "stream",
     "text": [
      "Train on 25778 samples, validate on 4550 samples\n",
      "Epoch 1/10\n",
      "25778/25778 [==============================] - 805s - loss: 0.2941 - acc: 0.9203 - val_loss: 0.5866 - val_acc: 0.8774\n",
      "Epoch 2/10\n",
      "25778/25778 [==============================] - 805s - loss: 0.1628 - acc: 0.9550 - val_loss: 0.4822 - val_acc: 0.9066\n",
      "Epoch 3/10\n",
      "25778/25778 [==============================] - 805s - loss: 0.1212 - acc: 0.9660 - val_loss: 0.4324 - val_acc: 0.9237\n",
      "Epoch 4/10\n",
      "25778/25778 [==============================] - 805s - loss: 0.0912 - acc: 0.9742 - val_loss: 0.3950 - val_acc: 0.9323\n",
      "Epoch 5/10\n",
      "25778/25778 [==============================] - 805s - loss: 0.0811 - acc: 0.9761 - val_loss: 0.3845 - val_acc: 0.9369\n",
      "Epoch 6/10\n",
      "25778/25778 [==============================] - 805s - loss: 0.0639 - acc: 0.9826 - val_loss: 0.3853 - val_acc: 0.9382\n",
      "Epoch 7/10\n",
      "25778/25778 [==============================] - 804s - loss: 0.0550 - acc: 0.9844 - val_loss: 0.3686 - val_acc: 0.9407\n",
      "Epoch 8/10\n",
      "25778/25778 [==============================] - 805s - loss: 0.0492 - acc: 0.9855 - val_loss: 0.3699 - val_acc: 0.9404\n",
      "Epoch 9/10\n",
      "25778/25778 [==============================] - 805s - loss: 0.0457 - acc: 0.9868 - val_loss: 0.3508 - val_acc: 0.9426\n",
      "Epoch 10/10\n",
      "25778/25778 [==============================] - 805s - loss: 0.0389 - acc: 0.9889 - val_loss: 0.3636 - val_acc: 0.9422\n"
     ]
    },
    {
     "data": {
      "text/plain": [
       "<keras.callbacks.History at 0x7fa19ced7050>"
      ]
     },
     "execution_count": 27,
     "metadata": {},
     "output_type": "execute_result"
    }
   ],
   "source": [
    "model.compile(loss='categorical_crossentropy', optimizer=SGD(lr=0.001))\n",
    "model.fit(X_train, Y_train, batch_size=32, nb_epoch=10,\n",
    "        show_accuracy=True, verbose=1, shuffle=True, validation_split=.15)"
   ]
  },
  {
   "cell_type": "code",
   "execution_count": 28,
   "metadata": {
    "collapsed": false
   },
   "outputs": [],
   "source": [
    "json_string = model.to_json()\n",
    "open('models/CNN-H1_fc6-512_people-900_epoch-20.json', 'w').write(json_string)\n",
    "model.save_weights('models/CNN-H1_fc6-512_people-900_epoch-20.h5', overwrite=True)"
   ]
  },
  {
   "cell_type": "code",
   "execution_count": 29,
   "metadata": {
    "collapsed": false
   },
   "outputs": [
    {
     "name": "stdout",
     "output_type": "stream",
     "text": [
      "Train on 25778 samples, validate on 4550 samples\n",
      "Epoch 1/10\n",
      "25778/25778 [==============================] - 805s - loss: 0.0369 - acc: 0.9894 - val_loss: 0.3624 - val_acc: 0.9448\n",
      "Epoch 2/10\n",
      "25778/25778 [==============================] - 805s - loss: 0.0325 - acc: 0.9906 - val_loss: 0.3638 - val_acc: 0.9437\n",
      "Epoch 3/10\n",
      "25778/25778 [==============================] - 805s - loss: 0.0310 - acc: 0.9912 - val_loss: 0.3547 - val_acc: 0.9468\n",
      "Epoch 4/10\n",
      "25778/25778 [==============================] - 805s - loss: 0.0266 - acc: 0.9925 - val_loss: 0.3642 - val_acc: 0.9462\n",
      "Epoch 5/10\n",
      "25778/25778 [==============================] - 805s - loss: 0.0257 - acc: 0.9924 - val_loss: 0.3624 - val_acc: 0.9437\n",
      "Epoch 6/10\n",
      "25778/25778 [==============================] - 805s - loss: 0.0234 - acc: 0.9935 - val_loss: 0.3695 - val_acc: 0.9468\n",
      "Epoch 7/10\n",
      "25778/25778 [==============================] - 805s - loss: 0.0240 - acc: 0.9939 - val_loss: 0.3703 - val_acc: 0.9464\n",
      "Epoch 8/10\n",
      "25778/25778 [==============================] - 805s - loss: 0.0222 - acc: 0.9938 - val_loss: 0.3691 - val_acc: 0.9451\n",
      "Epoch 9/10\n",
      "25778/25778 [==============================] - 804s - loss: 0.0207 - acc: 0.9939 - val_loss: 0.3767 - val_acc: 0.9431\n",
      "Epoch 10/10\n",
      "25778/25778 [==============================] - 805s - loss: 0.0213 - acc: 0.9938 - val_loss: 0.3777 - val_acc: 0.9464\n"
     ]
    },
    {
     "data": {
      "text/plain": [
       "<keras.callbacks.History at 0x7fa1a045f350>"
      ]
     },
     "execution_count": 29,
     "metadata": {},
     "output_type": "execute_result"
    }
   ],
   "source": [
    "model.fit(X_train, Y_train, batch_size=32, nb_epoch=10,\n",
    "        show_accuracy=True, verbose=1, shuffle=True, validation_split=.15)"
   ]
  },
  {
   "cell_type": "code",
   "execution_count": 30,
   "metadata": {
    "collapsed": true
   },
   "outputs": [],
   "source": [
    "json_string = model.to_json()\n",
    "open('models/CNN-H1_fc6-512_people-900_epoch-30.json', 'w').write(json_string)\n",
    "model.save_weights('models/CNN-H1_fc6-512_people-900_epoch-30.h5', overwrite=True)"
   ]
  },
  {
   "cell_type": "code",
   "execution_count": null,
   "metadata": {
    "collapsed": true
   },
   "outputs": [],
   "source": []
  }
 ],
 "metadata": {
  "kernelspec": {
   "display_name": "Python 2",
   "language": "python",
   "name": "python2"
  },
  "language_info": {
   "codemirror_mode": {
    "name": "ipython",
    "version": 2
   },
   "file_extension": ".py",
   "mimetype": "text/x-python",
   "name": "python",
   "nbconvert_exporter": "python",
   "pygments_lexer": "ipython2",
   "version": "2.7.6"
  }
 },
 "nbformat": 4,
 "nbformat_minor": 0
}
