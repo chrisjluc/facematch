{
 "cells": [
  {
   "cell_type": "code",
   "execution_count": 1,
   "metadata": {
    "collapsed": true
   },
   "outputs": [],
   "source": [
    "%load_ext autoreload"
   ]
  },
  {
   "cell_type": "code",
   "execution_count": 2,
   "metadata": {
    "collapsed": false
   },
   "outputs": [],
   "source": [
    "%matplotlib inline\n",
    "import os\n",
    "\n",
    "from api import API\n",
    "from image import NoFaceDetectedException"
   ]
  },
  {
   "cell_type": "code",
   "execution_count": 3,
   "metadata": {
    "collapsed": true
   },
   "outputs": [],
   "source": [
    "data_path = 'tests/.data/lfw/'\n",
    "image = 'tests/.data/lfw/{0}/{0}_{1}.jpg'"
   ]
  },
  {
   "cell_type": "code",
   "execution_count": 4,
   "metadata": {
    "collapsed": true
   },
   "outputs": [],
   "source": [
    "def get_names_by_count(path):\n",
    "    count_by_names_dict = {}\n",
    "    for root, dirnames, filenames in os.walk(path):\n",
    "        for dirname in dirnames:\n",
    "            if dirname not in count_by_names_dict:\n",
    "                count_by_names_dict[dirname] = 0\n",
    "            directory_path = os.path.join(path, dirname)\n",
    "            for filename in os.listdir(directory_path):\n",
    "                if filename.endswith(\".jpg\"):\n",
    "                    count_by_names_dict[dirname] += 1\n",
    "    return [x for x in count_by_names_dict.iteritems()]"
   ]
  },
  {
   "cell_type": "code",
   "execution_count": 5,
   "metadata": {
    "collapsed": false
   },
   "outputs": [],
   "source": [
    "names_by_count = get_names_by_count(data_path)\n",
    "sorted_names_by_count = sorted(names_by_count, key=lambda x: x[1], reverse=True)"
   ]
  },
  {
   "cell_type": "code",
   "execution_count": 6,
   "metadata": {
    "collapsed": false
   },
   "outputs": [],
   "source": [
    "api = API()\n",
    "api.remove_images()\n",
    "\n",
    "for name, _ in sorted_names_by_count[:50]:\n",
    "    for i in range(10):\n",
    "        try:\n",
    "            api.add_image(name, image.format(name, str(i + 1).zfill(4)))\n",
    "        except NoFaceDetectedException:\n",
    "            pass"
   ]
  },
  {
   "cell_type": "code",
   "execution_count": 7,
   "metadata": {
    "collapsed": false,
    "scrolled": false
   },
   "outputs": [
    {
     "name": "stderr",
     "output_type": "stream",
     "text": [
      "ERROR (theano.sandbox.cuda): ERROR: Not using GPU. Initialisation of device 1 failed:\n",
      "initCnmem: cnmemInit call failed! Reason=CNMEM_STATUS_OUT_OF_MEMORY. numdev=1\n",
      "\n",
      "Using Theano backend.\n",
      "Using gpu device 0: GRID K520 (CNMeM is enabled with initial size: 98.0% of memory, CuDNN 3007)\n"
     ]
    },
    {
     "name": "stdout",
     "output_type": "stream",
     "text": [
      "Train on 1782 samples, validate on 198 samples\n",
      "Epoch 1/20\n",
      "1782/1782 [==============================] - 57s - loss: 3.9238 - acc: 0.0196 - val_loss: 3.9141 - val_acc: 0.0202\n",
      "Epoch 2/20\n",
      "1782/1782 [==============================] - 57s - loss: 3.9116 - acc: 0.0219 - val_loss: 3.9147 - val_acc: 0.0152\n",
      "Epoch 3/20\n",
      "1782/1782 [==============================] - 57s - loss: 3.9074 - acc: 0.0264 - val_loss: 3.9086 - val_acc: 0.0101\n",
      "Epoch 4/20\n",
      "1782/1782 [==============================] - 57s - loss: 3.8977 - acc: 0.0258 - val_loss: 3.9090 - val_acc: 0.0152\n",
      "Epoch 5/20\n",
      "1782/1782 [==============================] - 57s - loss: 3.8876 - acc: 0.0320 - val_loss: 3.8851 - val_acc: 0.0202\n",
      "Epoch 6/20\n",
      "1782/1782 [==============================] - 57s - loss: 3.8539 - acc: 0.0337 - val_loss: 3.8071 - val_acc: 0.0404\n",
      "Epoch 7/20\n",
      "1782/1782 [==============================] - 57s - loss: 3.7713 - acc: 0.0634 - val_loss: 3.6115 - val_acc: 0.1111\n",
      "Epoch 8/20\n",
      "1782/1782 [==============================] - 57s - loss: 3.6071 - acc: 0.0932 - val_loss: 3.8347 - val_acc: 0.0303\n",
      "Epoch 9/20\n",
      "1782/1782 [==============================] - 57s - loss: 3.3092 - acc: 0.1493 - val_loss: 3.1307 - val_acc: 0.1818\n",
      "Epoch 10/20\n",
      "1782/1782 [==============================] - 57s - loss: 2.8088 - acc: 0.2581 - val_loss: 2.5527 - val_acc: 0.3333\n",
      "Epoch 11/20\n",
      "1782/1782 [==============================] - 57s - loss: 2.4084 - acc: 0.3507 - val_loss: 2.2547 - val_acc: 0.3687\n",
      "Epoch 12/20\n",
      "1782/1782 [==============================] - 57s - loss: 1.8927 - acc: 0.4731 - val_loss: 2.7176 - val_acc: 0.2727\n",
      "Epoch 13/20\n",
      "1782/1782 [==============================] - 57s - loss: 1.4819 - acc: 0.5825 - val_loss: 1.2205 - val_acc: 0.6465\n",
      "Epoch 14/20\n",
      "1782/1782 [==============================] - 57s - loss: 1.0629 - acc: 0.6891 - val_loss: 2.9875 - val_acc: 0.2323\n",
      "Epoch 15/20\n",
      "1782/1782 [==============================] - 57s - loss: 0.9401 - acc: 0.7447 - val_loss: 0.6830 - val_acc: 0.7980\n",
      "Epoch 16/20\n",
      "1782/1782 [==============================] - 57s - loss: 0.5208 - acc: 0.8462 - val_loss: 0.6224 - val_acc: 0.8081\n",
      "Epoch 17/20\n",
      "1782/1782 [==============================] - 57s - loss: 0.2592 - acc: 0.9242 - val_loss: 0.2732 - val_acc: 0.8939\n",
      "Epoch 18/20\n",
      "1782/1782 [==============================] - 57s - loss: 0.2106 - acc: 0.9394 - val_loss: 0.1062 - val_acc: 0.9697\n",
      "Epoch 19/20\n",
      "1782/1782 [==============================] - 57s - loss: 0.1027 - acc: 0.9691 - val_loss: 0.0798 - val_acc: 0.9747\n",
      "Epoch 20/20\n",
      "1782/1782 [==============================] - 57s - loss: 0.0781 - acc: 0.9787 - val_loss: 0.0235 - val_acc: 1.0000\n",
      "Train on 1782 samples, validate on 198 samples\n",
      "Epoch 1/20\n",
      "1782/1782 [==============================] - 57s - loss: 0.0223 - acc: 0.9955 - val_loss: 0.0163 - val_acc: 1.0000\n",
      "Epoch 2/20\n",
      "1782/1782 [==============================] - 57s - loss: 0.0219 - acc: 0.9955 - val_loss: 0.0144 - val_acc: 1.0000\n",
      "Epoch 3/20\n",
      "1782/1782 [==============================] - 57s - loss: 0.0107 - acc: 0.9983 - val_loss: 0.0147 - val_acc: 1.0000\n",
      "Epoch 4/20\n",
      "1782/1782 [==============================] - 57s - loss: 0.0122 - acc: 0.9972 - val_loss: 0.0162 - val_acc: 1.0000\n",
      "Epoch 5/20\n",
      "1782/1782 [==============================] - 57s - loss: 0.0121 - acc: 0.9972 - val_loss: 0.0169 - val_acc: 1.0000\n",
      "Epoch 6/20\n",
      "1782/1782 [==============================] - 57s - loss: 0.0063 - acc: 0.9989 - val_loss: 0.0148 - val_acc: 1.0000\n",
      "Epoch 7/20\n",
      "1782/1782 [==============================] - 57s - loss: 0.0086 - acc: 0.9983 - val_loss: 0.0148 - val_acc: 1.0000\n",
      "Epoch 8/20\n",
      "1782/1782 [==============================] - 57s - loss: 0.0073 - acc: 0.9989 - val_loss: 0.0152 - val_acc: 1.0000\n",
      "Epoch 9/20\n",
      "1782/1782 [==============================] - 57s - loss: 0.0064 - acc: 0.9989 - val_loss: 0.0123 - val_acc: 1.0000\n",
      "Epoch 10/20\n",
      "1782/1782 [==============================] - 57s - loss: 0.0053 - acc: 0.9989 - val_loss: 0.0112 - val_acc: 1.0000\n",
      "Epoch 11/20\n",
      "1782/1782 [==============================] - 57s - loss: 0.0043 - acc: 0.9994 - val_loss: 0.0131 - val_acc: 1.0000\n",
      "Epoch 12/20\n",
      "1782/1782 [==============================] - 57s - loss: 0.0043 - acc: 1.0000 - val_loss: 0.0140 - val_acc: 1.0000\n",
      "Epoch 13/20\n",
      "1782/1782 [==============================] - 57s - loss: 0.0066 - acc: 0.9989 - val_loss: 0.0151 - val_acc: 1.0000\n",
      "Epoch 14/20\n",
      "1782/1782 [==============================] - 57s - loss: 0.0039 - acc: 1.0000 - val_loss: 0.0143 - val_acc: 1.0000\n",
      "Epoch 15/20\n",
      "1782/1782 [==============================] - 57s - loss: 0.0036 - acc: 1.0000 - val_loss: 0.0130 - val_acc: 1.0000\n",
      "Epoch 16/20\n",
      "1782/1782 [==============================] - 57s - loss: 0.0054 - acc: 0.9994 - val_loss: 0.0131 - val_acc: 1.0000\n",
      "Epoch 17/20\n",
      "1782/1782 [==============================] - 57s - loss: 0.0027 - acc: 1.0000 - val_loss: 0.0128 - val_acc: 1.0000\n",
      "Epoch 18/20\n",
      "1782/1782 [==============================] - 57s - loss: 0.0036 - acc: 0.9994 - val_loss: 0.0130 - val_acc: 1.0000\n",
      "Epoch 19/20\n",
      "1782/1782 [==============================] - 57s - loss: 0.0048 - acc: 0.9989 - val_loss: 0.0104 - val_acc: 1.0000\n",
      "Epoch 20/20\n",
      "1782/1782 [==============================] - 57s - loss: 0.0044 - acc: 0.9983 - val_loss: 0.0091 - val_acc: 1.0000\n"
     ]
    }
   ],
   "source": [
    "api.train()"
   ]
  },
  {
   "cell_type": "code",
   "execution_count": 8,
   "metadata": {
    "collapsed": false
   },
   "outputs": [
    {
     "name": "stderr",
     "output_type": "stream",
     "text": [
      "Using Theano backend.\n"
     ]
    }
   ],
   "source": [
    "api.load_model()"
   ]
  },
  {
   "cell_type": "code",
   "execution_count": 9,
   "metadata": {
    "collapsed": false
   },
   "outputs": [
    {
     "name": "stdout",
     "output_type": "stream",
     "text": [
      "1/1 [==============================] - 0s\n",
      "0.997496545315\n",
      "1/1 [==============================] - 0s\n",
      "1.98797589501e-10\n",
      "1/1 [==============================] - 0s\n",
      "3.60174635716e-05\n",
      "1/1 [==============================] - 0s\n",
      "0.000540098408237\n"
     ]
    }
   ],
   "source": [
    "print api.compute_score(sorted_names_by_count[0][0], image.format(sorted_names_by_count[0][0], str(6).zfill(4)))\n",
    "print api.compute_score(sorted_names_by_count[1][0], image.format(sorted_names_by_count[0][0], str(6).zfill(4)))\n",
    "print api.compute_score(sorted_names_by_count[2][0], image.format(sorted_names_by_count[0][0], str(6).zfill(4)))\n",
    "print api.compute_score(sorted_names_by_count[3][0], image.format(sorted_names_by_count[0][0], str(6).zfill(4)))"
   ]
  },
  {
   "cell_type": "code",
   "execution_count": 10,
   "metadata": {
    "collapsed": false
   },
   "outputs": [
    {
     "data": {
      "text/plain": [
       "'George_W_Bush'"
      ]
     },
     "execution_count": 10,
     "metadata": {},
     "output_type": "execute_result"
    }
   ],
   "source": [
    "sorted_names_by_count[0][0]"
   ]
  },
  {
   "cell_type": "code",
   "execution_count": null,
   "metadata": {
    "collapsed": true
   },
   "outputs": [],
   "source": []
  }
 ],
 "metadata": {
  "kernelspec": {
   "display_name": "Python 2",
   "language": "python",
   "name": "python2"
  },
  "language_info": {
   "codemirror_mode": {
    "name": "ipython",
    "version": 2
   },
   "file_extension": ".py",
   "mimetype": "text/x-python",
   "name": "python",
   "nbconvert_exporter": "python",
   "pygments_lexer": "ipython2",
   "version": "2.7.6"
  }
 },
 "nbformat": 4,
 "nbformat_minor": 0
}
