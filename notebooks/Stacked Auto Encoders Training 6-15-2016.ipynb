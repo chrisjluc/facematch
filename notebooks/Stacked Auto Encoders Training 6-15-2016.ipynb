{
 "cells": [
  {
   "cell_type": "markdown",
   "metadata": {},
   "source": [
    "<h1>Stacked Auto Encoders Training 6-15-2016</h1>\n",
    "\n",
    "Assuming CNN-H1, and the 6 CNNs for the patches have been trained, we can use the weights to get activations for their fc6 layer and train 3 layers of our SAE individually."
   ]
  },
  {
   "cell_type": "code",
   "execution_count": 1,
   "metadata": {
    "collapsed": false
   },
   "outputs": [],
   "source": [
    "%load_ext autoreload"
   ]
  },
  {
   "cell_type": "code",
   "execution_count": 2,
   "metadata": {
    "collapsed": false
   },
   "outputs": [
    {
     "name": "stderr",
     "output_type": "stream",
     "text": [
      "Using gpu device 1: GRID K520 (CNMeM is enabled with initial size: 98.0% of memory, CuDNN 3007)\n",
      "Using Theano backend.\n"
     ]
    }
   ],
   "source": [
    "%autoreload 2\n",
    "%matplotlib inline\n",
    "\n",
    "import theano.sandbox.cuda\n",
    "theano.sandbox.cuda.use('gpu1')\n",
    "\n",
    "import os\n",
    "import numpy as np\n",
    "import matplotlib.pyplot as plt\n",
    "\n",
    "from multiprocessing import Process\n",
    "from scipy.ndimage.filters import gaussian_filter\n",
    "\n",
    "from skimage import io\n",
    "from skimage.color import rgb2grey\n",
    "from skimage.transform import resize\n",
    "\n",
    "from keras.layers import Input, Dense\n",
    "from keras.models import Model, Sequential\n",
    "from keras import regularizers\n",
    "\n",
    "# from keras.utils import np_utils\n",
    "\n",
    "np.random.seed(123456)"
   ]
  },
  {
   "cell_type": "code",
   "execution_count": 3,
   "metadata": {
    "collapsed": false
   },
   "outputs": [],
   "source": [
    "cnn_h1_weight_file = 'CNN-H1_epoch-20_activations'\n",
    "cnn_p1_weight_file = 'CNN-P1_epoch-20_activations'\n",
    "cnn_p2_weight_file = 'CNN-P2_epoch-20_activations'\n",
    "cnn_p3_weight_file = 'CNN-P3_epoch-20_activations'\n",
    "cnn_p4_weight_file = 'CNN-P4_epoch-20_activations'\n",
    "cnn_p5_weight_file = 'CNN-P5_epoch-20_activations'\n",
    "cnn_p6_weight_file = 'CNN-P6_epoch-20_activations'\n",
    "y_train_file = 'y_train_activations'\n",
    "\n",
    "layer_1_size = 2048\n",
    "layer_2_size = 1024\n",
    "layer_3_size = 512\n",
    "\n",
    "validation_split = .15\n"
   ]
  },
  {
   "cell_type": "code",
   "execution_count": 4,
   "metadata": {
    "collapsed": true
   },
   "outputs": [],
   "source": [
    "def load_activations(file_name):\n",
    "    return np.load('models/' + file_name + '.npy')"
   ]
  },
  {
   "cell_type": "code",
   "execution_count": 5,
   "metadata": {
    "collapsed": true
   },
   "outputs": [],
   "source": [
    "cnn_h1_activations = load_activations(cnn_h1_weight_file)\n",
    "cnn_p1_activations = load_activations(cnn_p1_weight_file)\n",
    "cnn_p2_activations = load_activations(cnn_p2_weight_file)\n",
    "cnn_p3_activations = load_activations(cnn_p3_weight_file)\n",
    "cnn_p4_activations = load_activations(cnn_p4_weight_file)\n",
    "cnn_p5_activations = load_activations(cnn_p5_weight_file)\n",
    "cnn_p6_activations = load_activations(cnn_p6_weight_file)\n",
    "y_train = load_activations(y_train_file)"
   ]
  },
  {
   "cell_type": "code",
   "execution_count": 6,
   "metadata": {
    "collapsed": true
   },
   "outputs": [],
   "source": [
    "def fix_activations(_activations):\n",
    "    return np.array([activation for activations in _activations for activation in activations])"
   ]
  },
  {
   "cell_type": "code",
   "execution_count": 7,
   "metadata": {
    "collapsed": false
   },
   "outputs": [],
   "source": [
    "cnn_h1_activations = fix_activations(cnn_h1_activations)\n",
    "cnn_p1_activations = fix_activations(cnn_p1_activations)\n",
    "cnn_p2_activations = fix_activations(cnn_p2_activations)\n",
    "cnn_p3_activations = fix_activations(cnn_p3_activations)\n",
    "cnn_p4_activations = fix_activations(cnn_p4_activations)\n",
    "cnn_p5_activations = fix_activations(cnn_p5_activations)\n",
    "cnn_p6_activations = fix_activations(cnn_p6_activations)"
   ]
  },
  {
   "cell_type": "code",
   "execution_count": 8,
   "metadata": {
    "collapsed": false
   },
   "outputs": [
    {
     "data": {
      "text/plain": [
       "(26668, 512)"
      ]
     },
     "execution_count": 8,
     "metadata": {},
     "output_type": "execute_result"
    }
   ],
   "source": [
    "cnn_h1_activations.shape"
   ]
  },
  {
   "cell_type": "code",
   "execution_count": 9,
   "metadata": {
    "collapsed": false
   },
   "outputs": [],
   "source": [
    "activations = np.concatenate((\n",
    "        cnn_h1_activations, \n",
    "        cnn_p1_activations,\n",
    "        cnn_p2_activations,\n",
    "        cnn_p3_activations,\n",
    "        cnn_p4_activations,\n",
    "        cnn_p5_activations,\n",
    "        cnn_p6_activations), axis=1)"
   ]
  },
  {
   "cell_type": "code",
   "execution_count": 10,
   "metadata": {
    "collapsed": false
   },
   "outputs": [
    {
     "data": {
      "text/plain": [
       "(26668, 3584)"
      ]
     },
     "execution_count": 10,
     "metadata": {},
     "output_type": "execute_result"
    }
   ],
   "source": [
    "activations.shape"
   ]
  },
  {
   "cell_type": "code",
   "execution_count": 11,
   "metadata": {
    "collapsed": false
   },
   "outputs": [
    {
     "data": {
      "text/plain": [
       "(26668,)"
      ]
     },
     "execution_count": 11,
     "metadata": {},
     "output_type": "execute_result"
    }
   ],
   "source": [
    "y_train.shape"
   ]
  },
  {
   "cell_type": "markdown",
   "metadata": {},
   "source": [
    "<h2>Random Noise</h2>"
   ]
  },
  {
   "cell_type": "code",
   "execution_count": 59,
   "metadata": {
    "collapsed": false
   },
   "outputs": [],
   "source": [
    "def random_noise(activations, random_threshold, gaussian_scale):\n",
    "    return np.array([np.array([value + np.random.normal(scale=gaussian_scale) \n",
    "                      if np.random.rand() < random_threshold else value\n",
    "                      for value in activation]) for activation in activations])       "
   ]
  },
  {
   "cell_type": "code",
   "execution_count": 63,
   "metadata": {
    "collapsed": false
   },
   "outputs": [
    {
     "name": "stdout",
     "output_type": "stream",
     "text": [
      "4.33587\n",
      "4.33586788177\n"
     ]
    }
   ],
   "source": [
    "\n",
    "actirandom_noise(activations, 0.05, 1)[0][0]"
   ]
  },
  {
   "cell_type": "code",
   "execution_count": 18,
   "metadata": {
    "collapsed": false
   },
   "outputs": [
    {
     "name": "stdout",
     "output_type": "stream",
     "text": [
      "5.98296\n",
      "-0.0329306\n"
     ]
    }
   ],
   "source": [
    "print activations[0].std()\n",
    "print activations[0].mean()"
   ]
  },
  {
   "cell_type": "code",
   "execution_count": 19,
   "metadata": {
    "collapsed": false
   },
   "outputs": [
    {
     "name": "stdout",
     "output_type": "stream",
     "text": [
      "6.41089\n",
      "-0.0106803\n"
     ]
    }
   ],
   "source": [
    "print activations[1].std()\n",
    "print activations[1].mean()"
   ]
  },
  {
   "cell_type": "code",
   "execution_count": 21,
   "metadata": {
    "collapsed": false
   },
   "outputs": [
    {
     "name": "stdout",
     "output_type": "stream",
     "text": [
      "6.69122\n",
      "0.0324382\n"
     ]
    }
   ],
   "source": [
    "print activations[2].std()\n",
    "print activations[2].mean()"
   ]
  },
  {
   "cell_type": "markdown",
   "metadata": {},
   "source": [
    "<h2>Auto Encoder</h2>"
   ]
  },
  {
   "cell_type": "code",
   "execution_count": 16,
   "metadata": {
    "collapsed": false
   },
   "outputs": [],
   "source": [
    "def get_encoder(X_train, X_test, encoding_dim, nb_epoch=50, regularizer=10e-5):\n",
    "    assert X_train.shape[1] == X_test.shape[1]\n",
    "    shape = X_train.shape[1]\n",
    "\n",
    "    input_img = Input(shape=(shape,))\n",
    "    encoded = Dense(\n",
    "        encoding_dim, \n",
    "        activation='relu', \n",
    "        activity_regularizer=regularizers.activity_l1(regularizer)\n",
    "    )(input_img)\n",
    "    decoded = Dense(shape, activation='sigmoid')(encoded)\n",
    "\n",
    "    autoencoder = Model(input=input_img, output=decoded)\n",
    "    encoder = Model(input=input_img, output=encoded)\n",
    "\n",
    "    # sgd = SGD(lr=.01, decay=99.9) #lr=0.01->0.00001\n",
    "    autoencoder.compile(\n",
    "        optimizer='adadelta', \n",
    "        loss='categorical_crossentropy', \n",
    "        metrics=['accuracy'])\n",
    "    \n",
    "    autoencoder.fit(X_train, X_train,\n",
    "                nb_epoch=nb_epoch,\n",
    "                batch_size=256,\n",
    "                shuffle=True,\n",
    "                validation_data=(X_test, X_test))\n",
    "    return autoencoder, encoder\n",
    "    "
   ]
  },
  {
   "cell_type": "code",
   "execution_count": 17,
   "metadata": {
    "collapsed": false
   },
   "outputs": [],
   "source": [
    "x_train = activations[:int(activations.shape[0] * (1 - validation_split))]\n",
    "x_test = activations[int(activations.shape[0] * (1 - validation_split)):]\n",
    "X_train = x_train.reshape((len(x_train), np.prod(x_train.shape[1:])))\n",
    "X_test = x_test.reshape((len(x_test), np.prod(x_test.shape[1:])))"
   ]
  },
  {
   "cell_type": "code",
   "execution_count": 19,
   "metadata": {
    "collapsed": false
   },
   "outputs": [
    {
     "name": "stdout",
     "output_type": "stream",
     "text": [
      "Train on 22667 samples, validate on 4001 samples\n",
      "Epoch 1/30\n",
      "22667/22667 [==============================] - 4s - loss: -58008.0222 - acc: 0.0472 - val_loss: -65405.0088 - val_acc: 0.0915\n",
      "Epoch 2/30\n",
      "22667/22667 [==============================] - 4s - loss: -67501.4108 - acc: 0.1170 - val_loss: -68059.2102 - val_acc: 0.1322\n",
      "Epoch 3/30\n",
      "22667/22667 [==============================] - 4s - loss: -69715.2317 - acc: 0.1620 - val_loss: -70155.4506 - val_acc: 0.1750\n",
      "Epoch 4/30\n",
      "22667/22667 [==============================] - 4s - loss: -70973.7779 - acc: 0.1938 - val_loss: -71081.0909 - val_acc: 0.2154\n",
      "Epoch 5/30\n",
      "22667/22667 [==============================] - 4s - loss: -71885.2786 - acc: 0.2223 - val_loss: -71595.0744 - val_acc: 0.2194\n",
      "Epoch 6/30\n",
      "22667/22667 [==============================] - 4s - loss: -72436.4506 - acc: 0.2419 - val_loss: -72164.8902 - val_acc: 0.2444\n",
      "Epoch 7/30\n",
      "22667/22667 [==============================] - 4s - loss: -72923.6938 - acc: 0.2591 - val_loss: -72572.0802 - val_acc: 0.2682\n",
      "Epoch 8/30\n",
      "22667/22667 [==============================] - 4s - loss: -73332.6749 - acc: 0.2679 - val_loss: -72861.8663 - val_acc: 0.2802\n",
      "Epoch 9/30\n",
      "22667/22667 [==============================] - 4s - loss: -73627.0667 - acc: 0.2783 - val_loss: -73237.4112 - val_acc: 0.2889\n",
      "Epoch 10/30\n",
      "22667/22667 [==============================] - 4s - loss: -73937.9557 - acc: 0.2880 - val_loss: -73276.2745 - val_acc: 0.2732\n",
      "Epoch 11/30\n",
      "22667/22667 [==============================] - 4s - loss: -74094.8337 - acc: 0.3001 - val_loss: -73588.1390 - val_acc: 0.3004\n",
      "Epoch 12/30\n",
      "22667/22667 [==============================] - 4s - loss: -74350.6051 - acc: 0.3034 - val_loss: -73471.7230 - val_acc: 0.2982\n",
      "Epoch 13/30\n",
      "22667/22667 [==============================] - 4s - loss: -74522.3133 - acc: 0.3116 - val_loss: -73981.6154 - val_acc: 0.3094\n",
      "Epoch 14/30\n",
      "22667/22667 [==============================] - 4s - loss: -74719.6679 - acc: 0.3201 - val_loss: -74025.9825 - val_acc: 0.3124\n",
      "Epoch 15/30\n",
      "22667/22667 [==============================] - 4s - loss: -74811.2408 - acc: 0.3196 - val_loss: -74307.7808 - val_acc: 0.3289\n",
      "Epoch 16/30\n",
      "22667/22667 [==============================] - 4s - loss: -75006.2054 - acc: 0.3243 - val_loss: -74416.5117 - val_acc: 0.3292\n",
      "Epoch 17/30\n",
      "22667/22667 [==============================] - 4s - loss: -75104.9851 - acc: 0.3238 - val_loss: -74474.9494 - val_acc: 0.3344\n",
      "Epoch 18/30\n",
      "22667/22667 [==============================] - 4s - loss: -75259.2501 - acc: 0.3376 - val_loss: -74540.5808 - val_acc: 0.3299\n",
      "Epoch 19/30\n",
      "22667/22667 [==============================] - 4s - loss: -75319.3306 - acc: 0.3369 - val_loss: -74708.4786 - val_acc: 0.3367\n",
      "Epoch 20/30\n",
      "22667/22667 [==============================] - 4s - loss: -75477.3450 - acc: 0.3427 - val_loss: -74855.1799 - val_acc: 0.3402\n",
      "Epoch 21/30\n",
      "22667/22667 [==============================] - 4s - loss: -75527.0175 - acc: 0.3381 - val_loss: -74838.0948 - val_acc: 0.3419\n",
      "Epoch 22/30\n",
      "22667/22667 [==============================] - 4s - loss: -75596.1984 - acc: 0.3428 - val_loss: -74619.3822 - val_acc: 0.3394\n",
      "Epoch 23/30\n",
      "22667/22667 [==============================] - 4s - loss: -75725.2902 - acc: 0.3450 - val_loss: -75124.7003 - val_acc: 0.3494\n",
      "Epoch 24/30\n",
      "22667/22667 [==============================] - 4s - loss: -75760.6658 - acc: 0.3486 - val_loss: -75025.0119 - val_acc: 0.3504\n",
      "Epoch 25/30\n",
      "22667/22667 [==============================] - 4s - loss: -75842.6893 - acc: 0.3518 - val_loss: -75099.7191 - val_acc: 0.3369\n",
      "Epoch 26/30\n",
      "22667/22667 [==============================] - 4s - loss: -75935.4818 - acc: 0.3542 - val_loss: -75200.8697 - val_acc: 0.3549\n",
      "Epoch 27/30\n",
      "22667/22667 [==============================] - 4s - loss: -75962.1062 - acc: 0.3482 - val_loss: -74913.1032 - val_acc: 0.3464\n",
      "Epoch 28/30\n",
      "22667/22667 [==============================] - 4s - loss: -76054.2769 - acc: 0.3573 - val_loss: -75304.9092 - val_acc: 0.3672\n",
      "Epoch 29/30\n",
      "22667/22667 [==============================] - 4s - loss: -76098.3766 - acc: 0.3527 - val_loss: -75293.2557 - val_acc: 0.3587\n",
      "Epoch 30/30\n",
      "22667/22667 [==============================] - 4s - loss: -76156.6160 - acc: 0.3597 - val_loss: -75153.9473 - val_acc: 0.3484\n"
     ]
    }
   ],
   "source": [
    "autoencoder1, encoder1 = get_encoder(X_train, X_test, 2048, 30, 10e-3)"
   ]
  },
  {
   "cell_type": "code",
   "execution_count": 20,
   "metadata": {
    "collapsed": false
   },
   "outputs": [
    {
     "name": "stderr",
     "output_type": "stream",
     "text": [
      "/usr/local/lib/python2.7/dist-packages/keras/backend/theano_backend.py:514: UserWarning: theano.function was asked to create a function computing outputs given certain inputs, but the provided input variable at index 1 is not part of the computational graph needed to compute the outputs: keras_learning_phase.\n",
      "To make this warning into an error, you can pass the parameter on_unused_input='raise' to theano.function. To disable it completely, use on_unused_input='ignore'.\n",
      "  **kwargs)\n"
     ]
    },
    {
     "name": "stdout",
     "output_type": "stream",
     "text": [
      "(22667, 2048)\n",
      "(4001, 2048)\n"
     ]
    }
   ],
   "source": [
    "X_train = encoder1.predict(X_train)\n",
    "X_test = encoder1.predict(X_test)\n",
    "\n",
    "print X_train.shape\n",
    "print X_test.shape"
   ]
  },
  {
   "cell_type": "code",
   "execution_count": 21,
   "metadata": {
    "collapsed": false
   },
   "outputs": [
    {
     "name": "stdout",
     "output_type": "stream",
     "text": [
      "Train on 22667 samples, validate on 4001 samples\n",
      "Epoch 1/50\n",
      "22667/22667 [==============================] - 2s - loss: 89575.5536 - acc: 4.4117e-05 - val_loss: 88716.9988 - val_acc: 0.0000e+00\n",
      "Epoch 2/50\n",
      "22667/22667 [==============================] - 2s - loss: 88642.7791 - acc: 0.0011 - val_loss: 88070.1681 - val_acc: 0.0032\n",
      "Epoch 3/50\n",
      "22667/22667 [==============================] - 2s - loss: 87670.1065 - acc: 0.0187 - val_loss: 86770.9366 - val_acc: 0.0607\n",
      "Epoch 4/50\n",
      "22667/22667 [==============================] - 2s - loss: 86160.3324 - acc: 0.1035 - val_loss: 85390.1926 - val_acc: 0.1360\n",
      "Epoch 5/50\n",
      "22667/22667 [==============================] - 2s - loss: 84872.4734 - acc: 0.1710 - val_loss: 84338.6513 - val_acc: 0.2069\n",
      "Epoch 6/50\n",
      "22667/22667 [==============================] - 2s - loss: 83917.2218 - acc: 0.2340 - val_loss: 83606.6558 - val_acc: 0.2707\n",
      "Epoch 7/50\n",
      "22667/22667 [==============================] - 2s - loss: 83215.7229 - acc: 0.2858 - val_loss: 83229.7503 - val_acc: 0.3122\n",
      "Epoch 8/50\n",
      "22667/22667 [==============================] - 2s - loss: 82702.9827 - acc: 0.3247 - val_loss: 82823.4917 - val_acc: 0.3327\n",
      "Epoch 9/50\n",
      "22667/22667 [==============================] - 2s - loss: 82311.5550 - acc: 0.3576 - val_loss: 82346.8518 - val_acc: 0.3649\n",
      "Epoch 10/50\n",
      "22667/22667 [==============================] - 2s - loss: 82005.5736 - acc: 0.3809 - val_loss: 82095.6389 - val_acc: 0.4029\n",
      "Epoch 11/50\n",
      "22667/22667 [==============================] - 2s - loss: 81768.5432 - acc: 0.4024 - val_loss: 81909.1421 - val_acc: 0.4249\n",
      "Epoch 12/50\n",
      "22667/22667 [==============================] - 2s - loss: 81596.1442 - acc: 0.4147 - val_loss: 81844.9878 - val_acc: 0.4166\n",
      "Epoch 13/50\n",
      "22667/22667 [==============================] - 2s - loss: 81433.2723 - acc: 0.4317 - val_loss: 81642.9949 - val_acc: 0.4404\n",
      "Epoch 14/50\n",
      "22667/22667 [==============================] - 2s - loss: 81304.3129 - acc: 0.4425 - val_loss: 81542.3979 - val_acc: 0.4454\n",
      "Epoch 15/50\n",
      "22667/22667 [==============================] - 2s - loss: 81200.6136 - acc: 0.4464 - val_loss: 81626.6526 - val_acc: 0.4379\n",
      "Epoch 16/50\n",
      "22667/22667 [==============================] - 2s - loss: 81128.8510 - acc: 0.4551 - val_loss: 81364.3523 - val_acc: 0.4449\n",
      "Epoch 17/50\n",
      "22667/22667 [==============================] - 2s - loss: 81043.5255 - acc: 0.4615 - val_loss: 81310.2601 - val_acc: 0.4756\n",
      "Epoch 18/50\n",
      "22667/22667 [==============================] - 2s - loss: 80974.2574 - acc: 0.4713 - val_loss: 81384.4744 - val_acc: 0.4406\n",
      "Epoch 19/50\n",
      "22667/22667 [==============================] - 2s - loss: 80923.7279 - acc: 0.4735 - val_loss: 81371.1311 - val_acc: 0.4606\n",
      "Epoch 20/50\n",
      "22667/22667 [==============================] - 2s - loss: 80876.1431 - acc: 0.4754 - val_loss: 81288.2615 - val_acc: 0.4736\n",
      "Epoch 21/50\n",
      "22667/22667 [==============================] - 2s - loss: 80821.1205 - acc: 0.4848 - val_loss: 81167.9071 - val_acc: 0.4859\n",
      "Epoch 22/50\n",
      "22667/22667 [==============================] - 2s - loss: 80801.0352 - acc: 0.4826 - val_loss: 81095.4175 - val_acc: 0.4804\n",
      "Epoch 23/50\n",
      "22667/22667 [==============================] - 2s - loss: 80745.9891 - acc: 0.4915 - val_loss: 80987.5408 - val_acc: 0.4901\n",
      "Epoch 24/50\n",
      "22667/22667 [==============================] - 2s - loss: 80718.1590 - acc: 0.4904 - val_loss: 81011.6765 - val_acc: 0.4879\n",
      "Epoch 25/50\n",
      "22667/22667 [==============================] - 2s - loss: 80688.0382 - acc: 0.4965 - val_loss: 81017.7884 - val_acc: 0.4864\n",
      "Epoch 26/50\n",
      "22667/22667 [==============================] - 2s - loss: 80667.0841 - acc: 0.5002 - val_loss: 80942.9178 - val_acc: 0.5084\n",
      "Epoch 27/50\n",
      "22667/22667 [==============================] - 2s - loss: 80645.2791 - acc: 0.5013 - val_loss: 81006.3281 - val_acc: 0.4909\n",
      "Epoch 28/50\n",
      "22667/22667 [==============================] - 2s - loss: 80599.8392 - acc: 0.5074 - val_loss: 81028.3186 - val_acc: 0.4939\n",
      "Epoch 29/50\n",
      "22667/22667 [==============================] - 2s - loss: 80598.4253 - acc: 0.5027 - val_loss: 80998.0645 - val_acc: 0.5086\n",
      "Epoch 30/50\n",
      "22667/22667 [==============================] - 2s - loss: 80577.5134 - acc: 0.5085 - val_loss: 80875.8122 - val_acc: 0.4984\n",
      "Epoch 31/50\n",
      "22667/22667 [==============================] - 2s - loss: 80535.0761 - acc: 0.5113 - val_loss: 80929.5083 - val_acc: 0.5099\n",
      "Epoch 32/50\n",
      "22667/22667 [==============================] - 2s - loss: 80546.0876 - acc: 0.5097 - val_loss: 80792.6513 - val_acc: 0.5201\n",
      "Epoch 33/50\n",
      "22667/22667 [==============================] - 2s - loss: 80517.2894 - acc: 0.5159 - val_loss: 80860.7650 - val_acc: 0.4974\n",
      "Epoch 34/50\n",
      "22667/22667 [==============================] - 2s - loss: 80510.0524 - acc: 0.5151 - val_loss: 80818.3712 - val_acc: 0.5164\n",
      "Epoch 35/50\n",
      "22667/22667 [==============================] - 2s - loss: 80485.3499 - acc: 0.5181 - val_loss: 80958.0841 - val_acc: 0.4856\n",
      "Epoch 36/50\n",
      "22667/22667 [==============================] - 2s - loss: 80485.1008 - acc: 0.5178 - val_loss: 80874.9432 - val_acc: 0.5136\n",
      "Epoch 37/50\n",
      "22667/22667 [==============================] - 2s - loss: 80456.3577 - acc: 0.5190 - val_loss: 80844.6883 - val_acc: 0.5044\n",
      "Epoch 38/50\n",
      "22667/22667 [==============================] - 2s - loss: 80444.3202 - acc: 0.5191 - val_loss: 80690.8860 - val_acc: 0.5324\n",
      "Epoch 39/50\n",
      "22667/22667 [==============================] - 2s - loss: 80435.2331 - acc: 0.5212 - val_loss: 80870.4599 - val_acc: 0.5121\n",
      "Epoch 40/50\n",
      "22667/22667 [==============================] - 2s - loss: 80425.5518 - acc: 0.5223 - val_loss: 80838.4389 - val_acc: 0.5254\n",
      "Epoch 41/50\n",
      "22667/22667 [==============================] - 2s - loss: 80426.6731 - acc: 0.5202 - val_loss: 80745.4183 - val_acc: 0.5311\n",
      "Epoch 42/50\n",
      "22667/22667 [==============================] - 2s - loss: 80401.8693 - acc: 0.5260 - val_loss: 80695.9353 - val_acc: 0.5346\n",
      "Epoch 43/50\n",
      "22667/22667 [==============================] - 2s - loss: 80390.8319 - acc: 0.5274 - val_loss: 80719.5067 - val_acc: 0.5224\n",
      "Epoch 44/50\n",
      "22667/22667 [==============================] - 2s - loss: 80396.2738 - acc: 0.5236 - val_loss: 80846.2064 - val_acc: 0.5131\n",
      "Epoch 45/50\n",
      "22667/22667 [==============================] - 2s - loss: 80369.3713 - acc: 0.5298 - val_loss: 80673.1934 - val_acc: 0.5399\n",
      "Epoch 46/50\n",
      "22667/22667 [==============================] - 2s - loss: 80370.3667 - acc: 0.5284 - val_loss: 80761.3100 - val_acc: 0.5339\n",
      "Epoch 47/50\n",
      "22667/22667 [==============================] - 2s - loss: 80355.1599 - acc: 0.5324 - val_loss: 80800.0395 - val_acc: 0.5189\n",
      "Epoch 48/50\n",
      "22667/22667 [==============================] - 2s - loss: 80351.0252 - acc: 0.5279 - val_loss: 80787.4196 - val_acc: 0.5284\n",
      "Epoch 49/50\n",
      "22667/22667 [==============================] - 2s - loss: 80344.8968 - acc: 0.5318 - val_loss: 80791.8426 - val_acc: 0.5149\n",
      "Epoch 50/50\n",
      "22667/22667 [==============================] - 2s - loss: 80322.5762 - acc: 0.5332 - val_loss: 80725.6444 - val_acc: 0.5219\n"
     ]
    }
   ],
   "source": [
    "autoencoder2, encoder2 = get_encoder(X_train, X_test, 1024, 50)"
   ]
  },
  {
   "cell_type": "code",
   "execution_count": 22,
   "metadata": {
    "collapsed": false
   },
   "outputs": [
    {
     "name": "stdout",
     "output_type": "stream",
     "text": [
      "(22667, 1024)\n",
      "(4001, 1024)\n"
     ]
    }
   ],
   "source": [
    "X_train = encoder2.predict(X_train)\n",
    "X_test = encoder2.predict(X_test)\n",
    "\n",
    "print X_train.shape\n",
    "print X_test.shape"
   ]
  },
  {
   "cell_type": "code",
   "execution_count": 23,
   "metadata": {
    "collapsed": false
   },
   "outputs": [
    {
     "name": "stdout",
     "output_type": "stream",
     "text": [
      "Train on 22667 samples, validate on 4001 samples\n",
      "Epoch 1/50\n",
      "22667/22667 [==============================] - 1s - loss: 14029.9160 - acc: 0.0015 - val_loss: 13265.6123 - val_acc: 0.0027\n",
      "Epoch 2/50\n",
      "22667/22667 [==============================] - 1s - loss: 13362.6928 - acc: 0.0108 - val_loss: 12705.4877 - val_acc: 0.0675\n",
      "Epoch 3/50\n",
      "22667/22667 [==============================] - 1s - loss: 12744.5180 - acc: 0.2040 - val_loss: 12193.6591 - val_acc: 0.3007\n",
      "Epoch 4/50\n",
      "22667/22667 [==============================] - 1s - loss: 12310.4127 - acc: 0.3169 - val_loss: 11904.1355 - val_acc: 0.3799\n",
      "Epoch 5/50\n",
      "22667/22667 [==============================] - 1s - loss: 12049.9664 - acc: 0.3601 - val_loss: 11759.3312 - val_acc: 0.3712\n",
      "Epoch 6/50\n",
      "22667/22667 [==============================] - 1s - loss: 11878.7187 - acc: 0.3820 - val_loss: 11606.4882 - val_acc: 0.3977\n",
      "Epoch 7/50\n",
      "22667/22667 [==============================] - 1s - loss: 11753.1725 - acc: 0.4040 - val_loss: 11515.3912 - val_acc: 0.4374\n",
      "Epoch 8/50\n",
      "22667/22667 [==============================] - 1s - loss: 11658.6576 - acc: 0.4160 - val_loss: 11419.6392 - val_acc: 0.4636\n",
      "Epoch 9/50\n",
      "22667/22667 [==============================] - 1s - loss: 11582.5205 - acc: 0.4237 - val_loss: 11405.9736 - val_acc: 0.4359\n",
      "Epoch 10/50\n",
      "22667/22667 [==============================] - 1s - loss: 11527.2486 - acc: 0.4317 - val_loss: 11315.9017 - val_acc: 0.4496\n",
      "Epoch 11/50\n",
      "22667/22667 [==============================] - 1s - loss: 11476.7261 - acc: 0.4424 - val_loss: 11274.6209 - val_acc: 0.4881\n",
      "Epoch 12/50\n",
      "22667/22667 [==============================] - 1s - loss: 11437.7180 - acc: 0.4579 - val_loss: 11229.3579 - val_acc: 0.5026\n",
      "Epoch 13/50\n",
      "22667/22667 [==============================] - 1s - loss: 11398.8560 - acc: 0.4707 - val_loss: 11222.0823 - val_acc: 0.4769\n",
      "Epoch 14/50\n",
      "22667/22667 [==============================] - 1s - loss: 11370.6505 - acc: 0.4795 - val_loss: 11190.0831 - val_acc: 0.4901\n",
      "Epoch 15/50\n",
      "22667/22667 [==============================] - 1s - loss: 11348.6031 - acc: 0.4939 - val_loss: 11173.9402 - val_acc: 0.5121\n",
      "Epoch 16/50\n",
      "22667/22667 [==============================] - 1s - loss: 11324.0993 - acc: 0.5028 - val_loss: 11139.6419 - val_acc: 0.5379\n",
      "Epoch 17/50\n",
      "22667/22667 [==============================] - 1s - loss: 11303.2724 - acc: 0.5195 - val_loss: 11116.4565 - val_acc: 0.5586\n",
      "Epoch 18/50\n",
      "22667/22667 [==============================] - 1s - loss: 11282.4414 - acc: 0.5294 - val_loss: 11111.3788 - val_acc: 0.5621\n",
      "Epoch 19/50\n",
      "22667/22667 [==============================] - 1s - loss: 11272.4689 - acc: 0.5373 - val_loss: 11078.4996 - val_acc: 0.5694\n",
      "Epoch 20/50\n",
      "22667/22667 [==============================] - 1s - loss: 11260.0263 - acc: 0.5468 - val_loss: 11080.3957 - val_acc: 0.5689\n",
      "Epoch 21/50\n",
      "22667/22667 [==============================] - 1s - loss: 11249.0328 - acc: 0.5553 - val_loss: 11094.3913 - val_acc: 0.5631\n",
      "Epoch 22/50\n",
      "22667/22667 [==============================] - 1s - loss: 11240.6524 - acc: 0.5564 - val_loss: 11069.8308 - val_acc: 0.5769\n",
      "Epoch 23/50\n",
      "22667/22667 [==============================] - 1s - loss: 11230.2506 - acc: 0.5659 - val_loss: 11086.6742 - val_acc: 0.5736\n",
      "Epoch 24/50\n",
      "22667/22667 [==============================] - 1s - loss: 11219.1974 - acc: 0.5695 - val_loss: 11055.6067 - val_acc: 0.5916\n",
      "Epoch 25/50\n",
      "22667/22667 [==============================] - 1s - loss: 11213.8777 - acc: 0.5707 - val_loss: 11060.8636 - val_acc: 0.5701\n",
      "Epoch 26/50\n",
      "22667/22667 [==============================] - 1s - loss: 11208.2883 - acc: 0.5765 - val_loss: 11054.4523 - val_acc: 0.5889\n",
      "Epoch 27/50\n",
      "22667/22667 [==============================] - 1s - loss: 11204.1561 - acc: 0.5780 - val_loss: 11047.6050 - val_acc: 0.5939\n",
      "Epoch 28/50\n",
      "22667/22667 [==============================] - 1s - loss: 11199.4825 - acc: 0.5808 - val_loss: 11030.3950 - val_acc: 0.5924\n",
      "Epoch 29/50\n",
      "22667/22667 [==============================] - 1s - loss: 11193.0822 - acc: 0.5852 - val_loss: 11030.8338 - val_acc: 0.5874\n",
      "Epoch 30/50\n",
      "22667/22667 [==============================] - 1s - loss: 11186.6762 - acc: 0.5895 - val_loss: 11017.7235 - val_acc: 0.6018\n",
      "Epoch 31/50\n",
      "22667/22667 [==============================] - 1s - loss: 11183.4828 - acc: 0.5887 - val_loss: 11015.9017 - val_acc: 0.6163\n",
      "Epoch 32/50\n",
      "22667/22667 [==============================] - 1s - loss: 11180.0919 - acc: 0.5920 - val_loss: 11026.0631 - val_acc: 0.5991\n",
      "Epoch 33/50\n",
      "22667/22667 [==============================] - 1s - loss: 11177.7508 - acc: 0.5913 - val_loss: 11041.5140 - val_acc: 0.5954\n",
      "Epoch 34/50\n",
      "22667/22667 [==============================] - 1s - loss: 11174.4410 - acc: 0.5902 - val_loss: 11011.4207 - val_acc: 0.6153\n",
      "Epoch 35/50\n",
      "22667/22667 [==============================] - 1s - loss: 11168.0845 - acc: 0.5952 - val_loss: 10999.4465 - val_acc: 0.6103\n",
      "Epoch 36/50\n",
      "22667/22667 [==============================] - 1s - loss: 11167.6156 - acc: 0.5928 - val_loss: 11019.5797 - val_acc: 0.6106\n",
      "Epoch 37/50\n",
      "22667/22667 [==============================] - 1s - loss: 11163.9215 - acc: 0.5939 - val_loss: 11009.5960 - val_acc: 0.6253\n",
      "Epoch 38/50\n",
      "22667/22667 [==============================] - 1s - loss: 11161.6423 - acc: 0.5956 - val_loss: 11021.8017 - val_acc: 0.5949\n",
      "Epoch 39/50\n",
      "22667/22667 [==============================] - 1s - loss: 11160.3253 - acc: 0.5944 - val_loss: 11001.2048 - val_acc: 0.5959\n",
      "Epoch 40/50\n",
      "22667/22667 [==============================] - 1s - loss: 11158.1063 - acc: 0.5931 - val_loss: 10994.8019 - val_acc: 0.6161\n",
      "Epoch 41/50\n",
      "22667/22667 [==============================] - 1s - loss: 11155.9733 - acc: 0.5962 - val_loss: 11000.6657 - val_acc: 0.6093\n",
      "Epoch 42/50\n",
      "22667/22667 [==============================] - 1s - loss: 11154.1185 - acc: 0.5961 - val_loss: 11000.0388 - val_acc: 0.5899\n",
      "Epoch 43/50\n",
      "22667/22667 [==============================] - 1s - loss: 11149.7037 - acc: 0.6026 - val_loss: 10987.9172 - val_acc: 0.6031\n",
      "Epoch 44/50\n",
      "22667/22667 [==============================] - 1s - loss: 11148.7220 - acc: 0.6024 - val_loss: 10989.0242 - val_acc: 0.5976\n",
      "Epoch 45/50\n",
      "22667/22667 [==============================] - 1s - loss: 11148.2207 - acc: 0.5994 - val_loss: 10990.7071 - val_acc: 0.6078\n",
      "Epoch 46/50\n",
      "22667/22667 [==============================] - 1s - loss: 11144.6613 - acc: 0.5999 - val_loss: 10979.1301 - val_acc: 0.6156\n",
      "Epoch 47/50\n",
      "22667/22667 [==============================] - 1s - loss: 11143.8620 - acc: 0.5981 - val_loss: 10979.9676 - val_acc: 0.6093\n",
      "Epoch 48/50\n",
      "22667/22667 [==============================] - 1s - loss: 11142.2422 - acc: 0.5987 - val_loss: 10972.0894 - val_acc: 0.6251\n",
      "Epoch 49/50\n",
      "22667/22667 [==============================] - 1s - loss: 11141.2477 - acc: 0.6012 - val_loss: 10970.6507 - val_acc: 0.6056\n",
      "Epoch 50/50\n",
      "22667/22667 [==============================] - 1s - loss: 11138.5334 - acc: 0.5991 - val_loss: 10969.2591 - val_acc: 0.6148\n"
     ]
    }
   ],
   "source": [
    "autoencoder3, encoder3 = get_encoder(X_train, X_test, 512, 50)"
   ]
  },
  {
   "cell_type": "code",
   "execution_count": 24,
   "metadata": {
    "collapsed": false
   },
   "outputs": [
    {
     "name": "stdout",
     "output_type": "stream",
     "text": [
      "(22667, 512)\n",
      "(4001, 512)\n"
     ]
    }
   ],
   "source": [
    "X_train = encoder3.predict(X_train)\n",
    "X_test = encoder3.predict(X_test)\n",
    "\n",
    "print X_train.shape\n",
    "print X_test.shape"
   ]
  },
  {
   "cell_type": "markdown",
   "metadata": {},
   "source": [
    "<h2>Train all together</h2>"
   ]
  },
  {
   "cell_type": "code",
   "execution_count": 14,
   "metadata": {
    "collapsed": false
   },
   "outputs": [
    {
     "name": "stdout",
     "output_type": "stream",
     "text": [
      "Train on 22667 samples, validate on 4001 samples\n",
      "Epoch 1/100\n",
      "22667/22667 [==============================] - 4s - loss: -30.7396 - acc: 0.0057 - val_loss: -38.3032 - val_acc: 0.0122\n",
      "Epoch 2/100\n",
      "22667/22667 [==============================] - 4s - loss: -40.9426 - acc: 0.0139 - val_loss: -42.7448 - val_acc: 0.0165\n",
      "Epoch 3/100\n",
      "22667/22667 [==============================] - 4s - loss: -45.7900 - acc: 0.0219 - val_loss: -47.3148 - val_acc: 0.0320\n",
      "Epoch 4/100\n",
      "22667/22667 [==============================] - 4s - loss: -48.7072 - acc: 0.0340 - val_loss: -49.0509 - val_acc: 0.0430\n",
      "Epoch 5/100\n",
      "22667/22667 [==============================] - 4s - loss: -50.5351 - acc: 0.0434 - val_loss: -51.4600 - val_acc: 0.0517\n",
      "Epoch 6/100\n",
      "22667/22667 [==============================] - 4s - loss: -52.1692 - acc: 0.0507 - val_loss: -52.2314 - val_acc: 0.0570\n",
      "Epoch 7/100\n",
      "22667/22667 [==============================] - 4s - loss: -53.5487 - acc: 0.0566 - val_loss: -53.6521 - val_acc: 0.0740\n",
      "Epoch 8/100\n",
      "22667/22667 [==============================] - 4s - loss: -54.6533 - acc: 0.0618 - val_loss: -54.8030 - val_acc: 0.0710\n",
      "Epoch 9/100\n",
      "22667/22667 [==============================] - 4s - loss: -55.6092 - acc: 0.0679 - val_loss: -55.4349 - val_acc: 0.0727\n",
      "Epoch 10/100\n",
      "22667/22667 [==============================] - 4s - loss: -56.4307 - acc: 0.0704 - val_loss: -55.9048 - val_acc: 0.0777\n",
      "Epoch 11/100\n",
      "22667/22667 [==============================] - 4s - loss: -57.1049 - acc: 0.0708 - val_loss: -56.5629 - val_acc: 0.0807\n",
      "Epoch 12/100\n",
      "22667/22667 [==============================] - 4s - loss: -57.7298 - acc: 0.0744 - val_loss: -57.2555 - val_acc: 0.0835\n",
      "Epoch 13/100\n",
      "22667/22667 [==============================] - 4s - loss: -58.2348 - acc: 0.0765 - val_loss: -57.6387 - val_acc: 0.0865\n",
      "Epoch 14/100\n",
      "22667/22667 [==============================] - 4s - loss: -58.7455 - acc: 0.0782 - val_loss: -58.0241 - val_acc: 0.0832\n",
      "Epoch 15/100\n",
      "22667/22667 [==============================] - 4s - loss: -59.2032 - acc: 0.0818 - val_loss: -58.1036 - val_acc: 0.0835\n",
      "Epoch 16/100\n",
      "22667/22667 [==============================] - 4s - loss: -59.6576 - acc: 0.0804 - val_loss: -58.7433 - val_acc: 0.0840\n",
      "Epoch 17/100\n",
      "22667/22667 [==============================] - 4s - loss: -59.9639 - acc: 0.0820 - val_loss: -59.1469 - val_acc: 0.0925\n",
      "Epoch 18/100\n",
      "22667/22667 [==============================] - 4s - loss: -60.3839 - acc: 0.0865 - val_loss: -59.2943 - val_acc: 0.0902\n",
      "Epoch 19/100\n",
      "22667/22667 [==============================] - 4s - loss: -60.6806 - acc: 0.0867 - val_loss: -59.6567 - val_acc: 0.0930\n",
      "Epoch 20/100\n",
      "22667/22667 [==============================] - 4s - loss: -60.9928 - acc: 0.0916 - val_loss: -59.7756 - val_acc: 0.0967\n",
      "Epoch 21/100\n",
      "22667/22667 [==============================] - 4s - loss: -61.2712 - acc: 0.0918 - val_loss: -59.9233 - val_acc: 0.1062\n",
      "Epoch 22/100\n",
      "22667/22667 [==============================] - 4s - loss: -61.5438 - acc: 0.0909 - val_loss: -60.2286 - val_acc: 0.0980\n",
      "Epoch 23/100\n",
      "22667/22667 [==============================] - 4s - loss: -61.7705 - acc: 0.0929 - val_loss: -60.5150 - val_acc: 0.1027\n",
      "Epoch 24/100\n",
      "22667/22667 [==============================] - 4s - loss: -62.0397 - acc: 0.0943 - val_loss: -60.6105 - val_acc: 0.0972\n",
      "Epoch 25/100\n",
      "22667/22667 [==============================] - 4s - loss: -62.2397 - acc: 0.0939 - val_loss: -60.6808 - val_acc: 0.0940\n",
      "Epoch 26/100\n",
      "22667/22667 [==============================] - 4s - loss: -62.4522 - acc: 0.0944 - val_loss: -61.0970 - val_acc: 0.1002\n",
      "Epoch 27/100\n",
      "22667/22667 [==============================] - 4s - loss: -62.6633 - acc: 0.0971 - val_loss: -61.1976 - val_acc: 0.1022\n",
      "Epoch 28/100\n",
      "22667/22667 [==============================] - 4s - loss: -62.8452 - acc: 0.0966 - val_loss: -61.2066 - val_acc: 0.0975\n",
      "Epoch 29/100\n",
      "22667/22667 [==============================] - 4s - loss: -63.0407 - acc: 0.0980 - val_loss: -61.3338 - val_acc: 0.0955\n",
      "Epoch 30/100\n",
      "22667/22667 [==============================] - 4s - loss: -63.1806 - acc: 0.0977 - val_loss: -61.5945 - val_acc: 0.1057\n",
      "Epoch 31/100\n",
      "22667/22667 [==============================] - 4s - loss: -63.3620 - acc: 0.0967 - val_loss: -61.5005 - val_acc: 0.1060\n",
      "Epoch 32/100\n",
      "22667/22667 [==============================] - 4s - loss: -63.5122 - acc: 0.0996 - val_loss: -61.8948 - val_acc: 0.1037\n",
      "Epoch 33/100\n",
      "22667/22667 [==============================] - 4s - loss: -63.7011 - acc: 0.0983 - val_loss: -62.0230 - val_acc: 0.1015\n",
      "Epoch 34/100\n",
      "22667/22667 [==============================] - 4s - loss: -63.8225 - acc: 0.0991 - val_loss: -61.9425 - val_acc: 0.0990\n",
      "Epoch 35/100\n",
      "22667/22667 [==============================] - 4s - loss: -63.9551 - acc: 0.1004 - val_loss: -62.1409 - val_acc: 0.1057\n",
      "Epoch 36/100\n",
      "22667/22667 [==============================] - 4s - loss: -64.0982 - acc: 0.0992 - val_loss: -62.2879 - val_acc: 0.1030\n",
      "Epoch 37/100\n",
      "22667/22667 [==============================] - 4s - loss: -64.2109 - acc: 0.1002 - val_loss: -62.4704 - val_acc: 0.1037\n",
      "Epoch 38/100\n",
      "22667/22667 [==============================] - 4s - loss: -64.3285 - acc: 0.1015 - val_loss: -62.3998 - val_acc: 0.1010\n",
      "Epoch 39/100\n",
      "22667/22667 [==============================] - 4s - loss: -64.4739 - acc: 0.1026 - val_loss: -62.4339 - val_acc: 0.1067\n",
      "Epoch 40/100\n",
      "22667/22667 [==============================] - 4s - loss: -64.5270 - acc: 0.1010 - val_loss: -62.3492 - val_acc: 0.0980\n",
      "Epoch 41/100\n",
      "22667/22667 [==============================] - 4s - loss: -64.7023 - acc: 0.0978 - val_loss: -62.5534 - val_acc: 0.1032\n",
      "Epoch 42/100\n",
      "22667/22667 [==============================] - 4s - loss: -64.7674 - acc: 0.1020 - val_loss: -62.6426 - val_acc: 0.1025\n",
      "Epoch 43/100\n",
      "22667/22667 [==============================] - 4s - loss: -64.9284 - acc: 0.1015 - val_loss: -62.7782 - val_acc: 0.1040\n",
      "Epoch 44/100\n",
      "22667/22667 [==============================] - 4s - loss: -64.9479 - acc: 0.1019 - val_loss: -62.9392 - val_acc: 0.1035\n",
      "Epoch 45/100\n",
      "22667/22667 [==============================] - 4s - loss: -65.0409 - acc: 0.1027 - val_loss: -63.0616 - val_acc: 0.0960\n",
      "Epoch 46/100\n",
      "22667/22667 [==============================] - 4s - loss: -65.1869 - acc: 0.1031 - val_loss: -63.1881 - val_acc: 0.1020\n",
      "Epoch 47/100\n",
      "22667/22667 [==============================] - 4s - loss: -65.1816 - acc: 0.1023 - val_loss: -63.3423 - val_acc: 0.0992\n",
      "Epoch 48/100\n",
      "22667/22667 [==============================] - 4s - loss: -65.3338 - acc: 0.1014 - val_loss: -63.0392 - val_acc: 0.0987\n",
      "Epoch 49/100\n",
      "22667/22667 [==============================] - 4s - loss: -65.4120 - acc: 0.1028 - val_loss: -63.2861 - val_acc: 0.1032\n",
      "Epoch 50/100\n",
      "22667/22667 [==============================] - 4s - loss: -65.4166 - acc: 0.1044 - val_loss: -63.4268 - val_acc: 0.1035\n",
      "Epoch 51/100\n",
      "22667/22667 [==============================] - 4s - loss: -65.5483 - acc: 0.1022 - val_loss: -63.4346 - val_acc: 0.0985\n",
      "Epoch 52/100\n",
      "22667/22667 [==============================] - 4s - loss: -65.5770 - acc: 0.1012 - val_loss: -63.4701 - val_acc: 0.0980\n",
      "Epoch 53/100\n",
      "22667/22667 [==============================] - 4s - loss: -65.7080 - acc: 0.1034 - val_loss: -63.5920 - val_acc: 0.0972\n",
      "Epoch 54/100\n",
      "22667/22667 [==============================] - 4s - loss: -65.7211 - acc: 0.1028 - val_loss: -63.6958 - val_acc: 0.1017\n",
      "Epoch 55/100\n",
      "22667/22667 [==============================] - 4s - loss: -65.7780 - acc: 0.1033 - val_loss: -63.5408 - val_acc: 0.1055\n",
      "Epoch 56/100\n",
      "22667/22667 [==============================] - 4s - loss: -65.8452 - acc: 0.1044 - val_loss: -63.5361 - val_acc: 0.1042\n",
      "Epoch 57/100\n",
      "22667/22667 [==============================] - 4s - loss: -65.9212 - acc: 0.1029 - val_loss: -63.7107 - val_acc: 0.1005\n",
      "Epoch 58/100\n",
      "22667/22667 [==============================] - 4s - loss: -65.9608 - acc: 0.1012 - val_loss: -63.9909 - val_acc: 0.1002\n",
      "Epoch 59/100\n",
      "22667/22667 [==============================] - 4s - loss: -66.0851 - acc: 0.1012 - val_loss: -63.8358 - val_acc: 0.1030\n",
      "Epoch 60/100\n",
      "22667/22667 [==============================] - 4s - loss: -66.0538 - acc: 0.1033 - val_loss: -63.7727 - val_acc: 0.1012\n",
      "Epoch 61/100\n",
      "22667/22667 [==============================] - 4s - loss: -66.1439 - acc: 0.1036 - val_loss: -63.7006 - val_acc: 0.1005\n",
      "Epoch 62/100\n",
      "22667/22667 [==============================] - 4s - loss: -66.1639 - acc: 0.1031 - val_loss: -63.9622 - val_acc: 0.1022\n",
      "Epoch 63/100\n",
      "22667/22667 [==============================] - 4s - loss: -66.2437 - acc: 0.1037 - val_loss: -64.0841 - val_acc: 0.1012\n",
      "Epoch 64/100\n",
      "22667/22667 [==============================] - 4s - loss: -66.2444 - acc: 0.1027 - val_loss: -63.8902 - val_acc: 0.0945\n",
      "Epoch 65/100\n",
      "22667/22667 [==============================] - 4s - loss: -66.3008 - acc: 0.1029 - val_loss: -64.1587 - val_acc: 0.1002\n",
      "Epoch 66/100\n",
      "22667/22667 [==============================] - 4s - loss: -66.4151 - acc: 0.1022 - val_loss: -64.0304 - val_acc: 0.1002\n",
      "Epoch 67/100\n",
      "22667/22667 [==============================] - 4s - loss: -66.3409 - acc: 0.1012 - val_loss: -64.1776 - val_acc: 0.0982\n",
      "Epoch 68/100\n",
      "22667/22667 [==============================] - 4s - loss: -66.4524 - acc: 0.1012 - val_loss: -64.5146 - val_acc: 0.1045\n",
      "Epoch 69/100\n",
      "22667/22667 [==============================] - 4s - loss: -66.5645 - acc: 0.1021 - val_loss: -64.2043 - val_acc: 0.0927\n",
      "Epoch 70/100\n",
      "22667/22667 [==============================] - 4s - loss: -66.5057 - acc: 0.1022 - val_loss: -64.3808 - val_acc: 0.0945\n",
      "Epoch 71/100\n",
      "22667/22667 [==============================] - 4s - loss: -66.6546 - acc: 0.1010 - val_loss: -64.2137 - val_acc: 0.0947\n",
      "Epoch 72/100\n",
      "22667/22667 [==============================] - 4s - loss: -66.6203 - acc: 0.1006 - val_loss: -64.4022 - val_acc: 0.1020\n",
      "Epoch 73/100\n",
      "22667/22667 [==============================] - 4s - loss: -66.6864 - acc: 0.1031 - val_loss: -64.3345 - val_acc: 0.1015\n",
      "Epoch 74/100\n",
      "22667/22667 [==============================] - 4s - loss: -66.6591 - acc: 0.1012 - val_loss: -64.3344 - val_acc: 0.1000\n",
      "Epoch 75/100\n",
      "22667/22667 [==============================] - 4s - loss: -66.8434 - acc: 0.1016 - val_loss: -63.8311 - val_acc: 0.0927\n",
      "Epoch 76/100\n",
      "22667/22667 [==============================] - 4s - loss: -66.7074 - acc: 0.0997 - val_loss: -64.6832 - val_acc: 0.1000\n",
      "Epoch 77/100\n",
      "22667/22667 [==============================] - 4s - loss: -66.7718 - acc: 0.1000 - val_loss: -64.3453 - val_acc: 0.0965\n",
      "Epoch 78/100\n",
      "22667/22667 [==============================] - 4s - loss: -66.9367 - acc: 0.1004 - val_loss: -64.1038 - val_acc: 0.0972\n",
      "Epoch 79/100\n",
      "22667/22667 [==============================] - 4s - loss: -66.8675 - acc: 0.1005 - val_loss: -64.7596 - val_acc: 0.0970\n",
      "Epoch 80/100\n",
      "22667/22667 [==============================] - 4s - loss: -66.7792 - acc: 0.0984 - val_loss: -64.7445 - val_acc: 0.0990\n",
      "Epoch 81/100\n",
      "22667/22667 [==============================] - 4s - loss: -67.0115 - acc: 0.1003 - val_loss: -64.6800 - val_acc: 0.0970\n",
      "Epoch 82/100\n",
      "22667/22667 [==============================] - 4s - loss: -66.9204 - acc: 0.0997 - val_loss: -64.2694 - val_acc: 0.0997\n",
      "Epoch 83/100\n",
      "22667/22667 [==============================] - 4s - loss: -67.1246 - acc: 0.1017 - val_loss: -64.4628 - val_acc: 0.1027\n",
      "Epoch 84/100\n",
      "22667/22667 [==============================] - 4s - loss: -66.8673 - acc: 0.1025 - val_loss: -64.7469 - val_acc: 0.1032\n",
      "Epoch 85/100\n",
      "22667/22667 [==============================] - 4s - loss: -67.1457 - acc: 0.1008 - val_loss: -64.8218 - val_acc: 0.0955\n",
      "Epoch 86/100\n",
      "22667/22667 [==============================] - 4s - loss: -66.9285 - acc: 0.0989 - val_loss: -64.7226 - val_acc: 0.0972\n",
      "Epoch 87/100\n",
      "22667/22667 [==============================] - 4s - loss: -67.2122 - acc: 0.1019 - val_loss: -64.5995 - val_acc: 0.0982\n",
      "Epoch 88/100\n",
      "22667/22667 [==============================] - 4s - loss: -66.9529 - acc: 0.0993 - val_loss: -64.6717 - val_acc: 0.1017\n",
      "Epoch 89/100\n",
      "22667/22667 [==============================] - 4s - loss: -67.3057 - acc: 0.1009 - val_loss: -64.7190 - val_acc: 0.0970\n",
      "Epoch 90/100\n",
      "22667/22667 [==============================] - 4s - loss: -66.9671 - acc: 0.0993 - val_loss: -64.8249 - val_acc: 0.1022\n",
      "Epoch 91/100\n",
      "22667/22667 [==============================] - 4s - loss: -67.3485 - acc: 0.0998 - val_loss: -64.6496 - val_acc: 0.0977\n",
      "Epoch 92/100\n",
      "22667/22667 [==============================] - 4s - loss: -67.2097 - acc: 0.0999 - val_loss: -65.3331 - val_acc: 0.1025\n",
      "Epoch 93/100\n",
      "22667/22667 [==============================] - 4s - loss: -67.1101 - acc: 0.0995 - val_loss: -65.2124 - val_acc: 0.1007\n",
      "Epoch 94/100\n",
      "22667/22667 [==============================] - 4s - loss: -67.3391 - acc: 0.0993 - val_loss: -64.6189 - val_acc: 0.1002\n",
      "Epoch 95/100\n",
      "22667/22667 [==============================] - 4s - loss: -67.2782 - acc: 0.1012 - val_loss: -64.8742 - val_acc: 0.0977\n",
      "Epoch 96/100\n",
      "22667/22667 [==============================] - 4s - loss: -67.4524 - acc: 0.0991 - val_loss: -65.4175 - val_acc: 0.0975\n",
      "Epoch 97/100\n",
      "22667/22667 [==============================] - 4s - loss: -67.0713 - acc: 0.0992 - val_loss: -64.9956 - val_acc: 0.0972\n",
      "Epoch 98/100\n",
      "22667/22667 [==============================] - 4s - loss: -67.5108 - acc: 0.0992 - val_loss: -64.6958 - val_acc: 0.0925\n",
      "Epoch 99/100\n",
      "22667/22667 [==============================] - 4s - loss: -67.2407 - acc: 0.0987 - val_loss: -65.5345 - val_acc: 0.1005\n",
      "Epoch 100/100\n",
      "22667/22667 [==============================] - 4s - loss: -67.2837 - acc: 0.0992 - val_loss: -64.7979 - val_acc: 0.0957\n"
     ]
    },
    {
     "data": {
      "text/plain": [
       "<keras.callbacks.History at 0x7fdc0ec8fe90>"
      ]
     },
     "execution_count": 14,
     "metadata": {},
     "output_type": "execute_result"
    }
   ],
   "source": [
    "input_img = Input(shape=(3584,))\n",
    "encoded = Dense(2048, activation='relu')(input_img)\n",
    "encoded = Dense(1024, activation='relu')(encoded)\n",
    "encoded = Dense(512, activation='relu')(encoded)\n",
    "\n",
    "decoded = Dense(1024, activation='relu')(encoded)\n",
    "decoded = Dense(2048, activation='relu')(decoded)\n",
    "decoded = Dense(3584, activation='sigmoid')(decoded)\n",
    "\n",
    "autoencoder = Model(input=input_img, output=decoded)\n",
    "autoencoder.compile(optimizer='adadelta', loss='binary_crossentropy', metrics=['accuracy'])\n",
    "\n",
    "autoencoder.fit(X_train, X_train,\n",
    "                nb_epoch=100,\n",
    "                batch_size=256,\n",
    "                shuffle=True,\n",
    "                validation_data=(X_test, X_test))"
   ]
  },
  {
   "cell_type": "code",
   "execution_count": null,
   "metadata": {
    "collapsed": true
   },
   "outputs": [],
   "source": []
  }
 ],
 "metadata": {
  "kernelspec": {
   "display_name": "Python 2",
   "language": "python",
   "name": "python2"
  },
  "language_info": {
   "codemirror_mode": {
    "name": "ipython",
    "version": 2
   },
   "file_extension": ".py",
   "mimetype": "text/x-python",
   "name": "python",
   "nbconvert_exporter": "python",
   "pygments_lexer": "ipython2",
   "version": "2.7.6"
  }
 },
 "nbformat": 4,
 "nbformat_minor": 0
}
