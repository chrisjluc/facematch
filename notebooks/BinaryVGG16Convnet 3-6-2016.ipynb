{
 "cells": [
  {
   "cell_type": "markdown",
   "metadata": {},
   "source": [
    "<h1>Binary VGG16 Convnet 3-6-2016</h1>\n",
    "\n",
    "<strong>Abstract</strong> \n",
    "Trained VGG16 CNN on equal number of images from 2 people (George_W_Bush and Colin_Powell) over 100 epochs resulting in 84% accuracy and test score of .63, on our test set. Demonstrate it's possible to train a CNN to differentiate between two people with equal size image sets fairly easily without any tuning.\n",
    "\n",
    "<strong>Details</strong>\n",
    "The final epoch of training on the CNN reaches 99.7% accuracy on test set and around 72% on validation set and took about 30 minutes running on GeForce GT 650M 1GB. Images were resized to 100x100 dimensions. Models and weights have been persisted in the models folder.\n",
    "\n",
    "<strong>Takeaways</strong>\n",
    "<ul>\n",
    "    <li>Originally used a binary CNN where it outputs either 0 or 1 because this is essentially a binary classification problem. It did not learn - so shifted towards a categorical CNN with 2 classes as either the person we're identifying or not the person.</li>\n",
    "    <li>Original CNN wasn't deep enough, then implemented well-known VGG16 which performed much better.</li>\n",
    "    <li>Configured with not enough epochs, originally running around 10 for a while but realized 100 actually resulted in the CNN actually learning</li>\n",
    "    <li>Precision and Recall become less important as a metric when doing multi-categorical classification</li>\n",
    "    <li>Running Theano on GPU with CuDNN and CNMeM significantly improves the run time by factor of ~200x vs running on the CPU</li>\n",
    "    <li>Earlystopping is important in identifying if the CNN will be able to even learn the problem.</li>\n",
    "</ul>\n",
    "\n",
    "<strong>Recommendations</strong>\n",
    "Try to identify one face among many other faces, treat that as a binary classification problem as well."
   ]
  },
  {
   "cell_type": "code",
   "execution_count": 1,
   "metadata": {
    "collapsed": false
   },
   "outputs": [],
   "source": [
    "%load_ext autoreload"
   ]
  },
  {
   "cell_type": "code",
   "execution_count": 2,
   "metadata": {
    "collapsed": false
   },
   "outputs": [
    {
     "name": "stderr",
     "output_type": "stream",
     "text": [
      "Using Theano backend.\n",
      "/usr/local/lib/python2.7/site-packages/theano/sandbox/cuda/nvcc_compiler.py:224: UserWarning: You have the cuda library directory in your lib_dirs. This has been known to cause problems and should not be done.\n",
      "  warnings.warn(\"You have the cuda library directory in your \"\n",
      "Using gpu device 0: GeForce GT 650M (CNMeM is enabled with initial size: 40.0% of memory, CuDNN 4007)\n",
      "/usr/local/lib/python2.7/site-packages/theano/tensor/signal/downsample.py:5: UserWarning: downsample module has been moved to the pool module.\n",
      "  warnings.warn(\"downsample module has been moved to the pool module.\")\n"
     ]
    }
   ],
   "source": [
    "%autoreload 2\n",
    "%matplotlib inline\n",
    "\n",
    "import os\n",
    "import fnmatch\n",
    "import numpy as np\n",
    "from matplotlib.pyplot import imshow \n",
    "from PIL import Image\n",
    "\n",
    "from skimage import io\n",
    "from skimage.transform import resize\n",
    "from sklearn.metrics import confusion_matrix\n",
    "\n",
    "from keras.preprocessing.image import ImageDataGenerator\n",
    "from keras.models import Sequential\n",
    "from keras.layers.core import Dense, Dropout, Activation, Flatten\n",
    "from keras.layers.convolutional import Convolution2D, MaxPooling2D, ZeroPadding2D\n",
    "from keras.utils import np_utils\n",
    "from keras.callbacks import EarlyStopping\n",
    "from keras.models import model_from_json\n",
    "\n",
    "np.random.seed(123456)"
   ]
  },
  {
   "cell_type": "code",
   "execution_count": 3,
   "metadata": {
    "collapsed": true
   },
   "outputs": [],
   "source": [
    "data_path = '../data/'\n",
    "data_lfw_path = data_path + 'lfw_cropped/'\n",
    "\n",
    "class1 = 'George_W_Bush'\n",
    "class2 = 'Colin_Powell'\n",
    "\n",
    "batch_size = 32\n",
    "nb_epoch = 100\n",
    "img_rows, img_cols = 100, 100\n",
    "train_size_percent = .85\n",
    "validation_split = .15\n",
    "random_discard_percent = 0"
   ]
  },
  {
   "cell_type": "code",
   "execution_count": 4,
   "metadata": {
    "collapsed": false
   },
   "outputs": [],
   "source": [
    "def get_filenames_separated_from_target(class1, class2):\n",
    "    class1_files = []\n",
    "    class2_files = []\n",
    "    \n",
    "    for root, dirnames, filenames in os.walk(data_lfw_path):\n",
    "        for dirname in dirnames:\n",
    "                for filename in os.listdir(os.path.join(data_lfw_path, dirname)):\n",
    "                    if filename.endswith(\".jpg\"):\n",
    "                        f = os.path.join(root + dirname, filename)\n",
    "                        if dirname == class1:\n",
    "                            class1_files.append(f)\n",
    "                        elif dirname == class2:\n",
    "                            class2_files.append(f)\n",
    "    return class1_files, class2_files"
   ]
  },
  {
   "cell_type": "code",
   "execution_count": 5,
   "metadata": {
    "collapsed": true
   },
   "outputs": [],
   "source": [
    "def get_train_and_test_sets(class1_data, class2_data):\n",
    "    \n",
    "    size = min(len(class1_data), len(class2_data))\n",
    "    \n",
    "    all_data = [(t, 1) for t in class1_data[:size]] + [(t, 0) for t in class2_data[:size]]\n",
    "\n",
    "    np.random.shuffle(all_data)\n",
    "    \n",
    "    train_size = int(train_size_percent * len(all_data))\n",
    "    X_train = np.array([x[0] for x in all_data[:train_size]])\n",
    "    y_train = np.array([x[1] for x in all_data[:train_size]])\n",
    "    X_test = np.array([x[0] for x in all_data[train_size:]])  \n",
    "    y_test = np.array([x[1] for x in all_data[train_size:]])\n",
    "      \n",
    "    return (X_train, y_train), (X_test, y_test)"
   ]
  },
  {
   "cell_type": "code",
   "execution_count": 6,
   "metadata": {
    "collapsed": true
   },
   "outputs": [],
   "source": [
    "def image_read(f):\n",
    "    return resize(io.imread(f), (img_rows, img_cols))"
   ]
  },
  {
   "cell_type": "code",
   "execution_count": 7,
   "metadata": {
    "collapsed": false
   },
   "outputs": [],
   "source": [
    "def display_image(m):\n",
    "    imshow(Image.fromarray(np.uint8(m * 255)))"
   ]
  },
  {
   "cell_type": "code",
   "execution_count": 8,
   "metadata": {
    "collapsed": true
   },
   "outputs": [],
   "source": [
    "class1_files, class2_files = get_filenames_separated_from_target(class1, class2)"
   ]
  },
  {
   "cell_type": "code",
   "execution_count": 9,
   "metadata": {
    "collapsed": false
   },
   "outputs": [],
   "source": [
    "class1_images = [image_read(f) for f in class1_files]\n",
    "class2_images = [image_read(f) for f in class2_files]"
   ]
  },
  {
   "cell_type": "code",
   "execution_count": 10,
   "metadata": {
    "collapsed": true
   },
   "outputs": [],
   "source": [
    "(X_train, y_train), (X_test, y_test) = get_train_and_test_sets(class1_images, class2_images)"
   ]
  },
  {
   "cell_type": "code",
   "execution_count": 11,
   "metadata": {
    "collapsed": true
   },
   "outputs": [],
   "source": [
    "X_train = X_train.reshape(X_train.shape[0], 3, img_rows, img_cols)\n",
    "X_test = X_test.reshape(X_test.shape[0], 3, img_rows, img_cols)"
   ]
  },
  {
   "cell_type": "code",
   "execution_count": 12,
   "metadata": {
    "collapsed": true
   },
   "outputs": [],
   "source": [
    "Y_train = np_utils.to_categorical(y_train,2)\n",
    "Y_test = np_utils.to_categorical(y_test,2)"
   ]
  },
  {
   "cell_type": "code",
   "execution_count": 14,
   "metadata": {
    "collapsed": true
   },
   "outputs": [],
   "source": [
    "def VGG_16(optimizer, batch_size=16):\n",
    "    model = Sequential()\n",
    "    model.add(ZeroPadding2D((1,1),input_shape=(3,img_rows,img_cols)))\n",
    "    model.add(Convolution2D(32, 3, 3, activation='relu'))\n",
    "    model.add(ZeroPadding2D((1,1)))\n",
    "    model.add(Convolution2D(32, 3, 3, activation='relu'))\n",
    "    model.add(MaxPooling2D((2,2), strides=(2,2)))\n",
    "\n",
    "    model.add(ZeroPadding2D((1,1)))\n",
    "    model.add(Convolution2D(64, 3, 3, activation='relu'))\n",
    "    model.add(ZeroPadding2D((1,1)))\n",
    "    model.add(Convolution2D(64, 3, 3, activation='relu'))\n",
    "    model.add(MaxPooling2D((2,2), strides=(2,2)))\n",
    "\n",
    "    model.add(ZeroPadding2D((1,1)))\n",
    "    model.add(Convolution2D(128, 3, 3, activation='relu'))\n",
    "    model.add(ZeroPadding2D((1,1)))\n",
    "    model.add(Convolution2D(128, 3, 3, activation='relu'))\n",
    "    model.add(ZeroPadding2D((1,1)))\n",
    "    model.add(Convolution2D(128, 3, 3, activation='relu'))\n",
    "    model.add(MaxPooling2D((2,2), strides=(2,2)))\n",
    "\n",
    "    model.add(ZeroPadding2D((1,1)))\n",
    "    model.add(Convolution2D(256, 3, 3, activation='relu'))\n",
    "    model.add(ZeroPadding2D((1,1)))\n",
    "    model.add(Convolution2D(256, 3, 3, activation='relu'))\n",
    "    model.add(ZeroPadding2D((1,1)))\n",
    "    model.add(Convolution2D(256, 3, 3, activation='relu'))\n",
    "    model.add(MaxPooling2D((2,2), strides=(2,2)))\n",
    "\n",
    "    model.add(ZeroPadding2D((1,1)))\n",
    "    model.add(Convolution2D(256, 3, 3, activation='relu'))\n",
    "    model.add(ZeroPadding2D((1,1)))\n",
    "    model.add(Convolution2D(256, 3, 3, activation='relu'))\n",
    "    model.add(ZeroPadding2D((1,1)))\n",
    "    model.add(Convolution2D(256, 3, 3, activation='relu'))\n",
    "    model.add(MaxPooling2D((2,2), strides=(2,2)))\n",
    "\n",
    "    model.add(Flatten())\n",
    "    model.add(Dense(2048, activation='relu'))\n",
    "    model.add(Dropout(0.5))\n",
    "    model.add(Dense(2048, activation='relu'))\n",
    "    model.add(Dropout(0.5))\n",
    "    model.add(Dense(2, activation='softmax'))\n",
    "    \n",
    "    model.compile(loss='categorical_crossentropy',\n",
    "              optimizer=optimizer)\n",
    "    \n",
    "    return model"
   ]
  },
  {
   "cell_type": "code",
   "execution_count": 16,
   "metadata": {
    "collapsed": false
   },
   "outputs": [
    {
     "name": "stdout",
     "output_type": "stream",
     "text": [
      "Train on 340 samples, validate on 61 samples\n",
      "Epoch 1/100\n",
      "340/340 [==============================] - 13s - loss: 0.7463 - acc: 0.5000 - val_loss: 0.6975 - val_acc: 0.4754\n",
      "Epoch 2/100\n",
      "340/340 [==============================] - 12s - loss: 0.7079 - acc: 0.4588 - val_loss: 0.6915 - val_acc: 0.5410\n",
      "Epoch 3/100\n",
      "340/340 [==============================] - 12s - loss: 0.6988 - acc: 0.4824 - val_loss: 0.6907 - val_acc: 0.5738\n",
      "Epoch 4/100\n",
      "340/340 [==============================] - 12s - loss: 0.6946 - acc: 0.5441 - val_loss: 0.6873 - val_acc: 0.5246\n",
      "Epoch 5/100\n",
      "340/340 [==============================] - 13s - loss: 0.6974 - acc: 0.5118 - val_loss: 0.6867 - val_acc: 0.5246\n",
      "Epoch 6/100\n",
      "340/340 [==============================] - 13s - loss: 0.7003 - acc: 0.4912 - val_loss: 0.6832 - val_acc: 0.5246\n",
      "Epoch 7/100\n",
      "340/340 [==============================] - 13s - loss: 0.6975 - acc: 0.4882 - val_loss: 0.6847 - val_acc: 0.5246\n",
      "Epoch 8/100\n",
      "340/340 [==============================] - 13s - loss: 0.6922 - acc: 0.5029 - val_loss: 0.6938 - val_acc: 0.4754\n",
      "Epoch 9/100\n",
      "340/340 [==============================] - 13s - loss: 0.6930 - acc: 0.5147 - val_loss: 0.6885 - val_acc: 0.5574\n",
      "Epoch 10/100\n",
      "340/340 [==============================] - 13s - loss: 0.6936 - acc: 0.5088 - val_loss: 0.6801 - val_acc: 0.5246\n",
      "Epoch 11/100\n",
      "340/340 [==============================] - 13s - loss: 0.6882 - acc: 0.5735 - val_loss: 0.6921 - val_acc: 0.4754\n",
      "Epoch 12/100\n",
      "340/340 [==============================] - 13s - loss: 0.6918 - acc: 0.5353 - val_loss: 0.6724 - val_acc: 0.6885\n",
      "Epoch 13/100\n",
      "340/340 [==============================] - 13s - loss: 0.6926 - acc: 0.5088 - val_loss: 0.6743 - val_acc: 0.5246\n",
      "Epoch 14/100\n",
      "340/340 [==============================] - 13s - loss: 0.6869 - acc: 0.5294 - val_loss: 0.6912 - val_acc: 0.4754\n",
      "Epoch 15/100\n",
      "340/340 [==============================] - 13s - loss: 0.6917 - acc: 0.5382 - val_loss: 0.6720 - val_acc: 0.5902\n",
      "Epoch 16/100\n",
      "340/340 [==============================] - 13s - loss: 0.6835 - acc: 0.5882 - val_loss: 0.6671 - val_acc: 0.8033\n",
      "Epoch 17/100\n",
      "340/340 [==============================] - 13s - loss: 0.6799 - acc: 0.5706 - val_loss: 0.6996 - val_acc: 0.4754\n",
      "Epoch 18/100\n",
      "340/340 [==============================] - 13s - loss: 0.6588 - acc: 0.6235 - val_loss: 0.6745 - val_acc: 0.5082\n",
      "Epoch 19/100\n",
      "340/340 [==============================] - 13s - loss: 0.6754 - acc: 0.6000 - val_loss: 0.6659 - val_acc: 0.5082\n",
      "Epoch 20/100\n",
      "340/340 [==============================] - 13s - loss: 0.6672 - acc: 0.6206 - val_loss: 0.6721 - val_acc: 0.5902\n",
      "Epoch 21/100\n",
      "340/340 [==============================] - 12s - loss: 0.6756 - acc: 0.5794 - val_loss: 0.6576 - val_acc: 0.6885\n",
      "Epoch 22/100\n",
      "340/340 [==============================] - 13s - loss: 0.6500 - acc: 0.5853 - val_loss: 0.7314 - val_acc: 0.4754\n",
      "Epoch 23/100\n",
      "340/340 [==============================] - 12s - loss: 0.6455 - acc: 0.6382 - val_loss: 0.5974 - val_acc: 0.7377\n",
      "Epoch 24/100\n",
      "340/340 [==============================] - 12s - loss: 0.6467 - acc: 0.6265 - val_loss: 0.6273 - val_acc: 0.7869\n",
      "Epoch 25/100\n",
      "340/340 [==============================] - 12s - loss: 0.6562 - acc: 0.6382 - val_loss: 0.6344 - val_acc: 0.7377\n",
      "Epoch 26/100\n",
      "340/340 [==============================] - 13s - loss: 0.6620 - acc: 0.6147 - val_loss: 0.6499 - val_acc: 0.6721\n",
      "Epoch 27/100\n",
      "340/340 [==============================] - 12s - loss: 0.6087 - acc: 0.7471 - val_loss: 0.6036 - val_acc: 0.7377\n",
      "Epoch 28/100\n",
      "340/340 [==============================] - 12s - loss: 0.5705 - acc: 0.7647 - val_loss: 0.6634 - val_acc: 0.6393\n",
      "Epoch 29/100\n",
      "340/340 [==============================] - 12s - loss: 0.6522 - acc: 0.6529 - val_loss: 0.6044 - val_acc: 0.6885\n",
      "Epoch 30/100\n",
      "340/340 [==============================] - 13s - loss: 0.6123 - acc: 0.6882 - val_loss: 0.6085 - val_acc: 0.6557\n",
      "Epoch 31/100\n",
      "340/340 [==============================] - 12s - loss: 0.5738 - acc: 0.7029 - val_loss: 0.6287 - val_acc: 0.6721\n",
      "Epoch 32/100\n",
      "340/340 [==============================] - 12s - loss: 0.5748 - acc: 0.7353 - val_loss: 0.8036 - val_acc: 0.5082\n",
      "Epoch 33/100\n",
      "340/340 [==============================] - 12s - loss: 0.5991 - acc: 0.6912 - val_loss: 0.6112 - val_acc: 0.6885\n",
      "Epoch 34/100\n",
      "340/340 [==============================] - 12s - loss: 0.5259 - acc: 0.7765 - val_loss: 0.6814 - val_acc: 0.6393\n",
      "Epoch 35/100\n",
      "340/340 [==============================] - 12s - loss: 0.5107 - acc: 0.7324 - val_loss: 1.2998 - val_acc: 0.4754\n",
      "Epoch 36/100\n",
      "340/340 [==============================] - 12s - loss: 0.5260 - acc: 0.7676 - val_loss: 0.8728 - val_acc: 0.4754\n",
      "Epoch 37/100\n",
      "340/340 [==============================] - 12s - loss: 0.5519 - acc: 0.7471 - val_loss: 0.7490 - val_acc: 0.4754\n",
      "Epoch 38/100\n",
      "340/340 [==============================] - 12s - loss: 0.6728 - acc: 0.5765 - val_loss: 0.6079 - val_acc: 0.7049\n",
      "Epoch 39/100\n",
      "340/340 [==============================] - 12s - loss: 0.5079 - acc: 0.7882 - val_loss: 0.6030 - val_acc: 0.7213\n",
      "Epoch 40/100\n",
      "340/340 [==============================] - 12s - loss: 0.4796 - acc: 0.7853 - val_loss: 0.6445 - val_acc: 0.6885\n",
      "Epoch 41/100\n",
      "340/340 [==============================] - 12s - loss: 0.4415 - acc: 0.8206 - val_loss: 0.6524 - val_acc: 0.6393\n",
      "Epoch 42/100\n",
      "340/340 [==============================] - 12s - loss: 0.4327 - acc: 0.8147 - val_loss: 0.6592 - val_acc: 0.7049\n",
      "Epoch 43/100\n",
      "340/340 [==============================] - 12s - loss: 0.4911 - acc: 0.7647 - val_loss: 0.6773 - val_acc: 0.6557\n",
      "Epoch 44/100\n",
      "340/340 [==============================] - 12s - loss: 0.4111 - acc: 0.8147 - val_loss: 0.6955 - val_acc: 0.7049\n",
      "Epoch 45/100\n",
      "340/340 [==============================] - 12s - loss: 0.5814 - acc: 0.7176 - val_loss: 0.6086 - val_acc: 0.7049\n",
      "Epoch 46/100\n",
      "340/340 [==============================] - 12s - loss: 0.4101 - acc: 0.8324 - val_loss: 0.6726 - val_acc: 0.7213\n",
      "Epoch 47/100\n",
      "340/340 [==============================] - 12s - loss: 0.3426 - acc: 0.8559 - val_loss: 0.7162 - val_acc: 0.7049\n",
      "Epoch 48/100\n",
      "340/340 [==============================] - 12s - loss: 0.4130 - acc: 0.8118 - val_loss: 0.6831 - val_acc: 0.6721\n",
      "Epoch 49/100\n",
      "340/340 [==============================] - 12s - loss: 0.5349 - acc: 0.7559 - val_loss: 0.6495 - val_acc: 0.6230\n",
      "Epoch 50/100\n",
      "340/340 [==============================] - 12s - loss: 0.4724 - acc: 0.8676 - val_loss: 0.6543 - val_acc: 0.7049\n",
      "Epoch 51/100\n",
      "340/340 [==============================] - 12s - loss: 0.3639 - acc: 0.8500 - val_loss: 0.6761 - val_acc: 0.7213\n",
      "Epoch 52/100\n",
      "340/340 [==============================] - 12s - loss: 0.4248 - acc: 0.8294 - val_loss: 0.6820 - val_acc: 0.7213\n",
      "Epoch 53/100\n",
      "340/340 [==============================] - 12s - loss: 0.3230 - acc: 0.8676 - val_loss: 0.7695 - val_acc: 0.6885\n",
      "Epoch 54/100\n",
      "340/340 [==============================] - 12s - loss: 0.2837 - acc: 0.8765 - val_loss: 0.8267 - val_acc: 0.7049\n",
      "Epoch 55/100\n",
      "340/340 [==============================] - 12s - loss: 0.3316 - acc: 0.8382 - val_loss: 0.9233 - val_acc: 0.6721\n",
      "Epoch 56/100\n",
      "340/340 [==============================] - 12s - loss: 0.2872 - acc: 0.8912 - val_loss: 0.6870 - val_acc: 0.7377\n",
      "Epoch 57/100\n",
      "340/340 [==============================] - 12s - loss: 0.2973 - acc: 0.8706 - val_loss: 0.7292 - val_acc: 0.7049\n",
      "Epoch 58/100\n",
      "340/340 [==============================] - 12s - loss: 0.2743 - acc: 0.8765 - val_loss: 0.7663 - val_acc: 0.6721\n",
      "Epoch 59/100\n",
      "340/340 [==============================] - 12s - loss: 0.2966 - acc: 0.8588 - val_loss: 0.7599 - val_acc: 0.6885\n",
      "Epoch 60/100\n",
      "340/340 [==============================] - 12s - loss: 0.3081 - acc: 0.8765 - val_loss: 1.1602 - val_acc: 0.4918\n",
      "Epoch 61/100\n",
      "340/340 [==============================] - 12s - loss: 0.3117 - acc: 0.8559 - val_loss: 0.8866 - val_acc: 0.7213\n",
      "Epoch 62/100\n",
      "340/340 [==============================] - 12s - loss: 0.3030 - acc: 0.8735 - val_loss: 0.6522 - val_acc: 0.6230\n",
      "Epoch 63/100\n",
      "340/340 [==============================] - 12s - loss: 0.3202 - acc: 0.8765 - val_loss: 0.9007 - val_acc: 0.7377\n",
      "Epoch 64/100\n",
      "340/340 [==============================] - 12s - loss: 0.2390 - acc: 0.9059 - val_loss: 0.8225 - val_acc: 0.7377\n",
      "Epoch 65/100\n",
      "340/340 [==============================] - 12s - loss: 0.2205 - acc: 0.9176 - val_loss: 0.8109 - val_acc: 0.7377\n",
      "Epoch 66/100\n",
      "340/340 [==============================] - 12s - loss: 0.2107 - acc: 0.9147 - val_loss: 0.8135 - val_acc: 0.7213\n",
      "Epoch 67/100\n",
      "340/340 [==============================] - 12s - loss: 0.2428 - acc: 0.8941 - val_loss: 0.7527 - val_acc: 0.7213\n",
      "Epoch 68/100\n",
      "340/340 [==============================] - 12s - loss: 0.1555 - acc: 0.9471 - val_loss: 1.0317 - val_acc: 0.7377\n",
      "Epoch 69/100\n",
      "340/340 [==============================] - 12s - loss: 0.3794 - acc: 0.8441 - val_loss: 0.8573 - val_acc: 0.7049\n",
      "Epoch 70/100\n",
      "340/340 [==============================] - 12s - loss: 0.1921 - acc: 0.9265 - val_loss: 0.7071 - val_acc: 0.7213\n",
      "Epoch 71/100\n",
      "340/340 [==============================] - 12s - loss: 0.1490 - acc: 0.9235 - val_loss: 1.1173 - val_acc: 0.7213\n",
      "Epoch 72/100\n",
      "340/340 [==============================] - 12s - loss: 0.2530 - acc: 0.8882 - val_loss: 0.8717 - val_acc: 0.6885\n",
      "Epoch 73/100\n",
      "340/340 [==============================] - 12s - loss: 0.1620 - acc: 0.9324 - val_loss: 0.9558 - val_acc: 0.7049\n",
      "Epoch 74/100\n",
      "340/340 [==============================] - 12s - loss: 0.1328 - acc: 0.9441 - val_loss: 0.9093 - val_acc: 0.7213\n",
      "Epoch 75/100\n",
      "340/340 [==============================] - 12s - loss: 0.4256 - acc: 0.8441 - val_loss: 0.7428 - val_acc: 0.7049\n",
      "Epoch 76/100\n",
      "340/340 [==============================] - 12s - loss: 0.1621 - acc: 0.9441 - val_loss: 0.8827 - val_acc: 0.7049\n",
      "Epoch 77/100\n",
      "340/340 [==============================] - 12s - loss: 0.1184 - acc: 0.9618 - val_loss: 1.0237 - val_acc: 0.7049\n",
      "Epoch 78/100\n",
      "340/340 [==============================] - 12s - loss: 0.1165 - acc: 0.9647 - val_loss: 1.0766 - val_acc: 0.7377\n",
      "Epoch 79/100\n",
      "340/340 [==============================] - 12s - loss: 0.1146 - acc: 0.9618 - val_loss: 1.0978 - val_acc: 0.7213\n",
      "Epoch 80/100\n",
      "340/340 [==============================] - 12s - loss: 0.1091 - acc: 0.9618 - val_loss: 1.2727 - val_acc: 0.7213\n",
      "Epoch 81/100\n",
      "340/340 [==============================] - 12s - loss: 0.0860 - acc: 0.9588 - val_loss: 1.3813 - val_acc: 0.7049\n",
      "Epoch 82/100\n",
      "340/340 [==============================] - 12s - loss: 0.0754 - acc: 0.9824 - val_loss: 1.2733 - val_acc: 0.7049\n",
      "Epoch 83/100\n",
      "340/340 [==============================] - 12s - loss: 0.3641 - acc: 0.8324 - val_loss: 1.0167 - val_acc: 0.7213\n",
      "Epoch 84/100\n",
      "340/340 [==============================] - 12s - loss: 0.1456 - acc: 0.9500 - val_loss: 1.0295 - val_acc: 0.7049\n",
      "Epoch 85/100\n",
      "340/340 [==============================] - 12s - loss: 0.0663 - acc: 0.9824 - val_loss: 1.2944 - val_acc: 0.7213\n",
      "Epoch 86/100\n",
      "340/340 [==============================] - 12s - loss: 0.0494 - acc: 0.9853 - val_loss: 1.2669 - val_acc: 0.7213\n",
      "Epoch 87/100\n",
      "340/340 [==============================] - 12s - loss: 0.1217 - acc: 0.9382 - val_loss: 1.1001 - val_acc: 0.7541\n",
      "Epoch 88/100\n",
      "340/340 [==============================] - 12s - loss: 0.0616 - acc: 0.9824 - val_loss: 1.3219 - val_acc: 0.7213\n",
      "Epoch 89/100\n",
      "340/340 [==============================] - 12s - loss: 0.0396 - acc: 0.9882 - val_loss: 1.0277 - val_acc: 0.7213\n",
      "Epoch 90/100\n",
      "340/340 [==============================] - 12s - loss: 0.0327 - acc: 0.9882 - val_loss: 1.3060 - val_acc: 0.7377\n",
      "Epoch 91/100\n",
      "340/340 [==============================] - 12s - loss: 0.0213 - acc: 1.0000 - val_loss: 1.4128 - val_acc: 0.7213\n",
      "Epoch 92/100\n",
      "340/340 [==============================] - 12s - loss: 0.0138 - acc: 0.9971 - val_loss: 1.6279 - val_acc: 0.7541\n",
      "Epoch 93/100\n",
      "340/340 [==============================] - 12s - loss: 0.6221 - acc: 0.7882 - val_loss: 0.8740 - val_acc: 0.5738\n",
      "Epoch 94/100\n",
      "340/340 [==============================] - 12s - loss: 0.5201 - acc: 0.7471 - val_loss: 0.6484 - val_acc: 0.7049\n",
      "Epoch 95/100\n",
      "340/340 [==============================] - 12s - loss: 0.2693 - acc: 0.8706 - val_loss: 0.8786 - val_acc: 0.6885\n",
      "Epoch 96/100\n",
      "340/340 [==============================] - 12s - loss: 0.1442 - acc: 0.9412 - val_loss: 1.0807 - val_acc: 0.7049\n",
      "Epoch 97/100\n",
      "340/340 [==============================] - 12s - loss: 0.0730 - acc: 0.9794 - val_loss: 1.2350 - val_acc: 0.7213\n",
      "Epoch 98/100\n",
      "340/340 [==============================] - 12s - loss: 0.0675 - acc: 0.9794 - val_loss: 1.4966 - val_acc: 0.7049\n",
      "Epoch 99/100\n",
      "340/340 [==============================] - 12s - loss: 0.0413 - acc: 0.9882 - val_loss: 1.4306 - val_acc: 0.7213\n",
      "Epoch 100/100\n",
      "340/340 [==============================] - 12s - loss: 0.0190 - acc: 0.9971 - val_loss: 1.5992 - val_acc: 0.7213\n"
     ]
    },
    {
     "data": {
      "text/plain": [
       "<keras.callbacks.History at 0x13c18d710>"
      ]
     },
     "execution_count": 16,
     "metadata": {},
     "output_type": "execute_result"
    }
   ],
   "source": [
    "model = VGG_16('sgd', batch_size)\n",
    "early_stopping = EarlyStopping(monitor='loss', patience=10, mode='min')\n",
    "model.fit(X_train, Y_train, batch_size=batch_size, nb_epoch=nb_epoch, \n",
    "        show_accuracy=True, verbose=1, shuffle=True, validation_split=validation_split)"
   ]
  },
  {
   "cell_type": "code",
   "execution_count": 17,
   "metadata": {
    "collapsed": false
   },
   "outputs": [],
   "source": [
    "json_string = model.to_json()\n",
    "open('models/BinaryVGG16Convnet.json', 'w').write(json_string)\n",
    "model.save_weights('models/BinaryVGG16Convnet.h5')"
   ]
  },
  {
   "cell_type": "code",
   "execution_count": 13,
   "metadata": {
    "collapsed": false
   },
   "outputs": [],
   "source": [
    "model = model_from_json(open('models/BinaryVGG16Convnet.json').read())\n",
    "model.load_weights('models/BinaryVGG16Convnet.h5')"
   ]
  },
  {
   "cell_type": "code",
   "execution_count": 14,
   "metadata": {
    "collapsed": false
   },
   "outputs": [
    {
     "name": "stdout",
     "output_type": "stream",
     "text": [
      "71/71 [==============================] - 1s\n",
      "('Test score:', 0.63323318958282471)\n",
      "('Test accuracy:', 0.84507042253521125)\n"
     ]
    }
   ],
   "source": [
    "score = model.evaluate(X_test, Y_test, show_accuracy=True, verbose=1)\n",
    "print('Test score:', score[0])\n",
    "print('Test accuracy:', score[1])"
   ]
  },
  {
   "cell_type": "code",
   "execution_count": 15,
   "metadata": {
    "collapsed": false
   },
   "outputs": [
    {
     "name": "stdout",
     "output_type": "stream",
     "text": [
      "71/71 [==============================] - 1s\n"
     ]
    }
   ],
   "source": [
    "y_pred = model.predict_classes(X_test)"
   ]
  },
  {
   "cell_type": "code",
   "execution_count": 16,
   "metadata": {
    "collapsed": false
   },
   "outputs": [
    {
     "data": {
      "text/plain": [
       "array([[33,  2],\n",
       "       [ 9, 27]])"
      ]
     },
     "execution_count": 16,
     "metadata": {},
     "output_type": "execute_result"
    }
   ],
   "source": [
    "confusion_matrix(y_test, y_pred)"
   ]
  },
  {
   "cell_type": "code",
   "execution_count": 3,
   "metadata": {
    "collapsed": false
   },
   "outputs": [
    {
     "name": "stdout",
     "output_type": "stream",
     "text": [
      "precision: 0.931034482759\n",
      "recall: 0.75\n"
     ]
    }
   ],
   "source": [
    "m = [[33., 2.], [9., 27.]]\n",
    "print 'precision: ' + str(m[1][1] / (m[0][1] + m[1][1]))\n",
    "print 'recall: ' + str(m[1][1] / (m[1][0] + m[1][1]))"
   ]
  },
  {
   "cell_type": "code",
   "execution_count": null,
   "metadata": {
    "collapsed": true
   },
   "outputs": [],
   "source": []
  }
 ],
 "metadata": {
  "kernelspec": {
   "display_name": "Python 2",
   "language": "python",
   "name": "python2"
  },
  "language_info": {
   "codemirror_mode": {
    "name": "ipython",
    "version": 2
   },
   "file_extension": ".py",
   "mimetype": "text/x-python",
   "name": "python",
   "nbconvert_exporter": "python",
   "pygments_lexer": "ipython2",
   "version": "2.7.11"
  }
 },
 "nbformat": 4,
 "nbformat_minor": 0
}
