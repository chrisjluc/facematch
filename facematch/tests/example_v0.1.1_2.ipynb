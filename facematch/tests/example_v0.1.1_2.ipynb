{
 "cells": [
  {
   "cell_type": "code",
   "execution_count": 1,
   "metadata": {
    "collapsed": true
   },
   "outputs": [],
   "source": [
    "%load_ext autoreload"
   ]
  },
  {
   "cell_type": "code",
   "execution_count": 2,
   "metadata": {
    "collapsed": false
   },
   "outputs": [],
   "source": [
    "%matplotlib inline\n",
    "import os\n",
    "\n",
    "from api import API\n",
    "from image import NoFaceDetectedException"
   ]
  },
  {
   "cell_type": "code",
   "execution_count": 3,
   "metadata": {
    "collapsed": true
   },
   "outputs": [],
   "source": [
    "data_path = 'tests/.data/lfw/'\n",
    "image = 'tests/.data/lfw/{0}/{0}_{1}.jpg'"
   ]
  },
  {
   "cell_type": "code",
   "execution_count": 4,
   "metadata": {
    "collapsed": true
   },
   "outputs": [],
   "source": [
    "def get_names_by_count(path):\n",
    "    count_by_names_dict = {}\n",
    "    for root, dirnames, filenames in os.walk(path):\n",
    "        for dirname in dirnames:\n",
    "            if dirname not in count_by_names_dict:\n",
    "                count_by_names_dict[dirname] = 0\n",
    "            directory_path = os.path.join(path, dirname)\n",
    "            for filename in os.listdir(directory_path):\n",
    "                if filename.endswith(\".jpg\"):\n",
    "                    count_by_names_dict[dirname] += 1\n",
    "    return [x for x in count_by_names_dict.iteritems()]"
   ]
  },
  {
   "cell_type": "code",
   "execution_count": 5,
   "metadata": {
    "collapsed": false
   },
   "outputs": [],
   "source": [
    "names_by_count = get_names_by_count(data_path)\n",
    "sorted_names_by_count = sorted(names_by_count, key=lambda x: x[1], reverse=True)"
   ]
  },
  {
   "cell_type": "code",
   "execution_count": 6,
   "metadata": {
    "collapsed": false
   },
   "outputs": [],
   "source": [
    "api = API()\n",
    "api.remove_images()\n",
    "\n",
    "for name, _ in sorted_names_by_count[:50]:\n",
    "    for i in range(5):\n",
    "        try:\n",
    "            api.add_image(name, image.format(name, str(i + 1).zfill(4)))\n",
    "        except NoFaceDetectedException:\n",
    "            pass"
   ]
  },
  {
   "cell_type": "code",
   "execution_count": 7,
   "metadata": {
    "collapsed": false,
    "scrolled": false
   },
   "outputs": [
    {
     "name": "stderr",
     "output_type": "stream",
     "text": [
      "ERROR (theano.sandbox.cuda): ERROR: Not using GPU. Initialisation of device 1 failed:\n",
      "initCnmem: cnmemInit call failed! Reason=CNMEM_STATUS_OUT_OF_MEMORY. numdev=1\n",
      "\n",
      "Using Theano backend.\n",
      "Using gpu device 0: GRID K520 (CNMeM is enabled with initial size: 98.0% of memory, CuDNN 3007)\n"
     ]
    },
    {
     "name": "stdout",
     "output_type": "stream",
     "text": [
      "Train on 896 samples, validate on 100 samples\n",
      "Epoch 1/20\n",
      "896/896 [==============================] - 28s - loss: 3.9286 - acc: 0.0156 - val_loss: 3.9246 - val_acc: 0.0200\n",
      "Epoch 2/20\n",
      "896/896 [==============================] - 28s - loss: 3.9139 - acc: 0.0190 - val_loss: 3.9206 - val_acc: 0.0000e+00\n",
      "Epoch 3/20\n",
      "896/896 [==============================] - 28s - loss: 3.9071 - acc: 0.0246 - val_loss: 3.9282 - val_acc: 0.0000e+00\n",
      "Epoch 4/20\n",
      "896/896 [==============================] - 28s - loss: 3.9050 - acc: 0.0301 - val_loss: 3.9327 - val_acc: 0.0000e+00\n",
      "Epoch 5/20\n",
      "896/896 [==============================] - 28s - loss: 3.8968 - acc: 0.0324 - val_loss: 3.9241 - val_acc: 0.0500\n",
      "Epoch 6/20\n",
      "896/896 [==============================] - 28s - loss: 3.8920 - acc: 0.0301 - val_loss: 3.9293 - val_acc: 0.0100\n",
      "Epoch 7/20\n",
      "896/896 [==============================] - 28s - loss: 3.8666 - acc: 0.0424 - val_loss: 3.9292 - val_acc: 0.0100\n",
      "Epoch 8/20\n",
      "896/896 [==============================] - 28s - loss: 3.8411 - acc: 0.0525 - val_loss: 3.8750 - val_acc: 0.0400\n",
      "Epoch 9/20\n",
      "896/896 [==============================] - 28s - loss: 3.8142 - acc: 0.0603 - val_loss: 3.9159 - val_acc: 0.0100\n",
      "Epoch 10/20\n",
      "896/896 [==============================] - 28s - loss: 3.7452 - acc: 0.0804 - val_loss: 3.8275 - val_acc: 0.0500\n",
      "Epoch 11/20\n",
      "896/896 [==============================] - 28s - loss: 3.6423 - acc: 0.1083 - val_loss: 3.7243 - val_acc: 0.0800\n",
      "Epoch 12/20\n",
      "896/896 [==============================] - 28s - loss: 3.4690 - acc: 0.1272 - val_loss: 3.5346 - val_acc: 0.0800\n",
      "Epoch 13/20\n",
      "896/896 [==============================] - 28s - loss: 3.2128 - acc: 0.1998 - val_loss: 3.2443 - val_acc: 0.2200\n",
      "Epoch 14/20\n",
      "896/896 [==============================] - 28s - loss: 2.7627 - acc: 0.2812 - val_loss: 2.6641 - val_acc: 0.3300\n",
      "Epoch 15/20\n",
      "896/896 [==============================] - 28s - loss: 2.3900 - acc: 0.3549 - val_loss: 2.3342 - val_acc: 0.3400\n",
      "Epoch 16/20\n",
      "896/896 [==============================] - 28s - loss: 1.9505 - acc: 0.4688 - val_loss: 1.8982 - val_acc: 0.4700\n",
      "Epoch 17/20\n",
      "896/896 [==============================] - 28s - loss: 1.4616 - acc: 0.5871 - val_loss: 1.5816 - val_acc: 0.5000\n",
      "Epoch 18/20\n",
      "896/896 [==============================] - 28s - loss: 1.2658 - acc: 0.6172 - val_loss: 1.3914 - val_acc: 0.6300\n",
      "Epoch 19/20\n",
      "896/896 [==============================] - 28s - loss: 0.7923 - acc: 0.7712 - val_loss: 0.9739 - val_acc: 0.7300\n",
      "Epoch 20/20\n",
      "896/896 [==============================] - 28s - loss: 0.5480 - acc: 0.8493 - val_loss: 0.5904 - val_acc: 0.8200\n",
      "Train on 896 samples, validate on 100 samples\n",
      "Epoch 1/20\n",
      "896/896 [==============================] - 28s - loss: 0.1990 - acc: 0.9420 - val_loss: 0.3640 - val_acc: 0.9200\n",
      "Epoch 2/20\n",
      "896/896 [==============================] - 28s - loss: 0.1108 - acc: 0.9777 - val_loss: 0.3053 - val_acc: 0.9300\n",
      "Epoch 3/20\n",
      "896/896 [==============================] - 28s - loss: 0.0958 - acc: 0.9754 - val_loss: 0.2729 - val_acc: 0.9400\n",
      "Epoch 4/20\n",
      "896/896 [==============================] - 28s - loss: 0.0787 - acc: 0.9844 - val_loss: 0.2466 - val_acc: 0.9400\n",
      "Epoch 5/20\n",
      "896/896 [==============================] - 28s - loss: 0.0570 - acc: 0.9922 - val_loss: 0.2322 - val_acc: 0.9600\n",
      "Epoch 6/20\n",
      "896/896 [==============================] - 28s - loss: 0.0631 - acc: 0.9844 - val_loss: 0.2219 - val_acc: 0.9800\n",
      "Epoch 7/20\n",
      "896/896 [==============================] - 28s - loss: 0.0459 - acc: 0.9900 - val_loss: 0.2111 - val_acc: 0.9800\n",
      "Epoch 8/20\n",
      "896/896 [==============================] - 28s - loss: 0.0504 - acc: 0.9833 - val_loss: 0.2078 - val_acc: 0.9800\n",
      "Epoch 9/20\n",
      "896/896 [==============================] - 28s - loss: 0.0437 - acc: 0.9877 - val_loss: 0.2188 - val_acc: 0.9800\n",
      "Epoch 10/20\n",
      "896/896 [==============================] - 28s - loss: 0.0407 - acc: 0.9944 - val_loss: 0.2226 - val_acc: 0.9800\n",
      "Epoch 11/20\n",
      "896/896 [==============================] - 28s - loss: 0.0356 - acc: 0.9900 - val_loss: 0.2225 - val_acc: 0.9800\n",
      "Epoch 12/20\n",
      "896/896 [==============================] - 28s - loss: 0.0314 - acc: 0.9955 - val_loss: 0.2216 - val_acc: 0.9800\n",
      "Epoch 13/20\n",
      "896/896 [==============================] - 28s - loss: 0.0209 - acc: 0.9967 - val_loss: 0.2194 - val_acc: 0.9800\n",
      "Epoch 14/20\n",
      "896/896 [==============================] - 28s - loss: 0.0385 - acc: 0.9900 - val_loss: 0.2115 - val_acc: 0.9800\n",
      "Epoch 15/20\n",
      "896/896 [==============================] - 28s - loss: 0.0234 - acc: 0.9922 - val_loss: 0.2168 - val_acc: 0.9800\n",
      "Epoch 16/20\n",
      "896/896 [==============================] - 28s - loss: 0.0191 - acc: 0.9978 - val_loss: 0.2110 - val_acc: 0.9800\n",
      "Epoch 17/20\n",
      "896/896 [==============================] - 28s - loss: 0.0301 - acc: 0.9911 - val_loss: 0.2130 - val_acc: 0.9800\n",
      "Epoch 18/20\n",
      "896/896 [==============================] - 28s - loss: 0.0221 - acc: 0.9955 - val_loss: 0.2095 - val_acc: 0.9800\n",
      "Epoch 19/20\n",
      "896/896 [==============================] - 28s - loss: 0.0203 - acc: 0.9955 - val_loss: 0.2203 - val_acc: 0.9800\n",
      "Epoch 20/20\n",
      "896/896 [==============================] - 28s - loss: 0.0268 - acc: 0.9955 - val_loss: 0.2173 - val_acc: 0.9800\n"
     ]
    }
   ],
   "source": [
    "api.train()"
   ]
  },
  {
   "cell_type": "code",
   "execution_count": 8,
   "metadata": {
    "collapsed": false
   },
   "outputs": [
    {
     "name": "stderr",
     "output_type": "stream",
     "text": [
      "Using Theano backend.\n"
     ]
    }
   ],
   "source": [
    "api.load_model()"
   ]
  },
  {
   "cell_type": "code",
   "execution_count": 12,
   "metadata": {
    "collapsed": false
   },
   "outputs": [
    {
     "name": "stdout",
     "output_type": "stream",
     "text": [
      "1/1 [==============================] - 0s\n",
      "0.268247246742\n",
      "1/1 [==============================] - 0s\n",
      "1.26210334201e-05\n",
      "1/1 [==============================] - 0s\n",
      "0.0208898987621\n",
      "1/1 [==============================] - 0s\n",
      "0.272602647543\n",
      "1/1 [==============================] - 0s\n",
      "0.0698141977191\n",
      "1/1 [==============================] - 0s\n",
      "5.08139646627e-06\n",
      "1/1 [==============================] - 0s\n",
      "0.132662400603\n",
      "1/1 [==============================] - 0s\n",
      "0.00255408184603\n",
      "1/1 [==============================] - 0s\n",
      "8.33885569591e-05\n",
      "1/1 [==============================] - 0s\n",
      "0.00015637667093\n",
      "1/1 [==============================] - 0s\n",
      "0.000302132772049\n",
      "1/1 [==============================] - 0s\n",
      "1.1601343175e-07\n",
      "1/1 [==============================] - 0s\n",
      "0.000142581775435\n",
      "1/1 [==============================] - 0s\n",
      "0.000404626742238\n",
      "1/1 [==============================] - 0s\n",
      "0.00183081859723\n",
      "1/1 [==============================] - 0s\n",
      "0.0274424366653\n",
      "1/1 [==============================] - 0s\n",
      "0.0036577405408\n",
      "1/1 [==============================] - 0s\n",
      "6.32174703696e-08\n",
      "1/1 [==============================] - 0s\n",
      "0.000359732715879\n",
      "1/1 [==============================] - 0s\n",
      "0.00410849973559\n",
      "1/1 [==============================] - 0s\n",
      "0.000859245716128\n",
      "1/1 [==============================] - 0s\n",
      "0.00058010983048\n",
      "1/1 [==============================] - 0s\n",
      "5.14771418239e-05\n",
      "1/1 [==============================] - 0s\n",
      "0.0386569537222\n",
      "1/1 [==============================] - 0s\n",
      "0.00813006237149\n",
      "1/1 [==============================] - 0s\n",
      "0.0165642555803\n",
      "1/1 [==============================] - 0s\n",
      "0.0241678319871\n",
      "1/1 [==============================] - 0s\n",
      "4.68378061669e-07\n",
      "1/1 [==============================] - 0s\n",
      "3.34028845828e-06\n",
      "1/1 [==============================] - 0s\n",
      "4.2432770897e-06\n",
      "1/1 [==============================] - 0s\n",
      "0.0291013605893\n",
      "1/1 [==============================] - 0s\n",
      "8.1403668446e-05\n",
      "1/1 [==============================] - 0s\n",
      "4.3343345169e-05\n",
      "1/1 [==============================] - 0s\n",
      "8.30995850265e-05\n",
      "1/1 [==============================] - 0s\n",
      "3.54490430254e-06\n",
      "1/1 [==============================] - 0s\n",
      "1.20443769447e-06\n",
      "1/1 [==============================] - 0s\n",
      "1.92683201021e-05\n",
      "1/1 [==============================] - 0s\n",
      "0.000533078389708\n",
      "1/1 [==============================] - 0s\n",
      "7.8028140706e-05\n",
      "1/1 [==============================] - 0s\n",
      "0.00011683061166\n",
      "1/1 [==============================] - 0s\n",
      "0.000184761040146\n",
      "1/1 [==============================] - 0s\n",
      "0.0186357907951\n",
      "1/1 [==============================] - 0s\n",
      "0.00303259305656\n",
      "1/1 [==============================] - 0s\n",
      "6.19640604782e-06\n",
      "1/1 [==============================] - 0s\n",
      "0.0533677898347\n",
      "1/1 [==============================] - 0s\n",
      "5.90804957028e-05\n",
      "1/1 [==============================] - 0s\n",
      "0.000103996651887\n",
      "1/1 [==============================] - 0s\n",
      "2.71404928753e-07\n",
      "1/1 [==============================] - 0s\n",
      "0.000147464306792\n",
      "1/1 [==============================] - 0s\n",
      "0.000106230610982\n"
     ]
    }
   ],
   "source": [
    "for i in range(50):\n",
    "    print api.compute_score(sorted_names_by_count[i][0], image.format(sorted_names_by_count[0][0], str(6).zfill(4)))"
   ]
  },
  {
   "cell_type": "code",
   "execution_count": 10,
   "metadata": {
    "collapsed": false
   },
   "outputs": [
    {
     "data": {
      "text/plain": [
       "'George_W_Bush'"
      ]
     },
     "execution_count": 10,
     "metadata": {},
     "output_type": "execute_result"
    }
   ],
   "source": [
    "sorted_names_by_count[0][0]"
   ]
  },
  {
   "cell_type": "code",
   "execution_count": null,
   "metadata": {
    "collapsed": true
   },
   "outputs": [],
   "source": []
  }
 ],
 "metadata": {
  "kernelspec": {
   "display_name": "Python 2",
   "language": "python",
   "name": "python2"
  },
  "language_info": {
   "codemirror_mode": {
    "name": "ipython",
    "version": 2
   },
   "file_extension": ".py",
   "mimetype": "text/x-python",
   "name": "python",
   "nbconvert_exporter": "python",
   "pygments_lexer": "ipython2",
   "version": "2.7.6"
  }
 },
 "nbformat": 4,
 "nbformat_minor": 0
}
